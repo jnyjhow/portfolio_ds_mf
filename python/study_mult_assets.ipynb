{
 "cells": [
  {
   "cell_type": "markdown",
   "id": "34505ebd-387d-4470-893c-c739731291bc",
   "metadata": {},
   "source": [
    "## Importando bibliotecas"
   ]
  },
  {
   "cell_type": "code",
   "execution_count": null,
   "id": "f6c11388-1fee-4854-8fbe-a2fcbcd4ae23",
   "metadata": {},
   "outputs": [],
   "source": [
    "#importando as bibliotecas\n",
    "import pandas as pd\n",
    "import numpy as np\n",
    "import plotly.express as px\n",
    "import plotly.graph_objects as go\n",
    "from plotly.subplots import make_subplots\n",
    "import seaborn as sns\n",
    "from datetime import date, datetime\n",
    "import yfinance as yf\n",
    "\n",
    "import matplotlib.pyplot as plt"
   ]
  },
  {
   "cell_type": "markdown",
   "id": "bdbe6b61-de94-4b39-9bbb-79897e7087fe",
   "metadata": {},
   "source": [
    "## Verificando estrutura do data frame"
   ]
  },
  {
   "cell_type": "code",
   "execution_count": null,
   "id": "75e3ce65-3ab7-4657-8998-b1dc1d5b1db0",
   "metadata": {},
   "outputs": [],
   "source": []
  }
 ],
 "metadata": {
  "kernelspec": {
   "display_name": "Python 3 (ipykernel)",
   "language": "python",
   "name": "python3"
  },
  "language_info": {
   "codemirror_mode": {
    "name": "ipython",
    "version": 3
   },
   "file_extension": ".py",
   "mimetype": "text/x-python",
   "name": "python",
   "nbconvert_exporter": "python",
   "pygments_lexer": "ipython3",
   "version": "3.9.12"
  }
 },
 "nbformat": 4,
 "nbformat_minor": 5
}
