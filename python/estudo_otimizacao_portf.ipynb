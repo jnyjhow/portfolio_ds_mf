{
 "cells": [
  {
   "cell_type": "markdown",
   "id": "c51b9e24-74f7-41c3-938b-d08039d17b25",
   "metadata": {},
   "source": [
    "# Importando bibliotecas"
   ]
  },
  {
   "cell_type": "code",
   "execution_count": 6,
   "id": "f99ed554-c287-4de8-a856-edb992182bef",
   "metadata": {},
   "outputs": [],
   "source": [
    "import yfinance as yf\n",
    "import pandas as pd\n",
    "import numpy as np\n",
    "import plotly.express as px\n",
    "import plotly.graph_objects as go\n",
    "import matplotlib.pyplot as plt\n",
    "import bt\n",
    "import seaborn as sns\n",
    "import plotly.figure_factory as ff\n",
    "import statsmodels.api as sm\n",
    "import pyfolio as pf\n",
    "import random\n",
    "import pypfopt\n",
    "\n",
    "from plotly.subplots import make_subplots\n",
    "from pypfopt import EfficientFrontier, risk_models, expected_returns, objective_functions, plotting\n",
    "from pypfopt.discrete_allocation import DiscreteAllocation\n",
    "from scipy import stats\n",
    "\n",
    "from datetime import datetime, date\n",
    "from scipy.optimize import minimize\n",
    "from finquant.portfolio import build_portfolio\n",
    "\n",
    "from pypfopt import black_litterman, BlackLittermanModel\n",
    "\n",
    "%matplotlib inline"
   ]
  },
  {
   "cell_type": "code",
   "execution_count": 7,
   "id": "4f89c296-3ebe-4b4e-846e-58510a146afa",
   "metadata": {},
   "outputs": [],
   "source": [
    "import warnings\n",
    "warnings.filterwarnings('ignore')"
   ]
  },
  {
   "cell_type": "code",
   "execution_count": 8,
   "id": "5fd6d441-889c-426c-b8e5-645b3f718c3c",
   "metadata": {},
   "outputs": [],
   "source": [
    "#chamando funcao\n",
    "import functions as aux"
   ]
  },
  {
   "cell_type": "markdown",
   "id": "6fe53941-3b46-45ac-8252-401ee52f9041",
   "metadata": {},
   "source": [
    "# Verificando estrutura do data frame"
   ]
  },
  {
   "cell_type": "code",
   "execution_count": 9,
   "id": "9d077a33-bf62-497d-8c9d-d530f06014f0",
   "metadata": {},
   "outputs": [],
   "source": [
    "carteira_teorica = 'ibov'\n",
    "url = f'../result/db_matriz_preco_ct_b3_{carteira_teorica}.csv'"
   ]
  },
  {
   "cell_type": "code",
   "execution_count": null,
   "id": "f7e21465-0171-48c3-80fc-cafa897f0035",
   "metadata": {},
   "outputs": [],
   "source": []
  }
 ],
 "metadata": {
  "kernelspec": {
   "display_name": "Python 3 (ipykernel)",
   "language": "python",
   "name": "python3"
  },
  "language_info": {
   "codemirror_mode": {
    "name": "ipython",
    "version": 3
   },
   "file_extension": ".py",
   "mimetype": "text/x-python",
   "name": "python",
   "nbconvert_exporter": "python",
   "pygments_lexer": "ipython3",
   "version": "3.9.12"
  }
 },
 "nbformat": 4,
 "nbformat_minor": 5
}
