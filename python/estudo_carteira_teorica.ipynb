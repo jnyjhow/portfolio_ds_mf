{
 "cells": [
  {
   "cell_type": "markdown",
   "id": "2090051d",
   "metadata": {},
   "source": [
    "## Importando bibliotecas"
   ]
  },
  {
   "cell_type": "code",
   "execution_count": 2,
   "id": "d1584d9b",
   "metadata": {},
   "outputs": [],
   "source": [
    "import pandas as pd\n",
    "import numpy as np\n",
    "import plotly.express as px\n",
    "\n",
    "import vectorbt as vbt\n",
    "from datetime import datetime\n",
    "\n",
    "import seaborn as sns\n",
    "sns.set()\n",
    "import matplotlib.pyplot as plt"
   ]
  },
  {
   "cell_type": "markdown",
   "id": "f3fe2925",
   "metadata": {},
   "source": [
    "## Verificando estrutura do data frame"
   ]
  },
  {
   "cell_type": "code",
   "execution_count": 3,
   "id": "684d9a9c",
   "metadata": {},
   "outputs": [],
   "source": [
    "#definindo nome da carteira teorica que será utilizada\n",
    "carteira_teorica = 'ibov'\n",
    "url = f'../result/db_ct_{carteira_teorica}_mod_setor.csv'"
   ]
  },
  {
   "cell_type": "code",
   "execution_count": 4,
   "id": "b4664135",
   "metadata": {},
   "outputs": [],
   "source": [
    "#abrindo o arquivo .csv\n",
    "df = pd.read_csv(url)"
   ]
  },
  {
   "cell_type": "code",
   "execution_count": 5,
   "id": "5621acab",
   "metadata": {},
   "outputs": [
    {
     "data": {
      "text/plain": [
       "Index(['ATIVO', 'NOME_EMPRESA', 'TIPO', 'QTD_TEORICA', 'PORC_PART', 'setor',\n",
       "       'sub_setor', 'segmento', 'REDUTOR', 'PROPORCAO_QTD', 'DATA_REF',\n",
       "       'DATE_UPDATE', 'CARTEIRA_TEORICA'],\n",
       "      dtype='object')"
      ]
     },
     "execution_count": 5,
     "metadata": {},
     "output_type": "execute_result"
    }
   ],
   "source": [
    "#verificando nome das colunas\n",
    "df.columns"
   ]
  },
  {
   "cell_type": "code",
   "execution_count": 6,
   "id": "53549a18",
   "metadata": {},
   "outputs": [
    {
     "data": {
      "text/plain": [
       "array(['petroleo_gas_e_biocombustiveis', 'consumo_ciclico',\n",
       "       'consumo_nao_ciclico', 'OTHERS', 'bens_industriais', 'financeiro',\n",
       "       'materiais_basicos', 'utilidade_publica', 'saude',\n",
       "       'tecnologia_da_informacao', 'comunicacoes'], dtype=object)"
      ]
     },
     "execution_count": 6,
     "metadata": {},
     "output_type": "execute_result"
    }
   ],
   "source": [
    "#verificando setor\n",
    "df['setor'].unique()"
   ]
  },
  {
   "cell_type": "code",
   "execution_count": 7,
   "id": "f30b4ea5",
   "metadata": {},
   "outputs": [
    {
     "data": {
      "text/plain": [
       "array(['petroleo_gas_e_biocombustiveis', 'tecidos_vestuario_e_calcados',\n",
       "       'bebidas', 'OTHERS', 'transporte', 'servicos_financeiros_diversos',\n",
       "       'intermediarios_financeiros', 'previdencia_e_seguros',\n",
       "       'exploracao_de_imoveis', 'mineracao', 'quimicos',\n",
       "       'alimentos_processados', 'comercio_e_distribuicao',\n",
       "       'energia_eletrica', 'diversos', 'viagens_e_lazer',\n",
       "       'construcao_civil', 'material_de_transporte',\n",
       "       'servicos_medico__hospitalares_analises_e_diagnosticos',\n",
       "       'siderurgia_e_metalurgia', 'produtos_de_uso_pessoal_e_de_limpeza',\n",
       "       'comercio', 'madeira_e_papel', 'programas_e_servicos',\n",
       "       'computadores_e_equipamentos', 'agua_e_saneamento', 'agropecuaria',\n",
       "       'telecomunicacoes', 'maquinas_e_equipamentos'], dtype=object)"
      ]
     },
     "execution_count": 7,
     "metadata": {},
     "output_type": "execute_result"
    }
   ],
   "source": [
    "#verificando sub-setor\n",
    "df['sub_setor'].unique()"
   ]
  },
  {
   "cell_type": "code",
   "execution_count": 8,
   "id": "eaa76223",
   "metadata": {},
   "outputs": [
    {
     "data": {
      "text/html": [
       "<div>\n",
       "<style scoped>\n",
       "    .dataframe tbody tr th:only-of-type {\n",
       "        vertical-align: middle;\n",
       "    }\n",
       "\n",
       "    .dataframe tbody tr th {\n",
       "        vertical-align: top;\n",
       "    }\n",
       "\n",
       "    .dataframe thead th {\n",
       "        text-align: right;\n",
       "    }\n",
       "</style>\n",
       "<table border=\"1\" class=\"dataframe\">\n",
       "  <thead>\n",
       "    <tr style=\"text-align: right;\">\n",
       "      <th></th>\n",
       "      <th>ATIVO</th>\n",
       "      <th>NOME_EMPRESA</th>\n",
       "      <th>TIPO</th>\n",
       "      <th>QTD_TEORICA</th>\n",
       "      <th>PORC_PART</th>\n",
       "      <th>setor</th>\n",
       "      <th>sub_setor</th>\n",
       "      <th>segmento</th>\n",
       "      <th>REDUTOR</th>\n",
       "      <th>PROPORCAO_QTD</th>\n",
       "      <th>DATA_REF</th>\n",
       "      <th>DATE_UPDATE</th>\n",
       "      <th>CARTEIRA_TEORICA</th>\n",
       "    </tr>\n",
       "  </thead>\n",
       "  <tbody>\n",
       "    <tr>\n",
       "      <th>0</th>\n",
       "      <td>RRRP3</td>\n",
       "      <td>3R PETROLEUM</td>\n",
       "      <td>ON      NM</td>\n",
       "      <td>200372163</td>\n",
       "      <td>0.336</td>\n",
       "      <td>petroleo_gas_e_biocombustiveis</td>\n",
       "      <td>petroleo_gas_e_biocombustiveis</td>\n",
       "      <td>exploracao_refino_e_distribuicao</td>\n",
       "      <td>1.860243e+07</td>\n",
       "      <td>10.771290</td>\n",
       "      <td>2022-08-11</td>\n",
       "      <td>2022-08-11</td>\n",
       "      <td>CARTEIRA_TEORICA_B3_IBOV</td>\n",
       "    </tr>\n",
       "    <tr>\n",
       "      <th>1</th>\n",
       "      <td>ALPA4</td>\n",
       "      <td>ALPARGATAS</td>\n",
       "      <td>PN      N1</td>\n",
       "      <td>201257220</td>\n",
       "      <td>0.193</td>\n",
       "      <td>consumo_ciclico</td>\n",
       "      <td>tecidos_vestuario_e_calcados</td>\n",
       "      <td>calcados</td>\n",
       "      <td>1.860243e+07</td>\n",
       "      <td>10.818868</td>\n",
       "      <td>2022-08-11</td>\n",
       "      <td>2022-08-11</td>\n",
       "      <td>CARTEIRA_TEORICA_B3_IBOV</td>\n",
       "    </tr>\n",
       "    <tr>\n",
       "      <th>2</th>\n",
       "      <td>ABEV3</td>\n",
       "      <td>AMBEV S/A</td>\n",
       "      <td>ON</td>\n",
       "      <td>4380195841</td>\n",
       "      <td>3.238</td>\n",
       "      <td>consumo_nao_ciclico</td>\n",
       "      <td>bebidas</td>\n",
       "      <td>cervejas_e_refrigerantes</td>\n",
       "      <td>1.860243e+07</td>\n",
       "      <td>235.463645</td>\n",
       "      <td>2022-08-11</td>\n",
       "      <td>2022-08-11</td>\n",
       "      <td>CARTEIRA_TEORICA_B3_IBOV</td>\n",
       "    </tr>\n",
       "    <tr>\n",
       "      <th>3</th>\n",
       "      <td>AMER3</td>\n",
       "      <td>AMERICANAS</td>\n",
       "      <td>ON      NM</td>\n",
       "      <td>596875824</td>\n",
       "      <td>0.427</td>\n",
       "      <td>OTHERS</td>\n",
       "      <td>OTHERS</td>\n",
       "      <td>OTHERS</td>\n",
       "      <td>1.860243e+07</td>\n",
       "      <td>32.085907</td>\n",
       "      <td>2022-08-11</td>\n",
       "      <td>2022-08-11</td>\n",
       "      <td>CARTEIRA_TEORICA_B3_IBOV</td>\n",
       "    </tr>\n",
       "    <tr>\n",
       "      <th>4</th>\n",
       "      <td>ASAI3</td>\n",
       "      <td>ASSAI</td>\n",
       "      <td>ON      NM</td>\n",
       "      <td>794531367</td>\n",
       "      <td>0.680</td>\n",
       "      <td>OTHERS</td>\n",
       "      <td>OTHERS</td>\n",
       "      <td>OTHERS</td>\n",
       "      <td>1.860243e+07</td>\n",
       "      <td>42.711161</td>\n",
       "      <td>2022-08-11</td>\n",
       "      <td>2022-08-11</td>\n",
       "      <td>CARTEIRA_TEORICA_B3_IBOV</td>\n",
       "    </tr>\n",
       "  </tbody>\n",
       "</table>\n",
       "</div>"
      ],
      "text/plain": [
       "   ATIVO  NOME_EMPRESA        TIPO  QTD_TEORICA  PORC_PART  \\\n",
       "0  RRRP3  3R PETROLEUM  ON      NM    200372163      0.336   \n",
       "1  ALPA4    ALPARGATAS  PN      N1    201257220      0.193   \n",
       "2  ABEV3     AMBEV S/A          ON   4380195841      3.238   \n",
       "3  AMER3    AMERICANAS  ON      NM    596875824      0.427   \n",
       "4  ASAI3         ASSAI  ON      NM    794531367      0.680   \n",
       "\n",
       "                            setor                       sub_setor  \\\n",
       "0  petroleo_gas_e_biocombustiveis  petroleo_gas_e_biocombustiveis   \n",
       "1                 consumo_ciclico    tecidos_vestuario_e_calcados   \n",
       "2             consumo_nao_ciclico                         bebidas   \n",
       "3                          OTHERS                          OTHERS   \n",
       "4                          OTHERS                          OTHERS   \n",
       "\n",
       "                           segmento       REDUTOR  PROPORCAO_QTD    DATA_REF  \\\n",
       "0  exploracao_refino_e_distribuicao  1.860243e+07      10.771290  2022-08-11   \n",
       "1                          calcados  1.860243e+07      10.818868  2022-08-11   \n",
       "2          cervejas_e_refrigerantes  1.860243e+07     235.463645  2022-08-11   \n",
       "3                            OTHERS  1.860243e+07      32.085907  2022-08-11   \n",
       "4                            OTHERS  1.860243e+07      42.711161  2022-08-11   \n",
       "\n",
       "  DATE_UPDATE          CARTEIRA_TEORICA  \n",
       "0  2022-08-11  CARTEIRA_TEORICA_B3_IBOV  \n",
       "1  2022-08-11  CARTEIRA_TEORICA_B3_IBOV  \n",
       "2  2022-08-11  CARTEIRA_TEORICA_B3_IBOV  \n",
       "3  2022-08-11  CARTEIRA_TEORICA_B3_IBOV  \n",
       "4  2022-08-11  CARTEIRA_TEORICA_B3_IBOV  "
      ]
     },
     "execution_count": 8,
     "metadata": {},
     "output_type": "execute_result"
    }
   ],
   "source": [
    "#verificando as primeiras linhas do df\n",
    "df.head()"
   ]
  },
  {
   "cell_type": "markdown",
   "id": "26934705",
   "metadata": {},
   "source": [
    "## Gerando gráficos interativos"
   ]
  },
  {
   "cell_type": "markdown",
   "id": "4e057cdc",
   "metadata": {},
   "source": [
    "#### O gráfico abaixo representa o quanto cada ativo corresponde em % na carteira teórica em seu respectivo setor e sub-setor."
   ]
  },
  {
   "cell_type": "code",
   "execution_count": 10,
   "id": "3aabf875",
   "metadata": {},
   "outputs": [
    {
     "name": "stderr",
     "output_type": "stream",
     "text": [
      "D:\\anaconda3\\lib\\site-packages\\plotly\\express\\_core.py:1637: FutureWarning:\n",
      "\n",
      "The frame.append method is deprecated and will be removed from pandas in a future version. Use pandas.concat instead.\n",
      "\n",
      "D:\\anaconda3\\lib\\site-packages\\plotly\\express\\_core.py:1637: FutureWarning:\n",
      "\n",
      "The frame.append method is deprecated and will be removed from pandas in a future version. Use pandas.concat instead.\n",
      "\n",
      "D:\\anaconda3\\lib\\site-packages\\plotly\\express\\_core.py:1637: FutureWarning:\n",
      "\n",
      "The frame.append method is deprecated and will be removed from pandas in a future version. Use pandas.concat instead.\n",
      "\n"
     ]
    },
    {
     "data": {
      "application/vnd.plotly.v1+json": {
       "config": {
        "plotlyServerURL": "https://plot.ly"
       },
       "data": [
        {
         "branchvalues": "total",
         "domain": {
          "x": [
           0,
           1
          ],
          "y": [
           0,
           1
          ]
         },
         "hovertemplate": "<b>%{label}:</b> %{value:.2f}%",
         "ids": [
          "consumo_nao_ciclico/bebidas/ABEV3",
          "consumo_ciclico/tecidos_vestuario_e_calcados/ALPA4",
          "OTHERS/OTHERS/AMER3",
          "OTHERS/OTHERS/ASAI3",
          "bens_industriais/transporte/AZUL4",
          "financeiro/servicos_financeiros_diversos/B3SA3",
          "financeiro/intermediarios_financeiros/BBAS3",
          "financeiro/intermediarios_financeiros/BBDC3",
          "financeiro/intermediarios_financeiros/BBDC4",
          "financeiro/previdencia_e_seguros/BBSE3",
          "consumo_nao_ciclico/alimentos_processados/BEEF3",
          "OTHERS/OTHERS/BPAC11",
          "financeiro/intermediarios_financeiros/BPAN4",
          "materiais_basicos/mineracao/BRAP4",
          "consumo_nao_ciclico/alimentos_processados/BRFS3",
          "materiais_basicos/quimicos/BRKM5",
          "financeiro/exploracao_de_imoveis/BRML3",
          "tecnologia_da_informacao/programas_e_servicos/CASH3",
          "bens_industriais/transporte/CCRO3",
          "financeiro/servicos_financeiros_diversos/CIEL3",
          "utilidade_publica/energia_eletrica/CMIG4",
          "OTHERS/OTHERS/CMIN3",
          "consumo_ciclico/diversos/COGN3",
          "utilidade_publica/energia_eletrica/CPFE3",
          "utilidade_publica/energia_eletrica/CPLE6",
          "consumo_nao_ciclico/comercio_e_distribuicao/CRFB3",
          "petroleo_gas_e_biocombustiveis/petroleo_gas_e_biocombustiveis/CSAN3",
          "OTHERS/OTHERS/CSNA3",
          "consumo_ciclico/viagens_e_lazer/CVCB3",
          "consumo_ciclico/construcao_civil/CYRE3",
          "OTHERS/OTHERS/DXCO3",
          "bens_industriais/transporte/ECOR3",
          "utilidade_publica/energia_eletrica/EGIE3",
          "utilidade_publica/energia_eletrica/ELET3",
          "utilidade_publica/energia_eletrica/ELET6",
          "bens_industriais/material_de_transporte/EMBR3",
          "utilidade_publica/energia_eletrica/ENBR3",
          "utilidade_publica/energia_eletrica/ENEV3",
          "utilidade_publica/energia_eletrica/ENGI11",
          "utilidade_publica/energia_eletrica/EQTL3",
          "consumo_ciclico/construcao_civil/EZTC3",
          "saude/servicos_medico__hospitalares_analises_e_diagnosticos/FLRY3",
          "materiais_basicos/siderurgia_e_metalurgia/GGBR4",
          "materiais_basicos/siderurgia_e_metalurgia/GOAU4",
          "bens_industriais/transporte/GOLL4",
          "saude/servicos_medico__hospitalares_analises_e_diagnosticos/HAPV3",
          "saude/comercio_e_distribuicao/HYPE3",
          "financeiro/exploracao_de_imoveis/IGTI11",
          "financeiro/previdencia_e_seguros/IRBR3",
          "financeiro/intermediarios_financeiros/ITSA4",
          "financeiro/intermediarios_financeiros/ITUB4",
          "consumo_nao_ciclico/alimentos_processados/JBSS3",
          "consumo_ciclico/construcao_civil/JHSF3",
          "materiais_basicos/madeira_e_papel/KLBN11",
          "consumo_ciclico/comercio/LREN3",
          "tecnologia_da_informacao/programas_e_servicos/LWSA3",
          "consumo_ciclico/comercio/MGLU3",
          "consumo_nao_ciclico/alimentos_processados/MRFG3",
          "consumo_ciclico/construcao_civil/MRVE3",
          "financeiro/exploracao_de_imoveis/MULT3",
          "consumo_nao_ciclico/produtos_de_uso_pessoal_e_de_limpeza/NTCO3",
          "consumo_nao_ciclico/comercio_e_distribuicao/PCAR3",
          "petroleo_gas_e_biocombustiveis/petroleo_gas_e_biocombustiveis/PETR3",
          "petroleo_gas_e_biocombustiveis/petroleo_gas_e_biocombustiveis/PETR4",
          "consumo_ciclico/comercio/PETZ3",
          "tecnologia_da_informacao/computadores_e_equipamentos/POSI3",
          "petroleo_gas_e_biocombustiveis/petroleo_gas_e_biocombustiveis/PRIO3",
          "saude/servicos_medico__hospitalares_analises_e_diagnosticos/QUAL3",
          "saude/comercio_e_distribuicao/RADL3",
          "bens_industriais/transporte/RAIL3",
          "saude/servicos_medico__hospitalares_analises_e_diagnosticos/RDOR3",
          "consumo_ciclico/diversos/RENT3",
          "petroleo_gas_e_biocombustiveis/petroleo_gas_e_biocombustiveis/RRRP3",
          "financeiro/intermediarios_financeiros/SANB11",
          "utilidade_publica/agua_e_saneamento/SBSP3",
          "consumo_nao_ciclico/agropecuaria/SLCE3",
          "consumo_ciclico/comercio/SOMA3",
          "financeiro/previdencia_e_seguros/SULA11",
          "materiais_basicos/madeira_e_papel/SUZB3",
          "utilidade_publica/energia_eletrica/TAEE11",
          "comunicacoes/telecomunicacoes/TIMS3",
          "tecnologia_da_informacao/programas_e_servicos/TOTS3",
          "petroleo_gas_e_biocombustiveis/petroleo_gas_e_biocombustiveis/UGPA3",
          "materiais_basicos/siderurgia_e_metalurgia/USIM5",
          "materiais_basicos/mineracao/VALE3",
          "petroleo_gas_e_biocombustiveis/petroleo_gas_e_biocombustiveis/VBBR3",
          "consumo_ciclico/comercio/VIIA3",
          "comunicacoes/telecomunicacoes/VIVT3",
          "bens_industriais/maquinas_e_equipamentos/WEGE3",
          "consumo_ciclico/diversos/YDUQ3",
          "OTHERS/OTHERS",
          "consumo_nao_ciclico/agropecuaria",
          "utilidade_publica/agua_e_saneamento",
          "consumo_nao_ciclico/alimentos_processados",
          "consumo_nao_ciclico/bebidas",
          "consumo_ciclico/comercio",
          "consumo_nao_ciclico/comercio_e_distribuicao",
          "saude/comercio_e_distribuicao",
          "tecnologia_da_informacao/computadores_e_equipamentos",
          "consumo_ciclico/construcao_civil",
          "consumo_ciclico/diversos",
          "utilidade_publica/energia_eletrica",
          "financeiro/exploracao_de_imoveis",
          "financeiro/intermediarios_financeiros",
          "materiais_basicos/madeira_e_papel",
          "bens_industriais/maquinas_e_equipamentos",
          "bens_industriais/material_de_transporte",
          "materiais_basicos/mineracao",
          "petroleo_gas_e_biocombustiveis/petroleo_gas_e_biocombustiveis",
          "financeiro/previdencia_e_seguros",
          "consumo_nao_ciclico/produtos_de_uso_pessoal_e_de_limpeza",
          "tecnologia_da_informacao/programas_e_servicos",
          "materiais_basicos/quimicos",
          "financeiro/servicos_financeiros_diversos",
          "saude/servicos_medico__hospitalares_analises_e_diagnosticos",
          "materiais_basicos/siderurgia_e_metalurgia",
          "consumo_ciclico/tecidos_vestuario_e_calcados",
          "comunicacoes/telecomunicacoes",
          "bens_industriais/transporte",
          "consumo_ciclico/viagens_e_lazer",
          "OTHERS",
          "bens_industriais",
          "comunicacoes",
          "consumo_ciclico",
          "consumo_nao_ciclico",
          "financeiro",
          "materiais_basicos",
          "petroleo_gas_e_biocombustiveis",
          "saude",
          "tecnologia_da_informacao",
          "utilidade_publica"
         ],
         "labels": [
          "ABEV3",
          "ALPA4",
          "AMER3",
          "ASAI3",
          "AZUL4",
          "B3SA3",
          "BBAS3",
          "BBDC3",
          "BBDC4",
          "BBSE3",
          "BEEF3",
          "BPAC11",
          "BPAN4",
          "BRAP4",
          "BRFS3",
          "BRKM5",
          "BRML3",
          "CASH3",
          "CCRO3",
          "CIEL3",
          "CMIG4",
          "CMIN3",
          "COGN3",
          "CPFE3",
          "CPLE6",
          "CRFB3",
          "CSAN3",
          "CSNA3",
          "CVCB3",
          "CYRE3",
          "DXCO3",
          "ECOR3",
          "EGIE3",
          "ELET3",
          "ELET6",
          "EMBR3",
          "ENBR3",
          "ENEV3",
          "ENGI11",
          "EQTL3",
          "EZTC3",
          "FLRY3",
          "GGBR4",
          "GOAU4",
          "GOLL4",
          "HAPV3",
          "HYPE3",
          "IGTI11",
          "IRBR3",
          "ITSA4",
          "ITUB4",
          "JBSS3",
          "JHSF3",
          "KLBN11",
          "LREN3",
          "LWSA3",
          "MGLU3",
          "MRFG3",
          "MRVE3",
          "MULT3",
          "NTCO3",
          "PCAR3",
          "PETR3",
          "PETR4",
          "PETZ3",
          "POSI3",
          "PRIO3",
          "QUAL3",
          "RADL3",
          "RAIL3",
          "RDOR3",
          "RENT3",
          "RRRP3",
          "SANB11",
          "SBSP3",
          "SLCE3",
          "SOMA3",
          "SULA11",
          "SUZB3",
          "TAEE11",
          "TIMS3",
          "TOTS3",
          "UGPA3",
          "USIM5",
          "VALE3",
          "VBBR3",
          "VIIA3",
          "VIVT3",
          "WEGE3",
          "YDUQ3",
          "OTHERS",
          "agropecuaria",
          "agua_e_saneamento",
          "alimentos_processados",
          "bebidas",
          "comercio",
          "comercio_e_distribuicao",
          "comercio_e_distribuicao",
          "computadores_e_equipamentos",
          "construcao_civil",
          "diversos",
          "energia_eletrica",
          "exploracao_de_imoveis",
          "intermediarios_financeiros",
          "madeira_e_papel",
          "maquinas_e_equipamentos",
          "material_de_transporte",
          "mineracao",
          "petroleo_gas_e_biocombustiveis",
          "previdencia_e_seguros",
          "produtos_de_uso_pessoal_e_de_limpeza",
          "programas_e_servicos",
          "quimicos",
          "servicos_financeiros_diversos",
          "servicos_medico__hospitalares_analises_e_diagnosticos",
          "siderurgia_e_metalurgia",
          "tecidos_vestuario_e_calcados",
          "telecomunicacoes",
          "transporte",
          "viagens_e_lazer",
          "OTHERS",
          "bens_industriais",
          "comunicacoes",
          "consumo_ciclico",
          "consumo_nao_ciclico",
          "financeiro",
          "materiais_basicos",
          "petroleo_gas_e_biocombustiveis",
          "saude",
          "tecnologia_da_informacao",
          "utilidade_publica"
         ],
         "name": "",
         "parents": [
          "consumo_nao_ciclico/bebidas",
          "consumo_ciclico/tecidos_vestuario_e_calcados",
          "OTHERS/OTHERS",
          "OTHERS/OTHERS",
          "bens_industriais/transporte",
          "financeiro/servicos_financeiros_diversos",
          "financeiro/intermediarios_financeiros",
          "financeiro/intermediarios_financeiros",
          "financeiro/intermediarios_financeiros",
          "financeiro/previdencia_e_seguros",
          "consumo_nao_ciclico/alimentos_processados",
          "OTHERS/OTHERS",
          "financeiro/intermediarios_financeiros",
          "materiais_basicos/mineracao",
          "consumo_nao_ciclico/alimentos_processados",
          "materiais_basicos/quimicos",
          "financeiro/exploracao_de_imoveis",
          "tecnologia_da_informacao/programas_e_servicos",
          "bens_industriais/transporte",
          "financeiro/servicos_financeiros_diversos",
          "utilidade_publica/energia_eletrica",
          "OTHERS/OTHERS",
          "consumo_ciclico/diversos",
          "utilidade_publica/energia_eletrica",
          "utilidade_publica/energia_eletrica",
          "consumo_nao_ciclico/comercio_e_distribuicao",
          "petroleo_gas_e_biocombustiveis/petroleo_gas_e_biocombustiveis",
          "OTHERS/OTHERS",
          "consumo_ciclico/viagens_e_lazer",
          "consumo_ciclico/construcao_civil",
          "OTHERS/OTHERS",
          "bens_industriais/transporte",
          "utilidade_publica/energia_eletrica",
          "utilidade_publica/energia_eletrica",
          "utilidade_publica/energia_eletrica",
          "bens_industriais/material_de_transporte",
          "utilidade_publica/energia_eletrica",
          "utilidade_publica/energia_eletrica",
          "utilidade_publica/energia_eletrica",
          "utilidade_publica/energia_eletrica",
          "consumo_ciclico/construcao_civil",
          "saude/servicos_medico__hospitalares_analises_e_diagnosticos",
          "materiais_basicos/siderurgia_e_metalurgia",
          "materiais_basicos/siderurgia_e_metalurgia",
          "bens_industriais/transporte",
          "saude/servicos_medico__hospitalares_analises_e_diagnosticos",
          "saude/comercio_e_distribuicao",
          "financeiro/exploracao_de_imoveis",
          "financeiro/previdencia_e_seguros",
          "financeiro/intermediarios_financeiros",
          "financeiro/intermediarios_financeiros",
          "consumo_nao_ciclico/alimentos_processados",
          "consumo_ciclico/construcao_civil",
          "materiais_basicos/madeira_e_papel",
          "consumo_ciclico/comercio",
          "tecnologia_da_informacao/programas_e_servicos",
          "consumo_ciclico/comercio",
          "consumo_nao_ciclico/alimentos_processados",
          "consumo_ciclico/construcao_civil",
          "financeiro/exploracao_de_imoveis",
          "consumo_nao_ciclico/produtos_de_uso_pessoal_e_de_limpeza",
          "consumo_nao_ciclico/comercio_e_distribuicao",
          "petroleo_gas_e_biocombustiveis/petroleo_gas_e_biocombustiveis",
          "petroleo_gas_e_biocombustiveis/petroleo_gas_e_biocombustiveis",
          "consumo_ciclico/comercio",
          "tecnologia_da_informacao/computadores_e_equipamentos",
          "petroleo_gas_e_biocombustiveis/petroleo_gas_e_biocombustiveis",
          "saude/servicos_medico__hospitalares_analises_e_diagnosticos",
          "saude/comercio_e_distribuicao",
          "bens_industriais/transporte",
          "saude/servicos_medico__hospitalares_analises_e_diagnosticos",
          "consumo_ciclico/diversos",
          "petroleo_gas_e_biocombustiveis/petroleo_gas_e_biocombustiveis",
          "financeiro/intermediarios_financeiros",
          "utilidade_publica/agua_e_saneamento",
          "consumo_nao_ciclico/agropecuaria",
          "consumo_ciclico/comercio",
          "financeiro/previdencia_e_seguros",
          "materiais_basicos/madeira_e_papel",
          "utilidade_publica/energia_eletrica",
          "comunicacoes/telecomunicacoes",
          "tecnologia_da_informacao/programas_e_servicos",
          "petroleo_gas_e_biocombustiveis/petroleo_gas_e_biocombustiveis",
          "materiais_basicos/siderurgia_e_metalurgia",
          "materiais_basicos/mineracao",
          "petroleo_gas_e_biocombustiveis/petroleo_gas_e_biocombustiveis",
          "consumo_ciclico/comercio",
          "comunicacoes/telecomunicacoes",
          "bens_industriais/maquinas_e_equipamentos",
          "consumo_ciclico/diversos",
          "OTHERS",
          "consumo_nao_ciclico",
          "utilidade_publica",
          "consumo_nao_ciclico",
          "consumo_nao_ciclico",
          "consumo_ciclico",
          "consumo_nao_ciclico",
          "saude",
          "tecnologia_da_informacao",
          "consumo_ciclico",
          "consumo_ciclico",
          "utilidade_publica",
          "financeiro",
          "financeiro",
          "materiais_basicos",
          "bens_industriais",
          "bens_industriais",
          "materiais_basicos",
          "petroleo_gas_e_biocombustiveis",
          "financeiro",
          "consumo_nao_ciclico",
          "tecnologia_da_informacao",
          "materiais_basicos",
          "financeiro",
          "saude",
          "materiais_basicos",
          "consumo_ciclico",
          "comunicacoes",
          "bens_industriais",
          "consumo_ciclico",
          "",
          "",
          "",
          "",
          "",
          "",
          "",
          "",
          "",
          "",
          ""
         ],
         "textfont": {
          "color": "white",
          "size": 14
         },
         "type": "sunburst",
         "values": [
          3.238,
          0.193,
          0.427,
          0.68,
          0.234,
          3.612,
          2.769,
          1.172,
          4.814,
          0.965,
          0.163,
          1.654,
          0.123,
          0.281,
          0.901,
          0.476,
          0.357,
          0.034,
          0.767,
          0.287,
          0.863,
          0.212,
          0.235,
          0.309,
          0.547,
          0.413,
          1.2,
          0.492,
          0.095,
          0.208,
          0.161,
          0.107,
          0.534,
          2.306,
          0.592,
          0.508,
          0.257,
          1.188,
          0.548,
          1.367,
          0.094,
          0.243,
          1.358,
          0.362,
          0.087,
          1.488,
          0.86,
          0.19,
          0.149,
          2.16,
          6.15,
          1.923,
          0.095,
          0.782,
          1.334,
          0.188,
          0.465,
          0.219,
          0.163,
          0.346,
          0.66,
          0.133,
          5.241,
          8.264,
          0.185,
          0.032,
          1.015,
          0.157,
          1.17,
          1.091,
          1.344,
          2.291,
          0.336,
          0.534,
          0.782,
          0.207,
          0.282,
          0.365,
          1.737,
          0.46,
          0.509,
          0.766,
          0.743,
          0.229,
          12.874,
          1.024,
          0.23,
          0.936,
          2.222,
          0.236,
          3.626,
          0.207,
          0.782,
          3.206,
          3.238,
          2.496,
          0.546,
          2.03,
          0.032,
          0.56,
          2.7619999999999996,
          8.971,
          0.893,
          17.722,
          2.519,
          2.222,
          0.508,
          13.155000000000001,
          17.823,
          1.479,
          0.66,
          0.988,
          0.476,
          3.899,
          3.232,
          1.949,
          0.193,
          1.445,
          2.286,
          0.095,
          3.626,
          5.016,
          1.445,
          6.106,
          7.857,
          23.993000000000002,
          18.099,
          17.823,
          5.262,
          1.02,
          9.753
         ]
        }
       ],
       "layout": {
        "height": 800,
        "legend": {
         "tracegroupgap": 0
        },
        "margin": {
         "t": 60
        },
        "template": {
         "data": {
          "bar": [
           {
            "error_x": {
             "color": "#2a3f5f"
            },
            "error_y": {
             "color": "#2a3f5f"
            },
            "marker": {
             "line": {
              "color": "#E5ECF6",
              "width": 0.5
             },
             "pattern": {
              "fillmode": "overlay",
              "size": 10,
              "solidity": 0.2
             }
            },
            "type": "bar"
           }
          ],
          "barpolar": [
           {
            "marker": {
             "line": {
              "color": "#E5ECF6",
              "width": 0.5
             },
             "pattern": {
              "fillmode": "overlay",
              "size": 10,
              "solidity": 0.2
             }
            },
            "type": "barpolar"
           }
          ],
          "carpet": [
           {
            "aaxis": {
             "endlinecolor": "#2a3f5f",
             "gridcolor": "white",
             "linecolor": "white",
             "minorgridcolor": "white",
             "startlinecolor": "#2a3f5f"
            },
            "baxis": {
             "endlinecolor": "#2a3f5f",
             "gridcolor": "white",
             "linecolor": "white",
             "minorgridcolor": "white",
             "startlinecolor": "#2a3f5f"
            },
            "type": "carpet"
           }
          ],
          "choropleth": [
           {
            "colorbar": {
             "outlinewidth": 0,
             "ticks": ""
            },
            "type": "choropleth"
           }
          ],
          "contour": [
           {
            "colorbar": {
             "outlinewidth": 0,
             "ticks": ""
            },
            "colorscale": [
             [
              0,
              "#0d0887"
             ],
             [
              0.1111111111111111,
              "#46039f"
             ],
             [
              0.2222222222222222,
              "#7201a8"
             ],
             [
              0.3333333333333333,
              "#9c179e"
             ],
             [
              0.4444444444444444,
              "#bd3786"
             ],
             [
              0.5555555555555556,
              "#d8576b"
             ],
             [
              0.6666666666666666,
              "#ed7953"
             ],
             [
              0.7777777777777778,
              "#fb9f3a"
             ],
             [
              0.8888888888888888,
              "#fdca26"
             ],
             [
              1,
              "#f0f921"
             ]
            ],
            "type": "contour"
           }
          ],
          "contourcarpet": [
           {
            "colorbar": {
             "outlinewidth": 0,
             "ticks": ""
            },
            "type": "contourcarpet"
           }
          ],
          "heatmap": [
           {
            "colorbar": {
             "outlinewidth": 0,
             "ticks": ""
            },
            "colorscale": [
             [
              0,
              "#0d0887"
             ],
             [
              0.1111111111111111,
              "#46039f"
             ],
             [
              0.2222222222222222,
              "#7201a8"
             ],
             [
              0.3333333333333333,
              "#9c179e"
             ],
             [
              0.4444444444444444,
              "#bd3786"
             ],
             [
              0.5555555555555556,
              "#d8576b"
             ],
             [
              0.6666666666666666,
              "#ed7953"
             ],
             [
              0.7777777777777778,
              "#fb9f3a"
             ],
             [
              0.8888888888888888,
              "#fdca26"
             ],
             [
              1,
              "#f0f921"
             ]
            ],
            "type": "heatmap"
           }
          ],
          "heatmapgl": [
           {
            "colorbar": {
             "outlinewidth": 0,
             "ticks": ""
            },
            "colorscale": [
             [
              0,
              "#0d0887"
             ],
             [
              0.1111111111111111,
              "#46039f"
             ],
             [
              0.2222222222222222,
              "#7201a8"
             ],
             [
              0.3333333333333333,
              "#9c179e"
             ],
             [
              0.4444444444444444,
              "#bd3786"
             ],
             [
              0.5555555555555556,
              "#d8576b"
             ],
             [
              0.6666666666666666,
              "#ed7953"
             ],
             [
              0.7777777777777778,
              "#fb9f3a"
             ],
             [
              0.8888888888888888,
              "#fdca26"
             ],
             [
              1,
              "#f0f921"
             ]
            ],
            "type": "heatmapgl"
           }
          ],
          "histogram": [
           {
            "marker": {
             "pattern": {
              "fillmode": "overlay",
              "size": 10,
              "solidity": 0.2
             }
            },
            "type": "histogram"
           }
          ],
          "histogram2d": [
           {
            "colorbar": {
             "outlinewidth": 0,
             "ticks": ""
            },
            "colorscale": [
             [
              0,
              "#0d0887"
             ],
             [
              0.1111111111111111,
              "#46039f"
             ],
             [
              0.2222222222222222,
              "#7201a8"
             ],
             [
              0.3333333333333333,
              "#9c179e"
             ],
             [
              0.4444444444444444,
              "#bd3786"
             ],
             [
              0.5555555555555556,
              "#d8576b"
             ],
             [
              0.6666666666666666,
              "#ed7953"
             ],
             [
              0.7777777777777778,
              "#fb9f3a"
             ],
             [
              0.8888888888888888,
              "#fdca26"
             ],
             [
              1,
              "#f0f921"
             ]
            ],
            "type": "histogram2d"
           }
          ],
          "histogram2dcontour": [
           {
            "colorbar": {
             "outlinewidth": 0,
             "ticks": ""
            },
            "colorscale": [
             [
              0,
              "#0d0887"
             ],
             [
              0.1111111111111111,
              "#46039f"
             ],
             [
              0.2222222222222222,
              "#7201a8"
             ],
             [
              0.3333333333333333,
              "#9c179e"
             ],
             [
              0.4444444444444444,
              "#bd3786"
             ],
             [
              0.5555555555555556,
              "#d8576b"
             ],
             [
              0.6666666666666666,
              "#ed7953"
             ],
             [
              0.7777777777777778,
              "#fb9f3a"
             ],
             [
              0.8888888888888888,
              "#fdca26"
             ],
             [
              1,
              "#f0f921"
             ]
            ],
            "type": "histogram2dcontour"
           }
          ],
          "mesh3d": [
           {
            "colorbar": {
             "outlinewidth": 0,
             "ticks": ""
            },
            "type": "mesh3d"
           }
          ],
          "parcoords": [
           {
            "line": {
             "colorbar": {
              "outlinewidth": 0,
              "ticks": ""
             }
            },
            "type": "parcoords"
           }
          ],
          "pie": [
           {
            "automargin": true,
            "type": "pie"
           }
          ],
          "scatter": [
           {
            "marker": {
             "colorbar": {
              "outlinewidth": 0,
              "ticks": ""
             }
            },
            "type": "scatter"
           }
          ],
          "scatter3d": [
           {
            "line": {
             "colorbar": {
              "outlinewidth": 0,
              "ticks": ""
             }
            },
            "marker": {
             "colorbar": {
              "outlinewidth": 0,
              "ticks": ""
             }
            },
            "type": "scatter3d"
           }
          ],
          "scattercarpet": [
           {
            "marker": {
             "colorbar": {
              "outlinewidth": 0,
              "ticks": ""
             }
            },
            "type": "scattercarpet"
           }
          ],
          "scattergeo": [
           {
            "marker": {
             "colorbar": {
              "outlinewidth": 0,
              "ticks": ""
             }
            },
            "type": "scattergeo"
           }
          ],
          "scattergl": [
           {
            "marker": {
             "colorbar": {
              "outlinewidth": 0,
              "ticks": ""
             }
            },
            "type": "scattergl"
           }
          ],
          "scattermapbox": [
           {
            "marker": {
             "colorbar": {
              "outlinewidth": 0,
              "ticks": ""
             }
            },
            "type": "scattermapbox"
           }
          ],
          "scatterpolar": [
           {
            "marker": {
             "colorbar": {
              "outlinewidth": 0,
              "ticks": ""
             }
            },
            "type": "scatterpolar"
           }
          ],
          "scatterpolargl": [
           {
            "marker": {
             "colorbar": {
              "outlinewidth": 0,
              "ticks": ""
             }
            },
            "type": "scatterpolargl"
           }
          ],
          "scatterternary": [
           {
            "marker": {
             "colorbar": {
              "outlinewidth": 0,
              "ticks": ""
             }
            },
            "type": "scatterternary"
           }
          ],
          "surface": [
           {
            "colorbar": {
             "outlinewidth": 0,
             "ticks": ""
            },
            "colorscale": [
             [
              0,
              "#0d0887"
             ],
             [
              0.1111111111111111,
              "#46039f"
             ],
             [
              0.2222222222222222,
              "#7201a8"
             ],
             [
              0.3333333333333333,
              "#9c179e"
             ],
             [
              0.4444444444444444,
              "#bd3786"
             ],
             [
              0.5555555555555556,
              "#d8576b"
             ],
             [
              0.6666666666666666,
              "#ed7953"
             ],
             [
              0.7777777777777778,
              "#fb9f3a"
             ],
             [
              0.8888888888888888,
              "#fdca26"
             ],
             [
              1,
              "#f0f921"
             ]
            ],
            "type": "surface"
           }
          ],
          "table": [
           {
            "cells": {
             "fill": {
              "color": "#EBF0F8"
             },
             "line": {
              "color": "white"
             }
            },
            "header": {
             "fill": {
              "color": "#C8D4E3"
             },
             "line": {
              "color": "white"
             }
            },
            "type": "table"
           }
          ]
         },
         "layout": {
          "annotationdefaults": {
           "arrowcolor": "#2a3f5f",
           "arrowhead": 0,
           "arrowwidth": 1
          },
          "autotypenumbers": "strict",
          "coloraxis": {
           "colorbar": {
            "outlinewidth": 0,
            "ticks": ""
           }
          },
          "colorscale": {
           "diverging": [
            [
             0,
             "#8e0152"
            ],
            [
             0.1,
             "#c51b7d"
            ],
            [
             0.2,
             "#de77ae"
            ],
            [
             0.3,
             "#f1b6da"
            ],
            [
             0.4,
             "#fde0ef"
            ],
            [
             0.5,
             "#f7f7f7"
            ],
            [
             0.6,
             "#e6f5d0"
            ],
            [
             0.7,
             "#b8e186"
            ],
            [
             0.8,
             "#7fbc41"
            ],
            [
             0.9,
             "#4d9221"
            ],
            [
             1,
             "#276419"
            ]
           ],
           "sequential": [
            [
             0,
             "#0d0887"
            ],
            [
             0.1111111111111111,
             "#46039f"
            ],
            [
             0.2222222222222222,
             "#7201a8"
            ],
            [
             0.3333333333333333,
             "#9c179e"
            ],
            [
             0.4444444444444444,
             "#bd3786"
            ],
            [
             0.5555555555555556,
             "#d8576b"
            ],
            [
             0.6666666666666666,
             "#ed7953"
            ],
            [
             0.7777777777777778,
             "#fb9f3a"
            ],
            [
             0.8888888888888888,
             "#fdca26"
            ],
            [
             1,
             "#f0f921"
            ]
           ],
           "sequentialminus": [
            [
             0,
             "#0d0887"
            ],
            [
             0.1111111111111111,
             "#46039f"
            ],
            [
             0.2222222222222222,
             "#7201a8"
            ],
            [
             0.3333333333333333,
             "#9c179e"
            ],
            [
             0.4444444444444444,
             "#bd3786"
            ],
            [
             0.5555555555555556,
             "#d8576b"
            ],
            [
             0.6666666666666666,
             "#ed7953"
            ],
            [
             0.7777777777777778,
             "#fb9f3a"
            ],
            [
             0.8888888888888888,
             "#fdca26"
            ],
            [
             1,
             "#f0f921"
            ]
           ]
          },
          "colorway": [
           "#636efa",
           "#EF553B",
           "#00cc96",
           "#ab63fa",
           "#FFA15A",
           "#19d3f3",
           "#FF6692",
           "#B6E880",
           "#FF97FF",
           "#FECB52"
          ],
          "font": {
           "color": "#2a3f5f"
          },
          "geo": {
           "bgcolor": "white",
           "lakecolor": "white",
           "landcolor": "#E5ECF6",
           "showlakes": true,
           "showland": true,
           "subunitcolor": "white"
          },
          "hoverlabel": {
           "align": "left"
          },
          "hovermode": "closest",
          "mapbox": {
           "style": "light"
          },
          "paper_bgcolor": "white",
          "plot_bgcolor": "#E5ECF6",
          "polar": {
           "angularaxis": {
            "gridcolor": "white",
            "linecolor": "white",
            "ticks": ""
           },
           "bgcolor": "#E5ECF6",
           "radialaxis": {
            "gridcolor": "white",
            "linecolor": "white",
            "ticks": ""
           }
          },
          "scene": {
           "xaxis": {
            "backgroundcolor": "#E5ECF6",
            "gridcolor": "white",
            "gridwidth": 2,
            "linecolor": "white",
            "showbackground": true,
            "ticks": "",
            "zerolinecolor": "white"
           },
           "yaxis": {
            "backgroundcolor": "#E5ECF6",
            "gridcolor": "white",
            "gridwidth": 2,
            "linecolor": "white",
            "showbackground": true,
            "ticks": "",
            "zerolinecolor": "white"
           },
           "zaxis": {
            "backgroundcolor": "#E5ECF6",
            "gridcolor": "white",
            "gridwidth": 2,
            "linecolor": "white",
            "showbackground": true,
            "ticks": "",
            "zerolinecolor": "white"
           }
          },
          "shapedefaults": {
           "line": {
            "color": "#2a3f5f"
           }
          },
          "ternary": {
           "aaxis": {
            "gridcolor": "white",
            "linecolor": "white",
            "ticks": ""
           },
           "baxis": {
            "gridcolor": "white",
            "linecolor": "white",
            "ticks": ""
           },
           "bgcolor": "#E5ECF6",
           "caxis": {
            "gridcolor": "white",
            "linecolor": "white",
            "ticks": ""
           }
          },
          "title": {
           "x": 0.05
          },
          "xaxis": {
           "automargin": true,
           "gridcolor": "white",
           "linecolor": "white",
           "ticks": "",
           "title": {
            "standoff": 15
           },
           "zerolinecolor": "white",
           "zerolinewidth": 2
          },
          "yaxis": {
           "automargin": true,
           "gridcolor": "white",
           "linecolor": "white",
           "ticks": "",
           "title": {
            "standoff": 15
           },
           "zerolinecolor": "white",
           "zerolinewidth": 2
          }
         }
        }
       }
      },
      "text/html": [
       "<div>                            <div id=\"f0eadd90-aee5-44ce-b6a6-fe5c005fb7f2\" class=\"plotly-graph-div\" style=\"height:800px; width:100%;\"></div>            <script type=\"text/javascript\">                require([\"plotly\"], function(Plotly) {                    window.PLOTLYENV=window.PLOTLYENV || {};                                    if (document.getElementById(\"f0eadd90-aee5-44ce-b6a6-fe5c005fb7f2\")) {                    Plotly.newPlot(                        \"f0eadd90-aee5-44ce-b6a6-fe5c005fb7f2\",                        [{\"branchvalues\":\"total\",\"domain\":{\"x\":[0.0,1.0],\"y\":[0.0,1.0]},\"hovertemplate\":\"<b>%{label}:</b> %{value:.2f}%\",\"ids\":[\"consumo_nao_ciclico/bebidas/ABEV3\",\"consumo_ciclico/tecidos_vestuario_e_calcados/ALPA4\",\"OTHERS/OTHERS/AMER3\",\"OTHERS/OTHERS/ASAI3\",\"bens_industriais/transporte/AZUL4\",\"financeiro/servicos_financeiros_diversos/B3SA3\",\"financeiro/intermediarios_financeiros/BBAS3\",\"financeiro/intermediarios_financeiros/BBDC3\",\"financeiro/intermediarios_financeiros/BBDC4\",\"financeiro/previdencia_e_seguros/BBSE3\",\"consumo_nao_ciclico/alimentos_processados/BEEF3\",\"OTHERS/OTHERS/BPAC11\",\"financeiro/intermediarios_financeiros/BPAN4\",\"materiais_basicos/mineracao/BRAP4\",\"consumo_nao_ciclico/alimentos_processados/BRFS3\",\"materiais_basicos/quimicos/BRKM5\",\"financeiro/exploracao_de_imoveis/BRML3\",\"tecnologia_da_informacao/programas_e_servicos/CASH3\",\"bens_industriais/transporte/CCRO3\",\"financeiro/servicos_financeiros_diversos/CIEL3\",\"utilidade_publica/energia_eletrica/CMIG4\",\"OTHERS/OTHERS/CMIN3\",\"consumo_ciclico/diversos/COGN3\",\"utilidade_publica/energia_eletrica/CPFE3\",\"utilidade_publica/energia_eletrica/CPLE6\",\"consumo_nao_ciclico/comercio_e_distribuicao/CRFB3\",\"petroleo_gas_e_biocombustiveis/petroleo_gas_e_biocombustiveis/CSAN3\",\"OTHERS/OTHERS/CSNA3\",\"consumo_ciclico/viagens_e_lazer/CVCB3\",\"consumo_ciclico/construcao_civil/CYRE3\",\"OTHERS/OTHERS/DXCO3\",\"bens_industriais/transporte/ECOR3\",\"utilidade_publica/energia_eletrica/EGIE3\",\"utilidade_publica/energia_eletrica/ELET3\",\"utilidade_publica/energia_eletrica/ELET6\",\"bens_industriais/material_de_transporte/EMBR3\",\"utilidade_publica/energia_eletrica/ENBR3\",\"utilidade_publica/energia_eletrica/ENEV3\",\"utilidade_publica/energia_eletrica/ENGI11\",\"utilidade_publica/energia_eletrica/EQTL3\",\"consumo_ciclico/construcao_civil/EZTC3\",\"saude/servicos_medico__hospitalares_analises_e_diagnosticos/FLRY3\",\"materiais_basicos/siderurgia_e_metalurgia/GGBR4\",\"materiais_basicos/siderurgia_e_metalurgia/GOAU4\",\"bens_industriais/transporte/GOLL4\",\"saude/servicos_medico__hospitalares_analises_e_diagnosticos/HAPV3\",\"saude/comercio_e_distribuicao/HYPE3\",\"financeiro/exploracao_de_imoveis/IGTI11\",\"financeiro/previdencia_e_seguros/IRBR3\",\"financeiro/intermediarios_financeiros/ITSA4\",\"financeiro/intermediarios_financeiros/ITUB4\",\"consumo_nao_ciclico/alimentos_processados/JBSS3\",\"consumo_ciclico/construcao_civil/JHSF3\",\"materiais_basicos/madeira_e_papel/KLBN11\",\"consumo_ciclico/comercio/LREN3\",\"tecnologia_da_informacao/programas_e_servicos/LWSA3\",\"consumo_ciclico/comercio/MGLU3\",\"consumo_nao_ciclico/alimentos_processados/MRFG3\",\"consumo_ciclico/construcao_civil/MRVE3\",\"financeiro/exploracao_de_imoveis/MULT3\",\"consumo_nao_ciclico/produtos_de_uso_pessoal_e_de_limpeza/NTCO3\",\"consumo_nao_ciclico/comercio_e_distribuicao/PCAR3\",\"petroleo_gas_e_biocombustiveis/petroleo_gas_e_biocombustiveis/PETR3\",\"petroleo_gas_e_biocombustiveis/petroleo_gas_e_biocombustiveis/PETR4\",\"consumo_ciclico/comercio/PETZ3\",\"tecnologia_da_informacao/computadores_e_equipamentos/POSI3\",\"petroleo_gas_e_biocombustiveis/petroleo_gas_e_biocombustiveis/PRIO3\",\"saude/servicos_medico__hospitalares_analises_e_diagnosticos/QUAL3\",\"saude/comercio_e_distribuicao/RADL3\",\"bens_industriais/transporte/RAIL3\",\"saude/servicos_medico__hospitalares_analises_e_diagnosticos/RDOR3\",\"consumo_ciclico/diversos/RENT3\",\"petroleo_gas_e_biocombustiveis/petroleo_gas_e_biocombustiveis/RRRP3\",\"financeiro/intermediarios_financeiros/SANB11\",\"utilidade_publica/agua_e_saneamento/SBSP3\",\"consumo_nao_ciclico/agropecuaria/SLCE3\",\"consumo_ciclico/comercio/SOMA3\",\"financeiro/previdencia_e_seguros/SULA11\",\"materiais_basicos/madeira_e_papel/SUZB3\",\"utilidade_publica/energia_eletrica/TAEE11\",\"comunicacoes/telecomunicacoes/TIMS3\",\"tecnologia_da_informacao/programas_e_servicos/TOTS3\",\"petroleo_gas_e_biocombustiveis/petroleo_gas_e_biocombustiveis/UGPA3\",\"materiais_basicos/siderurgia_e_metalurgia/USIM5\",\"materiais_basicos/mineracao/VALE3\",\"petroleo_gas_e_biocombustiveis/petroleo_gas_e_biocombustiveis/VBBR3\",\"consumo_ciclico/comercio/VIIA3\",\"comunicacoes/telecomunicacoes/VIVT3\",\"bens_industriais/maquinas_e_equipamentos/WEGE3\",\"consumo_ciclico/diversos/YDUQ3\",\"OTHERS/OTHERS\",\"consumo_nao_ciclico/agropecuaria\",\"utilidade_publica/agua_e_saneamento\",\"consumo_nao_ciclico/alimentos_processados\",\"consumo_nao_ciclico/bebidas\",\"consumo_ciclico/comercio\",\"consumo_nao_ciclico/comercio_e_distribuicao\",\"saude/comercio_e_distribuicao\",\"tecnologia_da_informacao/computadores_e_equipamentos\",\"consumo_ciclico/construcao_civil\",\"consumo_ciclico/diversos\",\"utilidade_publica/energia_eletrica\",\"financeiro/exploracao_de_imoveis\",\"financeiro/intermediarios_financeiros\",\"materiais_basicos/madeira_e_papel\",\"bens_industriais/maquinas_e_equipamentos\",\"bens_industriais/material_de_transporte\",\"materiais_basicos/mineracao\",\"petroleo_gas_e_biocombustiveis/petroleo_gas_e_biocombustiveis\",\"financeiro/previdencia_e_seguros\",\"consumo_nao_ciclico/produtos_de_uso_pessoal_e_de_limpeza\",\"tecnologia_da_informacao/programas_e_servicos\",\"materiais_basicos/quimicos\",\"financeiro/servicos_financeiros_diversos\",\"saude/servicos_medico__hospitalares_analises_e_diagnosticos\",\"materiais_basicos/siderurgia_e_metalurgia\",\"consumo_ciclico/tecidos_vestuario_e_calcados\",\"comunicacoes/telecomunicacoes\",\"bens_industriais/transporte\",\"consumo_ciclico/viagens_e_lazer\",\"OTHERS\",\"bens_industriais\",\"comunicacoes\",\"consumo_ciclico\",\"consumo_nao_ciclico\",\"financeiro\",\"materiais_basicos\",\"petroleo_gas_e_biocombustiveis\",\"saude\",\"tecnologia_da_informacao\",\"utilidade_publica\"],\"labels\":[\"ABEV3\",\"ALPA4\",\"AMER3\",\"ASAI3\",\"AZUL4\",\"B3SA3\",\"BBAS3\",\"BBDC3\",\"BBDC4\",\"BBSE3\",\"BEEF3\",\"BPAC11\",\"BPAN4\",\"BRAP4\",\"BRFS3\",\"BRKM5\",\"BRML3\",\"CASH3\",\"CCRO3\",\"CIEL3\",\"CMIG4\",\"CMIN3\",\"COGN3\",\"CPFE3\",\"CPLE6\",\"CRFB3\",\"CSAN3\",\"CSNA3\",\"CVCB3\",\"CYRE3\",\"DXCO3\",\"ECOR3\",\"EGIE3\",\"ELET3\",\"ELET6\",\"EMBR3\",\"ENBR3\",\"ENEV3\",\"ENGI11\",\"EQTL3\",\"EZTC3\",\"FLRY3\",\"GGBR4\",\"GOAU4\",\"GOLL4\",\"HAPV3\",\"HYPE3\",\"IGTI11\",\"IRBR3\",\"ITSA4\",\"ITUB4\",\"JBSS3\",\"JHSF3\",\"KLBN11\",\"LREN3\",\"LWSA3\",\"MGLU3\",\"MRFG3\",\"MRVE3\",\"MULT3\",\"NTCO3\",\"PCAR3\",\"PETR3\",\"PETR4\",\"PETZ3\",\"POSI3\",\"PRIO3\",\"QUAL3\",\"RADL3\",\"RAIL3\",\"RDOR3\",\"RENT3\",\"RRRP3\",\"SANB11\",\"SBSP3\",\"SLCE3\",\"SOMA3\",\"SULA11\",\"SUZB3\",\"TAEE11\",\"TIMS3\",\"TOTS3\",\"UGPA3\",\"USIM5\",\"VALE3\",\"VBBR3\",\"VIIA3\",\"VIVT3\",\"WEGE3\",\"YDUQ3\",\"OTHERS\",\"agropecuaria\",\"agua_e_saneamento\",\"alimentos_processados\",\"bebidas\",\"comercio\",\"comercio_e_distribuicao\",\"comercio_e_distribuicao\",\"computadores_e_equipamentos\",\"construcao_civil\",\"diversos\",\"energia_eletrica\",\"exploracao_de_imoveis\",\"intermediarios_financeiros\",\"madeira_e_papel\",\"maquinas_e_equipamentos\",\"material_de_transporte\",\"mineracao\",\"petroleo_gas_e_biocombustiveis\",\"previdencia_e_seguros\",\"produtos_de_uso_pessoal_e_de_limpeza\",\"programas_e_servicos\",\"quimicos\",\"servicos_financeiros_diversos\",\"servicos_medico__hospitalares_analises_e_diagnosticos\",\"siderurgia_e_metalurgia\",\"tecidos_vestuario_e_calcados\",\"telecomunicacoes\",\"transporte\",\"viagens_e_lazer\",\"OTHERS\",\"bens_industriais\",\"comunicacoes\",\"consumo_ciclico\",\"consumo_nao_ciclico\",\"financeiro\",\"materiais_basicos\",\"petroleo_gas_e_biocombustiveis\",\"saude\",\"tecnologia_da_informacao\",\"utilidade_publica\"],\"name\":\"\",\"parents\":[\"consumo_nao_ciclico/bebidas\",\"consumo_ciclico/tecidos_vestuario_e_calcados\",\"OTHERS/OTHERS\",\"OTHERS/OTHERS\",\"bens_industriais/transporte\",\"financeiro/servicos_financeiros_diversos\",\"financeiro/intermediarios_financeiros\",\"financeiro/intermediarios_financeiros\",\"financeiro/intermediarios_financeiros\",\"financeiro/previdencia_e_seguros\",\"consumo_nao_ciclico/alimentos_processados\",\"OTHERS/OTHERS\",\"financeiro/intermediarios_financeiros\",\"materiais_basicos/mineracao\",\"consumo_nao_ciclico/alimentos_processados\",\"materiais_basicos/quimicos\",\"financeiro/exploracao_de_imoveis\",\"tecnologia_da_informacao/programas_e_servicos\",\"bens_industriais/transporte\",\"financeiro/servicos_financeiros_diversos\",\"utilidade_publica/energia_eletrica\",\"OTHERS/OTHERS\",\"consumo_ciclico/diversos\",\"utilidade_publica/energia_eletrica\",\"utilidade_publica/energia_eletrica\",\"consumo_nao_ciclico/comercio_e_distribuicao\",\"petroleo_gas_e_biocombustiveis/petroleo_gas_e_biocombustiveis\",\"OTHERS/OTHERS\",\"consumo_ciclico/viagens_e_lazer\",\"consumo_ciclico/construcao_civil\",\"OTHERS/OTHERS\",\"bens_industriais/transporte\",\"utilidade_publica/energia_eletrica\",\"utilidade_publica/energia_eletrica\",\"utilidade_publica/energia_eletrica\",\"bens_industriais/material_de_transporte\",\"utilidade_publica/energia_eletrica\",\"utilidade_publica/energia_eletrica\",\"utilidade_publica/energia_eletrica\",\"utilidade_publica/energia_eletrica\",\"consumo_ciclico/construcao_civil\",\"saude/servicos_medico__hospitalares_analises_e_diagnosticos\",\"materiais_basicos/siderurgia_e_metalurgia\",\"materiais_basicos/siderurgia_e_metalurgia\",\"bens_industriais/transporte\",\"saude/servicos_medico__hospitalares_analises_e_diagnosticos\",\"saude/comercio_e_distribuicao\",\"financeiro/exploracao_de_imoveis\",\"financeiro/previdencia_e_seguros\",\"financeiro/intermediarios_financeiros\",\"financeiro/intermediarios_financeiros\",\"consumo_nao_ciclico/alimentos_processados\",\"consumo_ciclico/construcao_civil\",\"materiais_basicos/madeira_e_papel\",\"consumo_ciclico/comercio\",\"tecnologia_da_informacao/programas_e_servicos\",\"consumo_ciclico/comercio\",\"consumo_nao_ciclico/alimentos_processados\",\"consumo_ciclico/construcao_civil\",\"financeiro/exploracao_de_imoveis\",\"consumo_nao_ciclico/produtos_de_uso_pessoal_e_de_limpeza\",\"consumo_nao_ciclico/comercio_e_distribuicao\",\"petroleo_gas_e_biocombustiveis/petroleo_gas_e_biocombustiveis\",\"petroleo_gas_e_biocombustiveis/petroleo_gas_e_biocombustiveis\",\"consumo_ciclico/comercio\",\"tecnologia_da_informacao/computadores_e_equipamentos\",\"petroleo_gas_e_biocombustiveis/petroleo_gas_e_biocombustiveis\",\"saude/servicos_medico__hospitalares_analises_e_diagnosticos\",\"saude/comercio_e_distribuicao\",\"bens_industriais/transporte\",\"saude/servicos_medico__hospitalares_analises_e_diagnosticos\",\"consumo_ciclico/diversos\",\"petroleo_gas_e_biocombustiveis/petroleo_gas_e_biocombustiveis\",\"financeiro/intermediarios_financeiros\",\"utilidade_publica/agua_e_saneamento\",\"consumo_nao_ciclico/agropecuaria\",\"consumo_ciclico/comercio\",\"financeiro/previdencia_e_seguros\",\"materiais_basicos/madeira_e_papel\",\"utilidade_publica/energia_eletrica\",\"comunicacoes/telecomunicacoes\",\"tecnologia_da_informacao/programas_e_servicos\",\"petroleo_gas_e_biocombustiveis/petroleo_gas_e_biocombustiveis\",\"materiais_basicos/siderurgia_e_metalurgia\",\"materiais_basicos/mineracao\",\"petroleo_gas_e_biocombustiveis/petroleo_gas_e_biocombustiveis\",\"consumo_ciclico/comercio\",\"comunicacoes/telecomunicacoes\",\"bens_industriais/maquinas_e_equipamentos\",\"consumo_ciclico/diversos\",\"OTHERS\",\"consumo_nao_ciclico\",\"utilidade_publica\",\"consumo_nao_ciclico\",\"consumo_nao_ciclico\",\"consumo_ciclico\",\"consumo_nao_ciclico\",\"saude\",\"tecnologia_da_informacao\",\"consumo_ciclico\",\"consumo_ciclico\",\"utilidade_publica\",\"financeiro\",\"financeiro\",\"materiais_basicos\",\"bens_industriais\",\"bens_industriais\",\"materiais_basicos\",\"petroleo_gas_e_biocombustiveis\",\"financeiro\",\"consumo_nao_ciclico\",\"tecnologia_da_informacao\",\"materiais_basicos\",\"financeiro\",\"saude\",\"materiais_basicos\",\"consumo_ciclico\",\"comunicacoes\",\"bens_industriais\",\"consumo_ciclico\",\"\",\"\",\"\",\"\",\"\",\"\",\"\",\"\",\"\",\"\",\"\"],\"values\":[3.238,0.193,0.427,0.68,0.234,3.612,2.769,1.172,4.814,0.965,0.163,1.654,0.123,0.281,0.901,0.476,0.357,0.034,0.767,0.287,0.863,0.212,0.235,0.309,0.547,0.413,1.2,0.492,0.095,0.208,0.161,0.107,0.534,2.306,0.592,0.508,0.257,1.188,0.548,1.367,0.094,0.243,1.358,0.362,0.087,1.488,0.86,0.19,0.149,2.16,6.15,1.923,0.095,0.782,1.334,0.188,0.465,0.219,0.163,0.346,0.66,0.133,5.241,8.264,0.185,0.032,1.015,0.157,1.17,1.091,1.344,2.291,0.336,0.534,0.782,0.207,0.282,0.365,1.737,0.46,0.509,0.766,0.743,0.229,12.874,1.024,0.23,0.936,2.222,0.236,3.626,0.207,0.782,3.206,3.238,2.496,0.546,2.03,0.032,0.56,2.7619999999999996,8.971,0.893,17.722,2.519,2.222,0.508,13.155000000000001,17.823,1.479,0.66,0.988,0.476,3.899,3.232,1.949,0.193,1.445,2.286,0.095,3.626,5.016,1.445,6.106,7.857,23.993000000000002,18.099,17.823,5.262,1.02,9.753],\"type\":\"sunburst\",\"textfont\":{\"color\":\"white\",\"size\":14}}],                        {\"template\":{\"data\":{\"bar\":[{\"error_x\":{\"color\":\"#2a3f5f\"},\"error_y\":{\"color\":\"#2a3f5f\"},\"marker\":{\"line\":{\"color\":\"#E5ECF6\",\"width\":0.5},\"pattern\":{\"fillmode\":\"overlay\",\"size\":10,\"solidity\":0.2}},\"type\":\"bar\"}],\"barpolar\":[{\"marker\":{\"line\":{\"color\":\"#E5ECF6\",\"width\":0.5},\"pattern\":{\"fillmode\":\"overlay\",\"size\":10,\"solidity\":0.2}},\"type\":\"barpolar\"}],\"carpet\":[{\"aaxis\":{\"endlinecolor\":\"#2a3f5f\",\"gridcolor\":\"white\",\"linecolor\":\"white\",\"minorgridcolor\":\"white\",\"startlinecolor\":\"#2a3f5f\"},\"baxis\":{\"endlinecolor\":\"#2a3f5f\",\"gridcolor\":\"white\",\"linecolor\":\"white\",\"minorgridcolor\":\"white\",\"startlinecolor\":\"#2a3f5f\"},\"type\":\"carpet\"}],\"choropleth\":[{\"colorbar\":{\"outlinewidth\":0,\"ticks\":\"\"},\"type\":\"choropleth\"}],\"contour\":[{\"colorbar\":{\"outlinewidth\":0,\"ticks\":\"\"},\"colorscale\":[[0.0,\"#0d0887\"],[0.1111111111111111,\"#46039f\"],[0.2222222222222222,\"#7201a8\"],[0.3333333333333333,\"#9c179e\"],[0.4444444444444444,\"#bd3786\"],[0.5555555555555556,\"#d8576b\"],[0.6666666666666666,\"#ed7953\"],[0.7777777777777778,\"#fb9f3a\"],[0.8888888888888888,\"#fdca26\"],[1.0,\"#f0f921\"]],\"type\":\"contour\"}],\"contourcarpet\":[{\"colorbar\":{\"outlinewidth\":0,\"ticks\":\"\"},\"type\":\"contourcarpet\"}],\"heatmap\":[{\"colorbar\":{\"outlinewidth\":0,\"ticks\":\"\"},\"colorscale\":[[0.0,\"#0d0887\"],[0.1111111111111111,\"#46039f\"],[0.2222222222222222,\"#7201a8\"],[0.3333333333333333,\"#9c179e\"],[0.4444444444444444,\"#bd3786\"],[0.5555555555555556,\"#d8576b\"],[0.6666666666666666,\"#ed7953\"],[0.7777777777777778,\"#fb9f3a\"],[0.8888888888888888,\"#fdca26\"],[1.0,\"#f0f921\"]],\"type\":\"heatmap\"}],\"heatmapgl\":[{\"colorbar\":{\"outlinewidth\":0,\"ticks\":\"\"},\"colorscale\":[[0.0,\"#0d0887\"],[0.1111111111111111,\"#46039f\"],[0.2222222222222222,\"#7201a8\"],[0.3333333333333333,\"#9c179e\"],[0.4444444444444444,\"#bd3786\"],[0.5555555555555556,\"#d8576b\"],[0.6666666666666666,\"#ed7953\"],[0.7777777777777778,\"#fb9f3a\"],[0.8888888888888888,\"#fdca26\"],[1.0,\"#f0f921\"]],\"type\":\"heatmapgl\"}],\"histogram\":[{\"marker\":{\"pattern\":{\"fillmode\":\"overlay\",\"size\":10,\"solidity\":0.2}},\"type\":\"histogram\"}],\"histogram2d\":[{\"colorbar\":{\"outlinewidth\":0,\"ticks\":\"\"},\"colorscale\":[[0.0,\"#0d0887\"],[0.1111111111111111,\"#46039f\"],[0.2222222222222222,\"#7201a8\"],[0.3333333333333333,\"#9c179e\"],[0.4444444444444444,\"#bd3786\"],[0.5555555555555556,\"#d8576b\"],[0.6666666666666666,\"#ed7953\"],[0.7777777777777778,\"#fb9f3a\"],[0.8888888888888888,\"#fdca26\"],[1.0,\"#f0f921\"]],\"type\":\"histogram2d\"}],\"histogram2dcontour\":[{\"colorbar\":{\"outlinewidth\":0,\"ticks\":\"\"},\"colorscale\":[[0.0,\"#0d0887\"],[0.1111111111111111,\"#46039f\"],[0.2222222222222222,\"#7201a8\"],[0.3333333333333333,\"#9c179e\"],[0.4444444444444444,\"#bd3786\"],[0.5555555555555556,\"#d8576b\"],[0.6666666666666666,\"#ed7953\"],[0.7777777777777778,\"#fb9f3a\"],[0.8888888888888888,\"#fdca26\"],[1.0,\"#f0f921\"]],\"type\":\"histogram2dcontour\"}],\"mesh3d\":[{\"colorbar\":{\"outlinewidth\":0,\"ticks\":\"\"},\"type\":\"mesh3d\"}],\"parcoords\":[{\"line\":{\"colorbar\":{\"outlinewidth\":0,\"ticks\":\"\"}},\"type\":\"parcoords\"}],\"pie\":[{\"automargin\":true,\"type\":\"pie\"}],\"scatter\":[{\"marker\":{\"colorbar\":{\"outlinewidth\":0,\"ticks\":\"\"}},\"type\":\"scatter\"}],\"scatter3d\":[{\"line\":{\"colorbar\":{\"outlinewidth\":0,\"ticks\":\"\"}},\"marker\":{\"colorbar\":{\"outlinewidth\":0,\"ticks\":\"\"}},\"type\":\"scatter3d\"}],\"scattercarpet\":[{\"marker\":{\"colorbar\":{\"outlinewidth\":0,\"ticks\":\"\"}},\"type\":\"scattercarpet\"}],\"scattergeo\":[{\"marker\":{\"colorbar\":{\"outlinewidth\":0,\"ticks\":\"\"}},\"type\":\"scattergeo\"}],\"scattergl\":[{\"marker\":{\"colorbar\":{\"outlinewidth\":0,\"ticks\":\"\"}},\"type\":\"scattergl\"}],\"scattermapbox\":[{\"marker\":{\"colorbar\":{\"outlinewidth\":0,\"ticks\":\"\"}},\"type\":\"scattermapbox\"}],\"scatterpolar\":[{\"marker\":{\"colorbar\":{\"outlinewidth\":0,\"ticks\":\"\"}},\"type\":\"scatterpolar\"}],\"scatterpolargl\":[{\"marker\":{\"colorbar\":{\"outlinewidth\":0,\"ticks\":\"\"}},\"type\":\"scatterpolargl\"}],\"scatterternary\":[{\"marker\":{\"colorbar\":{\"outlinewidth\":0,\"ticks\":\"\"}},\"type\":\"scatterternary\"}],\"surface\":[{\"colorbar\":{\"outlinewidth\":0,\"ticks\":\"\"},\"colorscale\":[[0.0,\"#0d0887\"],[0.1111111111111111,\"#46039f\"],[0.2222222222222222,\"#7201a8\"],[0.3333333333333333,\"#9c179e\"],[0.4444444444444444,\"#bd3786\"],[0.5555555555555556,\"#d8576b\"],[0.6666666666666666,\"#ed7953\"],[0.7777777777777778,\"#fb9f3a\"],[0.8888888888888888,\"#fdca26\"],[1.0,\"#f0f921\"]],\"type\":\"surface\"}],\"table\":[{\"cells\":{\"fill\":{\"color\":\"#EBF0F8\"},\"line\":{\"color\":\"white\"}},\"header\":{\"fill\":{\"color\":\"#C8D4E3\"},\"line\":{\"color\":\"white\"}},\"type\":\"table\"}]},\"layout\":{\"annotationdefaults\":{\"arrowcolor\":\"#2a3f5f\",\"arrowhead\":0,\"arrowwidth\":1},\"autotypenumbers\":\"strict\",\"coloraxis\":{\"colorbar\":{\"outlinewidth\":0,\"ticks\":\"\"}},\"colorscale\":{\"diverging\":[[0,\"#8e0152\"],[0.1,\"#c51b7d\"],[0.2,\"#de77ae\"],[0.3,\"#f1b6da\"],[0.4,\"#fde0ef\"],[0.5,\"#f7f7f7\"],[0.6,\"#e6f5d0\"],[0.7,\"#b8e186\"],[0.8,\"#7fbc41\"],[0.9,\"#4d9221\"],[1,\"#276419\"]],\"sequential\":[[0.0,\"#0d0887\"],[0.1111111111111111,\"#46039f\"],[0.2222222222222222,\"#7201a8\"],[0.3333333333333333,\"#9c179e\"],[0.4444444444444444,\"#bd3786\"],[0.5555555555555556,\"#d8576b\"],[0.6666666666666666,\"#ed7953\"],[0.7777777777777778,\"#fb9f3a\"],[0.8888888888888888,\"#fdca26\"],[1.0,\"#f0f921\"]],\"sequentialminus\":[[0.0,\"#0d0887\"],[0.1111111111111111,\"#46039f\"],[0.2222222222222222,\"#7201a8\"],[0.3333333333333333,\"#9c179e\"],[0.4444444444444444,\"#bd3786\"],[0.5555555555555556,\"#d8576b\"],[0.6666666666666666,\"#ed7953\"],[0.7777777777777778,\"#fb9f3a\"],[0.8888888888888888,\"#fdca26\"],[1.0,\"#f0f921\"]]},\"colorway\":[\"#636efa\",\"#EF553B\",\"#00cc96\",\"#ab63fa\",\"#FFA15A\",\"#19d3f3\",\"#FF6692\",\"#B6E880\",\"#FF97FF\",\"#FECB52\"],\"font\":{\"color\":\"#2a3f5f\"},\"geo\":{\"bgcolor\":\"white\",\"lakecolor\":\"white\",\"landcolor\":\"#E5ECF6\",\"showlakes\":true,\"showland\":true,\"subunitcolor\":\"white\"},\"hoverlabel\":{\"align\":\"left\"},\"hovermode\":\"closest\",\"mapbox\":{\"style\":\"light\"},\"paper_bgcolor\":\"white\",\"plot_bgcolor\":\"#E5ECF6\",\"polar\":{\"angularaxis\":{\"gridcolor\":\"white\",\"linecolor\":\"white\",\"ticks\":\"\"},\"bgcolor\":\"#E5ECF6\",\"radialaxis\":{\"gridcolor\":\"white\",\"linecolor\":\"white\",\"ticks\":\"\"}},\"scene\":{\"xaxis\":{\"backgroundcolor\":\"#E5ECF6\",\"gridcolor\":\"white\",\"gridwidth\":2,\"linecolor\":\"white\",\"showbackground\":true,\"ticks\":\"\",\"zerolinecolor\":\"white\"},\"yaxis\":{\"backgroundcolor\":\"#E5ECF6\",\"gridcolor\":\"white\",\"gridwidth\":2,\"linecolor\":\"white\",\"showbackground\":true,\"ticks\":\"\",\"zerolinecolor\":\"white\"},\"zaxis\":{\"backgroundcolor\":\"#E5ECF6\",\"gridcolor\":\"white\",\"gridwidth\":2,\"linecolor\":\"white\",\"showbackground\":true,\"ticks\":\"\",\"zerolinecolor\":\"white\"}},\"shapedefaults\":{\"line\":{\"color\":\"#2a3f5f\"}},\"ternary\":{\"aaxis\":{\"gridcolor\":\"white\",\"linecolor\":\"white\",\"ticks\":\"\"},\"baxis\":{\"gridcolor\":\"white\",\"linecolor\":\"white\",\"ticks\":\"\"},\"bgcolor\":\"#E5ECF6\",\"caxis\":{\"gridcolor\":\"white\",\"linecolor\":\"white\",\"ticks\":\"\"}},\"title\":{\"x\":0.05},\"xaxis\":{\"automargin\":true,\"gridcolor\":\"white\",\"linecolor\":\"white\",\"ticks\":\"\",\"title\":{\"standoff\":15},\"zerolinecolor\":\"white\",\"zerolinewidth\":2},\"yaxis\":{\"automargin\":true,\"gridcolor\":\"white\",\"linecolor\":\"white\",\"ticks\":\"\",\"title\":{\"standoff\":15},\"zerolinecolor\":\"white\",\"zerolinewidth\":2}}},\"legend\":{\"tracegroupgap\":0},\"margin\":{\"t\":60},\"height\":800},                        {\"responsive\": true}                    ).then(function(){\n",
       "                            \n",
       "var gd = document.getElementById('f0eadd90-aee5-44ce-b6a6-fe5c005fb7f2');\n",
       "var x = new MutationObserver(function (mutations, observer) {{\n",
       "        var display = window.getComputedStyle(gd).display;\n",
       "        if (!display || display === 'none') {{\n",
       "            console.log([gd, 'removed!']);\n",
       "            Plotly.purge(gd);\n",
       "            observer.disconnect();\n",
       "        }}\n",
       "}});\n",
       "\n",
       "// Listen for the removal of the full notebook cells\n",
       "var notebookContainer = gd.closest('#notebook-container');\n",
       "if (notebookContainer) {{\n",
       "    x.observe(notebookContainer, {childList: true});\n",
       "}}\n",
       "\n",
       "// Listen for the clearing of the current output cell\n",
       "var outputEl = gd.closest('.output');\n",
       "if (outputEl) {{\n",
       "    x.observe(outputEl, {childList: true});\n",
       "}}\n",
       "\n",
       "                        })                };                });            </script>        </div>"
      ]
     },
     "metadata": {},
     "output_type": "display_data"
    }
   ],
   "source": [
    "HEIGHT_NUMBER = 800\n",
    "fig = px.sunburst(df, path=['setor', 'sub_setor', 'ATIVO'], values='PORC_PART', height=HEIGHT_NUMBER)\n",
    "\n",
    "fig.update_traces(textfont_color='white',\n",
    "                  textfont_size=14,\n",
    "                  hovertemplate='<b>%{label}:</b> %{value:.2f}%')\n",
    "fig.show()"
   ]
  },
  {
   "cell_type": "markdown",
   "id": "ceadb6fe",
   "metadata": {},
   "source": [
    "#### Outra maneira de visualizar o gráfico interativo."
   ]
  },
  {
   "cell_type": "code",
   "execution_count": 11,
   "id": "ee7e5112",
   "metadata": {},
   "outputs": [
    {
     "name": "stderr",
     "output_type": "stream",
     "text": [
      "D:\\anaconda3\\lib\\site-packages\\plotly\\express\\_core.py:1637: FutureWarning:\n",
      "\n",
      "The frame.append method is deprecated and will be removed from pandas in a future version. Use pandas.concat instead.\n",
      "\n",
      "D:\\anaconda3\\lib\\site-packages\\plotly\\express\\_core.py:1637: FutureWarning:\n",
      "\n",
      "The frame.append method is deprecated and will be removed from pandas in a future version. Use pandas.concat instead.\n",
      "\n",
      "D:\\anaconda3\\lib\\site-packages\\plotly\\express\\_core.py:1637: FutureWarning:\n",
      "\n",
      "The frame.append method is deprecated and will be removed from pandas in a future version. Use pandas.concat instead.\n",
      "\n"
     ]
    },
    {
     "data": {
      "application/vnd.plotly.v1+json": {
       "config": {
        "plotlyServerURL": "https://plot.ly"
       },
       "data": [
        {
         "branchvalues": "total",
         "domain": {
          "x": [
           0,
           1
          ],
          "y": [
           0,
           1
          ]
         },
         "hovertemplate": "<b>%{label}:</b> %{value:.2f}%",
         "ids": [
          "consumo_nao_ciclico/bebidas/ABEV3",
          "consumo_ciclico/tecidos_vestuario_e_calcados/ALPA4",
          "OTHERS/OTHERS/AMER3",
          "OTHERS/OTHERS/ASAI3",
          "bens_industriais/transporte/AZUL4",
          "financeiro/servicos_financeiros_diversos/B3SA3",
          "financeiro/intermediarios_financeiros/BBAS3",
          "financeiro/intermediarios_financeiros/BBDC3",
          "financeiro/intermediarios_financeiros/BBDC4",
          "financeiro/previdencia_e_seguros/BBSE3",
          "consumo_nao_ciclico/alimentos_processados/BEEF3",
          "OTHERS/OTHERS/BPAC11",
          "financeiro/intermediarios_financeiros/BPAN4",
          "materiais_basicos/mineracao/BRAP4",
          "consumo_nao_ciclico/alimentos_processados/BRFS3",
          "materiais_basicos/quimicos/BRKM5",
          "financeiro/exploracao_de_imoveis/BRML3",
          "tecnologia_da_informacao/programas_e_servicos/CASH3",
          "bens_industriais/transporte/CCRO3",
          "financeiro/servicos_financeiros_diversos/CIEL3",
          "utilidade_publica/energia_eletrica/CMIG4",
          "OTHERS/OTHERS/CMIN3",
          "consumo_ciclico/diversos/COGN3",
          "utilidade_publica/energia_eletrica/CPFE3",
          "utilidade_publica/energia_eletrica/CPLE6",
          "consumo_nao_ciclico/comercio_e_distribuicao/CRFB3",
          "petroleo_gas_e_biocombustiveis/petroleo_gas_e_biocombustiveis/CSAN3",
          "OTHERS/OTHERS/CSNA3",
          "consumo_ciclico/viagens_e_lazer/CVCB3",
          "consumo_ciclico/construcao_civil/CYRE3",
          "OTHERS/OTHERS/DXCO3",
          "bens_industriais/transporte/ECOR3",
          "utilidade_publica/energia_eletrica/EGIE3",
          "utilidade_publica/energia_eletrica/ELET3",
          "utilidade_publica/energia_eletrica/ELET6",
          "bens_industriais/material_de_transporte/EMBR3",
          "utilidade_publica/energia_eletrica/ENBR3",
          "utilidade_publica/energia_eletrica/ENEV3",
          "utilidade_publica/energia_eletrica/ENGI11",
          "utilidade_publica/energia_eletrica/EQTL3",
          "consumo_ciclico/construcao_civil/EZTC3",
          "saude/servicos_medico__hospitalares_analises_e_diagnosticos/FLRY3",
          "materiais_basicos/siderurgia_e_metalurgia/GGBR4",
          "materiais_basicos/siderurgia_e_metalurgia/GOAU4",
          "bens_industriais/transporte/GOLL4",
          "saude/servicos_medico__hospitalares_analises_e_diagnosticos/HAPV3",
          "saude/comercio_e_distribuicao/HYPE3",
          "financeiro/exploracao_de_imoveis/IGTI11",
          "financeiro/previdencia_e_seguros/IRBR3",
          "financeiro/intermediarios_financeiros/ITSA4",
          "financeiro/intermediarios_financeiros/ITUB4",
          "consumo_nao_ciclico/alimentos_processados/JBSS3",
          "consumo_ciclico/construcao_civil/JHSF3",
          "materiais_basicos/madeira_e_papel/KLBN11",
          "consumo_ciclico/comercio/LREN3",
          "tecnologia_da_informacao/programas_e_servicos/LWSA3",
          "consumo_ciclico/comercio/MGLU3",
          "consumo_nao_ciclico/alimentos_processados/MRFG3",
          "consumo_ciclico/construcao_civil/MRVE3",
          "financeiro/exploracao_de_imoveis/MULT3",
          "consumo_nao_ciclico/produtos_de_uso_pessoal_e_de_limpeza/NTCO3",
          "consumo_nao_ciclico/comercio_e_distribuicao/PCAR3",
          "petroleo_gas_e_biocombustiveis/petroleo_gas_e_biocombustiveis/PETR3",
          "petroleo_gas_e_biocombustiveis/petroleo_gas_e_biocombustiveis/PETR4",
          "consumo_ciclico/comercio/PETZ3",
          "tecnologia_da_informacao/computadores_e_equipamentos/POSI3",
          "petroleo_gas_e_biocombustiveis/petroleo_gas_e_biocombustiveis/PRIO3",
          "saude/servicos_medico__hospitalares_analises_e_diagnosticos/QUAL3",
          "saude/comercio_e_distribuicao/RADL3",
          "bens_industriais/transporte/RAIL3",
          "saude/servicos_medico__hospitalares_analises_e_diagnosticos/RDOR3",
          "consumo_ciclico/diversos/RENT3",
          "petroleo_gas_e_biocombustiveis/petroleo_gas_e_biocombustiveis/RRRP3",
          "financeiro/intermediarios_financeiros/SANB11",
          "utilidade_publica/agua_e_saneamento/SBSP3",
          "consumo_nao_ciclico/agropecuaria/SLCE3",
          "consumo_ciclico/comercio/SOMA3",
          "financeiro/previdencia_e_seguros/SULA11",
          "materiais_basicos/madeira_e_papel/SUZB3",
          "utilidade_publica/energia_eletrica/TAEE11",
          "comunicacoes/telecomunicacoes/TIMS3",
          "tecnologia_da_informacao/programas_e_servicos/TOTS3",
          "petroleo_gas_e_biocombustiveis/petroleo_gas_e_biocombustiveis/UGPA3",
          "materiais_basicos/siderurgia_e_metalurgia/USIM5",
          "materiais_basicos/mineracao/VALE3",
          "petroleo_gas_e_biocombustiveis/petroleo_gas_e_biocombustiveis/VBBR3",
          "consumo_ciclico/comercio/VIIA3",
          "comunicacoes/telecomunicacoes/VIVT3",
          "bens_industriais/maquinas_e_equipamentos/WEGE3",
          "consumo_ciclico/diversos/YDUQ3",
          "OTHERS/OTHERS",
          "consumo_nao_ciclico/agropecuaria",
          "utilidade_publica/agua_e_saneamento",
          "consumo_nao_ciclico/alimentos_processados",
          "consumo_nao_ciclico/bebidas",
          "consumo_ciclico/comercio",
          "consumo_nao_ciclico/comercio_e_distribuicao",
          "saude/comercio_e_distribuicao",
          "tecnologia_da_informacao/computadores_e_equipamentos",
          "consumo_ciclico/construcao_civil",
          "consumo_ciclico/diversos",
          "utilidade_publica/energia_eletrica",
          "financeiro/exploracao_de_imoveis",
          "financeiro/intermediarios_financeiros",
          "materiais_basicos/madeira_e_papel",
          "bens_industriais/maquinas_e_equipamentos",
          "bens_industriais/material_de_transporte",
          "materiais_basicos/mineracao",
          "petroleo_gas_e_biocombustiveis/petroleo_gas_e_biocombustiveis",
          "financeiro/previdencia_e_seguros",
          "consumo_nao_ciclico/produtos_de_uso_pessoal_e_de_limpeza",
          "tecnologia_da_informacao/programas_e_servicos",
          "materiais_basicos/quimicos",
          "financeiro/servicos_financeiros_diversos",
          "saude/servicos_medico__hospitalares_analises_e_diagnosticos",
          "materiais_basicos/siderurgia_e_metalurgia",
          "consumo_ciclico/tecidos_vestuario_e_calcados",
          "comunicacoes/telecomunicacoes",
          "bens_industriais/transporte",
          "consumo_ciclico/viagens_e_lazer",
          "OTHERS",
          "bens_industriais",
          "comunicacoes",
          "consumo_ciclico",
          "consumo_nao_ciclico",
          "financeiro",
          "materiais_basicos",
          "petroleo_gas_e_biocombustiveis",
          "saude",
          "tecnologia_da_informacao",
          "utilidade_publica"
         ],
         "labels": [
          "ABEV3",
          "ALPA4",
          "AMER3",
          "ASAI3",
          "AZUL4",
          "B3SA3",
          "BBAS3",
          "BBDC3",
          "BBDC4",
          "BBSE3",
          "BEEF3",
          "BPAC11",
          "BPAN4",
          "BRAP4",
          "BRFS3",
          "BRKM5",
          "BRML3",
          "CASH3",
          "CCRO3",
          "CIEL3",
          "CMIG4",
          "CMIN3",
          "COGN3",
          "CPFE3",
          "CPLE6",
          "CRFB3",
          "CSAN3",
          "CSNA3",
          "CVCB3",
          "CYRE3",
          "DXCO3",
          "ECOR3",
          "EGIE3",
          "ELET3",
          "ELET6",
          "EMBR3",
          "ENBR3",
          "ENEV3",
          "ENGI11",
          "EQTL3",
          "EZTC3",
          "FLRY3",
          "GGBR4",
          "GOAU4",
          "GOLL4",
          "HAPV3",
          "HYPE3",
          "IGTI11",
          "IRBR3",
          "ITSA4",
          "ITUB4",
          "JBSS3",
          "JHSF3",
          "KLBN11",
          "LREN3",
          "LWSA3",
          "MGLU3",
          "MRFG3",
          "MRVE3",
          "MULT3",
          "NTCO3",
          "PCAR3",
          "PETR3",
          "PETR4",
          "PETZ3",
          "POSI3",
          "PRIO3",
          "QUAL3",
          "RADL3",
          "RAIL3",
          "RDOR3",
          "RENT3",
          "RRRP3",
          "SANB11",
          "SBSP3",
          "SLCE3",
          "SOMA3",
          "SULA11",
          "SUZB3",
          "TAEE11",
          "TIMS3",
          "TOTS3",
          "UGPA3",
          "USIM5",
          "VALE3",
          "VBBR3",
          "VIIA3",
          "VIVT3",
          "WEGE3",
          "YDUQ3",
          "OTHERS",
          "agropecuaria",
          "agua_e_saneamento",
          "alimentos_processados",
          "bebidas",
          "comercio",
          "comercio_e_distribuicao",
          "comercio_e_distribuicao",
          "computadores_e_equipamentos",
          "construcao_civil",
          "diversos",
          "energia_eletrica",
          "exploracao_de_imoveis",
          "intermediarios_financeiros",
          "madeira_e_papel",
          "maquinas_e_equipamentos",
          "material_de_transporte",
          "mineracao",
          "petroleo_gas_e_biocombustiveis",
          "previdencia_e_seguros",
          "produtos_de_uso_pessoal_e_de_limpeza",
          "programas_e_servicos",
          "quimicos",
          "servicos_financeiros_diversos",
          "servicos_medico__hospitalares_analises_e_diagnosticos",
          "siderurgia_e_metalurgia",
          "tecidos_vestuario_e_calcados",
          "telecomunicacoes",
          "transporte",
          "viagens_e_lazer",
          "OTHERS",
          "bens_industriais",
          "comunicacoes",
          "consumo_ciclico",
          "consumo_nao_ciclico",
          "financeiro",
          "materiais_basicos",
          "petroleo_gas_e_biocombustiveis",
          "saude",
          "tecnologia_da_informacao",
          "utilidade_publica"
         ],
         "name": "",
         "parents": [
          "consumo_nao_ciclico/bebidas",
          "consumo_ciclico/tecidos_vestuario_e_calcados",
          "OTHERS/OTHERS",
          "OTHERS/OTHERS",
          "bens_industriais/transporte",
          "financeiro/servicos_financeiros_diversos",
          "financeiro/intermediarios_financeiros",
          "financeiro/intermediarios_financeiros",
          "financeiro/intermediarios_financeiros",
          "financeiro/previdencia_e_seguros",
          "consumo_nao_ciclico/alimentos_processados",
          "OTHERS/OTHERS",
          "financeiro/intermediarios_financeiros",
          "materiais_basicos/mineracao",
          "consumo_nao_ciclico/alimentos_processados",
          "materiais_basicos/quimicos",
          "financeiro/exploracao_de_imoveis",
          "tecnologia_da_informacao/programas_e_servicos",
          "bens_industriais/transporte",
          "financeiro/servicos_financeiros_diversos",
          "utilidade_publica/energia_eletrica",
          "OTHERS/OTHERS",
          "consumo_ciclico/diversos",
          "utilidade_publica/energia_eletrica",
          "utilidade_publica/energia_eletrica",
          "consumo_nao_ciclico/comercio_e_distribuicao",
          "petroleo_gas_e_biocombustiveis/petroleo_gas_e_biocombustiveis",
          "OTHERS/OTHERS",
          "consumo_ciclico/viagens_e_lazer",
          "consumo_ciclico/construcao_civil",
          "OTHERS/OTHERS",
          "bens_industriais/transporte",
          "utilidade_publica/energia_eletrica",
          "utilidade_publica/energia_eletrica",
          "utilidade_publica/energia_eletrica",
          "bens_industriais/material_de_transporte",
          "utilidade_publica/energia_eletrica",
          "utilidade_publica/energia_eletrica",
          "utilidade_publica/energia_eletrica",
          "utilidade_publica/energia_eletrica",
          "consumo_ciclico/construcao_civil",
          "saude/servicos_medico__hospitalares_analises_e_diagnosticos",
          "materiais_basicos/siderurgia_e_metalurgia",
          "materiais_basicos/siderurgia_e_metalurgia",
          "bens_industriais/transporte",
          "saude/servicos_medico__hospitalares_analises_e_diagnosticos",
          "saude/comercio_e_distribuicao",
          "financeiro/exploracao_de_imoveis",
          "financeiro/previdencia_e_seguros",
          "financeiro/intermediarios_financeiros",
          "financeiro/intermediarios_financeiros",
          "consumo_nao_ciclico/alimentos_processados",
          "consumo_ciclico/construcao_civil",
          "materiais_basicos/madeira_e_papel",
          "consumo_ciclico/comercio",
          "tecnologia_da_informacao/programas_e_servicos",
          "consumo_ciclico/comercio",
          "consumo_nao_ciclico/alimentos_processados",
          "consumo_ciclico/construcao_civil",
          "financeiro/exploracao_de_imoveis",
          "consumo_nao_ciclico/produtos_de_uso_pessoal_e_de_limpeza",
          "consumo_nao_ciclico/comercio_e_distribuicao",
          "petroleo_gas_e_biocombustiveis/petroleo_gas_e_biocombustiveis",
          "petroleo_gas_e_biocombustiveis/petroleo_gas_e_biocombustiveis",
          "consumo_ciclico/comercio",
          "tecnologia_da_informacao/computadores_e_equipamentos",
          "petroleo_gas_e_biocombustiveis/petroleo_gas_e_biocombustiveis",
          "saude/servicos_medico__hospitalares_analises_e_diagnosticos",
          "saude/comercio_e_distribuicao",
          "bens_industriais/transporte",
          "saude/servicos_medico__hospitalares_analises_e_diagnosticos",
          "consumo_ciclico/diversos",
          "petroleo_gas_e_biocombustiveis/petroleo_gas_e_biocombustiveis",
          "financeiro/intermediarios_financeiros",
          "utilidade_publica/agua_e_saneamento",
          "consumo_nao_ciclico/agropecuaria",
          "consumo_ciclico/comercio",
          "financeiro/previdencia_e_seguros",
          "materiais_basicos/madeira_e_papel",
          "utilidade_publica/energia_eletrica",
          "comunicacoes/telecomunicacoes",
          "tecnologia_da_informacao/programas_e_servicos",
          "petroleo_gas_e_biocombustiveis/petroleo_gas_e_biocombustiveis",
          "materiais_basicos/siderurgia_e_metalurgia",
          "materiais_basicos/mineracao",
          "petroleo_gas_e_biocombustiveis/petroleo_gas_e_biocombustiveis",
          "consumo_ciclico/comercio",
          "comunicacoes/telecomunicacoes",
          "bens_industriais/maquinas_e_equipamentos",
          "consumo_ciclico/diversos",
          "OTHERS",
          "consumo_nao_ciclico",
          "utilidade_publica",
          "consumo_nao_ciclico",
          "consumo_nao_ciclico",
          "consumo_ciclico",
          "consumo_nao_ciclico",
          "saude",
          "tecnologia_da_informacao",
          "consumo_ciclico",
          "consumo_ciclico",
          "utilidade_publica",
          "financeiro",
          "financeiro",
          "materiais_basicos",
          "bens_industriais",
          "bens_industriais",
          "materiais_basicos",
          "petroleo_gas_e_biocombustiveis",
          "financeiro",
          "consumo_nao_ciclico",
          "tecnologia_da_informacao",
          "materiais_basicos",
          "financeiro",
          "saude",
          "materiais_basicos",
          "consumo_ciclico",
          "comunicacoes",
          "bens_industriais",
          "consumo_ciclico",
          "",
          "",
          "",
          "",
          "",
          "",
          "",
          "",
          "",
          "",
          ""
         ],
         "textfont": {
          "color": "white",
          "size": 14
         },
         "type": "treemap",
         "values": [
          3.238,
          0.193,
          0.427,
          0.68,
          0.234,
          3.612,
          2.769,
          1.172,
          4.814,
          0.965,
          0.163,
          1.654,
          0.123,
          0.281,
          0.901,
          0.476,
          0.357,
          0.034,
          0.767,
          0.287,
          0.863,
          0.212,
          0.235,
          0.309,
          0.547,
          0.413,
          1.2,
          0.492,
          0.095,
          0.208,
          0.161,
          0.107,
          0.534,
          2.306,
          0.592,
          0.508,
          0.257,
          1.188,
          0.548,
          1.367,
          0.094,
          0.243,
          1.358,
          0.362,
          0.087,
          1.488,
          0.86,
          0.19,
          0.149,
          2.16,
          6.15,
          1.923,
          0.095,
          0.782,
          1.334,
          0.188,
          0.465,
          0.219,
          0.163,
          0.346,
          0.66,
          0.133,
          5.241,
          8.264,
          0.185,
          0.032,
          1.015,
          0.157,
          1.17,
          1.091,
          1.344,
          2.291,
          0.336,
          0.534,
          0.782,
          0.207,
          0.282,
          0.365,
          1.737,
          0.46,
          0.509,
          0.766,
          0.743,
          0.229,
          12.874,
          1.024,
          0.23,
          0.936,
          2.222,
          0.236,
          3.626,
          0.207,
          0.782,
          3.206,
          3.238,
          2.496,
          0.546,
          2.03,
          0.032,
          0.56,
          2.7619999999999996,
          8.971,
          0.893,
          17.722,
          2.519,
          2.222,
          0.508,
          13.155000000000001,
          17.823,
          1.479,
          0.66,
          0.988,
          0.476,
          3.899,
          3.232,
          1.949,
          0.193,
          1.445,
          2.286,
          0.095,
          3.626,
          5.016,
          1.445,
          6.106,
          7.857,
          23.993000000000002,
          18.099,
          17.823,
          5.262,
          1.02,
          9.753
         ]
        }
       ],
       "layout": {
        "height": 800,
        "legend": {
         "tracegroupgap": 0
        },
        "margin": {
         "t": 60
        },
        "template": {
         "data": {
          "bar": [
           {
            "error_x": {
             "color": "#2a3f5f"
            },
            "error_y": {
             "color": "#2a3f5f"
            },
            "marker": {
             "line": {
              "color": "#E5ECF6",
              "width": 0.5
             },
             "pattern": {
              "fillmode": "overlay",
              "size": 10,
              "solidity": 0.2
             }
            },
            "type": "bar"
           }
          ],
          "barpolar": [
           {
            "marker": {
             "line": {
              "color": "#E5ECF6",
              "width": 0.5
             },
             "pattern": {
              "fillmode": "overlay",
              "size": 10,
              "solidity": 0.2
             }
            },
            "type": "barpolar"
           }
          ],
          "carpet": [
           {
            "aaxis": {
             "endlinecolor": "#2a3f5f",
             "gridcolor": "white",
             "linecolor": "white",
             "minorgridcolor": "white",
             "startlinecolor": "#2a3f5f"
            },
            "baxis": {
             "endlinecolor": "#2a3f5f",
             "gridcolor": "white",
             "linecolor": "white",
             "minorgridcolor": "white",
             "startlinecolor": "#2a3f5f"
            },
            "type": "carpet"
           }
          ],
          "choropleth": [
           {
            "colorbar": {
             "outlinewidth": 0,
             "ticks": ""
            },
            "type": "choropleth"
           }
          ],
          "contour": [
           {
            "colorbar": {
             "outlinewidth": 0,
             "ticks": ""
            },
            "colorscale": [
             [
              0,
              "#0d0887"
             ],
             [
              0.1111111111111111,
              "#46039f"
             ],
             [
              0.2222222222222222,
              "#7201a8"
             ],
             [
              0.3333333333333333,
              "#9c179e"
             ],
             [
              0.4444444444444444,
              "#bd3786"
             ],
             [
              0.5555555555555556,
              "#d8576b"
             ],
             [
              0.6666666666666666,
              "#ed7953"
             ],
             [
              0.7777777777777778,
              "#fb9f3a"
             ],
             [
              0.8888888888888888,
              "#fdca26"
             ],
             [
              1,
              "#f0f921"
             ]
            ],
            "type": "contour"
           }
          ],
          "contourcarpet": [
           {
            "colorbar": {
             "outlinewidth": 0,
             "ticks": ""
            },
            "type": "contourcarpet"
           }
          ],
          "heatmap": [
           {
            "colorbar": {
             "outlinewidth": 0,
             "ticks": ""
            },
            "colorscale": [
             [
              0,
              "#0d0887"
             ],
             [
              0.1111111111111111,
              "#46039f"
             ],
             [
              0.2222222222222222,
              "#7201a8"
             ],
             [
              0.3333333333333333,
              "#9c179e"
             ],
             [
              0.4444444444444444,
              "#bd3786"
             ],
             [
              0.5555555555555556,
              "#d8576b"
             ],
             [
              0.6666666666666666,
              "#ed7953"
             ],
             [
              0.7777777777777778,
              "#fb9f3a"
             ],
             [
              0.8888888888888888,
              "#fdca26"
             ],
             [
              1,
              "#f0f921"
             ]
            ],
            "type": "heatmap"
           }
          ],
          "heatmapgl": [
           {
            "colorbar": {
             "outlinewidth": 0,
             "ticks": ""
            },
            "colorscale": [
             [
              0,
              "#0d0887"
             ],
             [
              0.1111111111111111,
              "#46039f"
             ],
             [
              0.2222222222222222,
              "#7201a8"
             ],
             [
              0.3333333333333333,
              "#9c179e"
             ],
             [
              0.4444444444444444,
              "#bd3786"
             ],
             [
              0.5555555555555556,
              "#d8576b"
             ],
             [
              0.6666666666666666,
              "#ed7953"
             ],
             [
              0.7777777777777778,
              "#fb9f3a"
             ],
             [
              0.8888888888888888,
              "#fdca26"
             ],
             [
              1,
              "#f0f921"
             ]
            ],
            "type": "heatmapgl"
           }
          ],
          "histogram": [
           {
            "marker": {
             "pattern": {
              "fillmode": "overlay",
              "size": 10,
              "solidity": 0.2
             }
            },
            "type": "histogram"
           }
          ],
          "histogram2d": [
           {
            "colorbar": {
             "outlinewidth": 0,
             "ticks": ""
            },
            "colorscale": [
             [
              0,
              "#0d0887"
             ],
             [
              0.1111111111111111,
              "#46039f"
             ],
             [
              0.2222222222222222,
              "#7201a8"
             ],
             [
              0.3333333333333333,
              "#9c179e"
             ],
             [
              0.4444444444444444,
              "#bd3786"
             ],
             [
              0.5555555555555556,
              "#d8576b"
             ],
             [
              0.6666666666666666,
              "#ed7953"
             ],
             [
              0.7777777777777778,
              "#fb9f3a"
             ],
             [
              0.8888888888888888,
              "#fdca26"
             ],
             [
              1,
              "#f0f921"
             ]
            ],
            "type": "histogram2d"
           }
          ],
          "histogram2dcontour": [
           {
            "colorbar": {
             "outlinewidth": 0,
             "ticks": ""
            },
            "colorscale": [
             [
              0,
              "#0d0887"
             ],
             [
              0.1111111111111111,
              "#46039f"
             ],
             [
              0.2222222222222222,
              "#7201a8"
             ],
             [
              0.3333333333333333,
              "#9c179e"
             ],
             [
              0.4444444444444444,
              "#bd3786"
             ],
             [
              0.5555555555555556,
              "#d8576b"
             ],
             [
              0.6666666666666666,
              "#ed7953"
             ],
             [
              0.7777777777777778,
              "#fb9f3a"
             ],
             [
              0.8888888888888888,
              "#fdca26"
             ],
             [
              1,
              "#f0f921"
             ]
            ],
            "type": "histogram2dcontour"
           }
          ],
          "mesh3d": [
           {
            "colorbar": {
             "outlinewidth": 0,
             "ticks": ""
            },
            "type": "mesh3d"
           }
          ],
          "parcoords": [
           {
            "line": {
             "colorbar": {
              "outlinewidth": 0,
              "ticks": ""
             }
            },
            "type": "parcoords"
           }
          ],
          "pie": [
           {
            "automargin": true,
            "type": "pie"
           }
          ],
          "scatter": [
           {
            "marker": {
             "colorbar": {
              "outlinewidth": 0,
              "ticks": ""
             }
            },
            "type": "scatter"
           }
          ],
          "scatter3d": [
           {
            "line": {
             "colorbar": {
              "outlinewidth": 0,
              "ticks": ""
             }
            },
            "marker": {
             "colorbar": {
              "outlinewidth": 0,
              "ticks": ""
             }
            },
            "type": "scatter3d"
           }
          ],
          "scattercarpet": [
           {
            "marker": {
             "colorbar": {
              "outlinewidth": 0,
              "ticks": ""
             }
            },
            "type": "scattercarpet"
           }
          ],
          "scattergeo": [
           {
            "marker": {
             "colorbar": {
              "outlinewidth": 0,
              "ticks": ""
             }
            },
            "type": "scattergeo"
           }
          ],
          "scattergl": [
           {
            "marker": {
             "colorbar": {
              "outlinewidth": 0,
              "ticks": ""
             }
            },
            "type": "scattergl"
           }
          ],
          "scattermapbox": [
           {
            "marker": {
             "colorbar": {
              "outlinewidth": 0,
              "ticks": ""
             }
            },
            "type": "scattermapbox"
           }
          ],
          "scatterpolar": [
           {
            "marker": {
             "colorbar": {
              "outlinewidth": 0,
              "ticks": ""
             }
            },
            "type": "scatterpolar"
           }
          ],
          "scatterpolargl": [
           {
            "marker": {
             "colorbar": {
              "outlinewidth": 0,
              "ticks": ""
             }
            },
            "type": "scatterpolargl"
           }
          ],
          "scatterternary": [
           {
            "marker": {
             "colorbar": {
              "outlinewidth": 0,
              "ticks": ""
             }
            },
            "type": "scatterternary"
           }
          ],
          "surface": [
           {
            "colorbar": {
             "outlinewidth": 0,
             "ticks": ""
            },
            "colorscale": [
             [
              0,
              "#0d0887"
             ],
             [
              0.1111111111111111,
              "#46039f"
             ],
             [
              0.2222222222222222,
              "#7201a8"
             ],
             [
              0.3333333333333333,
              "#9c179e"
             ],
             [
              0.4444444444444444,
              "#bd3786"
             ],
             [
              0.5555555555555556,
              "#d8576b"
             ],
             [
              0.6666666666666666,
              "#ed7953"
             ],
             [
              0.7777777777777778,
              "#fb9f3a"
             ],
             [
              0.8888888888888888,
              "#fdca26"
             ],
             [
              1,
              "#f0f921"
             ]
            ],
            "type": "surface"
           }
          ],
          "table": [
           {
            "cells": {
             "fill": {
              "color": "#EBF0F8"
             },
             "line": {
              "color": "white"
             }
            },
            "header": {
             "fill": {
              "color": "#C8D4E3"
             },
             "line": {
              "color": "white"
             }
            },
            "type": "table"
           }
          ]
         },
         "layout": {
          "annotationdefaults": {
           "arrowcolor": "#2a3f5f",
           "arrowhead": 0,
           "arrowwidth": 1
          },
          "autotypenumbers": "strict",
          "coloraxis": {
           "colorbar": {
            "outlinewidth": 0,
            "ticks": ""
           }
          },
          "colorscale": {
           "diverging": [
            [
             0,
             "#8e0152"
            ],
            [
             0.1,
             "#c51b7d"
            ],
            [
             0.2,
             "#de77ae"
            ],
            [
             0.3,
             "#f1b6da"
            ],
            [
             0.4,
             "#fde0ef"
            ],
            [
             0.5,
             "#f7f7f7"
            ],
            [
             0.6,
             "#e6f5d0"
            ],
            [
             0.7,
             "#b8e186"
            ],
            [
             0.8,
             "#7fbc41"
            ],
            [
             0.9,
             "#4d9221"
            ],
            [
             1,
             "#276419"
            ]
           ],
           "sequential": [
            [
             0,
             "#0d0887"
            ],
            [
             0.1111111111111111,
             "#46039f"
            ],
            [
             0.2222222222222222,
             "#7201a8"
            ],
            [
             0.3333333333333333,
             "#9c179e"
            ],
            [
             0.4444444444444444,
             "#bd3786"
            ],
            [
             0.5555555555555556,
             "#d8576b"
            ],
            [
             0.6666666666666666,
             "#ed7953"
            ],
            [
             0.7777777777777778,
             "#fb9f3a"
            ],
            [
             0.8888888888888888,
             "#fdca26"
            ],
            [
             1,
             "#f0f921"
            ]
           ],
           "sequentialminus": [
            [
             0,
             "#0d0887"
            ],
            [
             0.1111111111111111,
             "#46039f"
            ],
            [
             0.2222222222222222,
             "#7201a8"
            ],
            [
             0.3333333333333333,
             "#9c179e"
            ],
            [
             0.4444444444444444,
             "#bd3786"
            ],
            [
             0.5555555555555556,
             "#d8576b"
            ],
            [
             0.6666666666666666,
             "#ed7953"
            ],
            [
             0.7777777777777778,
             "#fb9f3a"
            ],
            [
             0.8888888888888888,
             "#fdca26"
            ],
            [
             1,
             "#f0f921"
            ]
           ]
          },
          "colorway": [
           "#636efa",
           "#EF553B",
           "#00cc96",
           "#ab63fa",
           "#FFA15A",
           "#19d3f3",
           "#FF6692",
           "#B6E880",
           "#FF97FF",
           "#FECB52"
          ],
          "font": {
           "color": "#2a3f5f"
          },
          "geo": {
           "bgcolor": "white",
           "lakecolor": "white",
           "landcolor": "#E5ECF6",
           "showlakes": true,
           "showland": true,
           "subunitcolor": "white"
          },
          "hoverlabel": {
           "align": "left"
          },
          "hovermode": "closest",
          "mapbox": {
           "style": "light"
          },
          "paper_bgcolor": "white",
          "plot_bgcolor": "#E5ECF6",
          "polar": {
           "angularaxis": {
            "gridcolor": "white",
            "linecolor": "white",
            "ticks": ""
           },
           "bgcolor": "#E5ECF6",
           "radialaxis": {
            "gridcolor": "white",
            "linecolor": "white",
            "ticks": ""
           }
          },
          "scene": {
           "xaxis": {
            "backgroundcolor": "#E5ECF6",
            "gridcolor": "white",
            "gridwidth": 2,
            "linecolor": "white",
            "showbackground": true,
            "ticks": "",
            "zerolinecolor": "white"
           },
           "yaxis": {
            "backgroundcolor": "#E5ECF6",
            "gridcolor": "white",
            "gridwidth": 2,
            "linecolor": "white",
            "showbackground": true,
            "ticks": "",
            "zerolinecolor": "white"
           },
           "zaxis": {
            "backgroundcolor": "#E5ECF6",
            "gridcolor": "white",
            "gridwidth": 2,
            "linecolor": "white",
            "showbackground": true,
            "ticks": "",
            "zerolinecolor": "white"
           }
          },
          "shapedefaults": {
           "line": {
            "color": "#2a3f5f"
           }
          },
          "ternary": {
           "aaxis": {
            "gridcolor": "white",
            "linecolor": "white",
            "ticks": ""
           },
           "baxis": {
            "gridcolor": "white",
            "linecolor": "white",
            "ticks": ""
           },
           "bgcolor": "#E5ECF6",
           "caxis": {
            "gridcolor": "white",
            "linecolor": "white",
            "ticks": ""
           }
          },
          "title": {
           "x": 0.05
          },
          "xaxis": {
           "automargin": true,
           "gridcolor": "white",
           "linecolor": "white",
           "ticks": "",
           "title": {
            "standoff": 15
           },
           "zerolinecolor": "white",
           "zerolinewidth": 2
          },
          "yaxis": {
           "automargin": true,
           "gridcolor": "white",
           "linecolor": "white",
           "ticks": "",
           "title": {
            "standoff": 15
           },
           "zerolinecolor": "white",
           "zerolinewidth": 2
          }
         }
        }
       }
      },
      "text/html": [
       "<div>                            <div id=\"eb0551ff-1cca-415f-85a4-3c274271440d\" class=\"plotly-graph-div\" style=\"height:800px; width:100%;\"></div>            <script type=\"text/javascript\">                require([\"plotly\"], function(Plotly) {                    window.PLOTLYENV=window.PLOTLYENV || {};                                    if (document.getElementById(\"eb0551ff-1cca-415f-85a4-3c274271440d\")) {                    Plotly.newPlot(                        \"eb0551ff-1cca-415f-85a4-3c274271440d\",                        [{\"branchvalues\":\"total\",\"domain\":{\"x\":[0.0,1.0],\"y\":[0.0,1.0]},\"hovertemplate\":\"<b>%{label}:</b> %{value:.2f}%\",\"ids\":[\"consumo_nao_ciclico/bebidas/ABEV3\",\"consumo_ciclico/tecidos_vestuario_e_calcados/ALPA4\",\"OTHERS/OTHERS/AMER3\",\"OTHERS/OTHERS/ASAI3\",\"bens_industriais/transporte/AZUL4\",\"financeiro/servicos_financeiros_diversos/B3SA3\",\"financeiro/intermediarios_financeiros/BBAS3\",\"financeiro/intermediarios_financeiros/BBDC3\",\"financeiro/intermediarios_financeiros/BBDC4\",\"financeiro/previdencia_e_seguros/BBSE3\",\"consumo_nao_ciclico/alimentos_processados/BEEF3\",\"OTHERS/OTHERS/BPAC11\",\"financeiro/intermediarios_financeiros/BPAN4\",\"materiais_basicos/mineracao/BRAP4\",\"consumo_nao_ciclico/alimentos_processados/BRFS3\",\"materiais_basicos/quimicos/BRKM5\",\"financeiro/exploracao_de_imoveis/BRML3\",\"tecnologia_da_informacao/programas_e_servicos/CASH3\",\"bens_industriais/transporte/CCRO3\",\"financeiro/servicos_financeiros_diversos/CIEL3\",\"utilidade_publica/energia_eletrica/CMIG4\",\"OTHERS/OTHERS/CMIN3\",\"consumo_ciclico/diversos/COGN3\",\"utilidade_publica/energia_eletrica/CPFE3\",\"utilidade_publica/energia_eletrica/CPLE6\",\"consumo_nao_ciclico/comercio_e_distribuicao/CRFB3\",\"petroleo_gas_e_biocombustiveis/petroleo_gas_e_biocombustiveis/CSAN3\",\"OTHERS/OTHERS/CSNA3\",\"consumo_ciclico/viagens_e_lazer/CVCB3\",\"consumo_ciclico/construcao_civil/CYRE3\",\"OTHERS/OTHERS/DXCO3\",\"bens_industriais/transporte/ECOR3\",\"utilidade_publica/energia_eletrica/EGIE3\",\"utilidade_publica/energia_eletrica/ELET3\",\"utilidade_publica/energia_eletrica/ELET6\",\"bens_industriais/material_de_transporte/EMBR3\",\"utilidade_publica/energia_eletrica/ENBR3\",\"utilidade_publica/energia_eletrica/ENEV3\",\"utilidade_publica/energia_eletrica/ENGI11\",\"utilidade_publica/energia_eletrica/EQTL3\",\"consumo_ciclico/construcao_civil/EZTC3\",\"saude/servicos_medico__hospitalares_analises_e_diagnosticos/FLRY3\",\"materiais_basicos/siderurgia_e_metalurgia/GGBR4\",\"materiais_basicos/siderurgia_e_metalurgia/GOAU4\",\"bens_industriais/transporte/GOLL4\",\"saude/servicos_medico__hospitalares_analises_e_diagnosticos/HAPV3\",\"saude/comercio_e_distribuicao/HYPE3\",\"financeiro/exploracao_de_imoveis/IGTI11\",\"financeiro/previdencia_e_seguros/IRBR3\",\"financeiro/intermediarios_financeiros/ITSA4\",\"financeiro/intermediarios_financeiros/ITUB4\",\"consumo_nao_ciclico/alimentos_processados/JBSS3\",\"consumo_ciclico/construcao_civil/JHSF3\",\"materiais_basicos/madeira_e_papel/KLBN11\",\"consumo_ciclico/comercio/LREN3\",\"tecnologia_da_informacao/programas_e_servicos/LWSA3\",\"consumo_ciclico/comercio/MGLU3\",\"consumo_nao_ciclico/alimentos_processados/MRFG3\",\"consumo_ciclico/construcao_civil/MRVE3\",\"financeiro/exploracao_de_imoveis/MULT3\",\"consumo_nao_ciclico/produtos_de_uso_pessoal_e_de_limpeza/NTCO3\",\"consumo_nao_ciclico/comercio_e_distribuicao/PCAR3\",\"petroleo_gas_e_biocombustiveis/petroleo_gas_e_biocombustiveis/PETR3\",\"petroleo_gas_e_biocombustiveis/petroleo_gas_e_biocombustiveis/PETR4\",\"consumo_ciclico/comercio/PETZ3\",\"tecnologia_da_informacao/computadores_e_equipamentos/POSI3\",\"petroleo_gas_e_biocombustiveis/petroleo_gas_e_biocombustiveis/PRIO3\",\"saude/servicos_medico__hospitalares_analises_e_diagnosticos/QUAL3\",\"saude/comercio_e_distribuicao/RADL3\",\"bens_industriais/transporte/RAIL3\",\"saude/servicos_medico__hospitalares_analises_e_diagnosticos/RDOR3\",\"consumo_ciclico/diversos/RENT3\",\"petroleo_gas_e_biocombustiveis/petroleo_gas_e_biocombustiveis/RRRP3\",\"financeiro/intermediarios_financeiros/SANB11\",\"utilidade_publica/agua_e_saneamento/SBSP3\",\"consumo_nao_ciclico/agropecuaria/SLCE3\",\"consumo_ciclico/comercio/SOMA3\",\"financeiro/previdencia_e_seguros/SULA11\",\"materiais_basicos/madeira_e_papel/SUZB3\",\"utilidade_publica/energia_eletrica/TAEE11\",\"comunicacoes/telecomunicacoes/TIMS3\",\"tecnologia_da_informacao/programas_e_servicos/TOTS3\",\"petroleo_gas_e_biocombustiveis/petroleo_gas_e_biocombustiveis/UGPA3\",\"materiais_basicos/siderurgia_e_metalurgia/USIM5\",\"materiais_basicos/mineracao/VALE3\",\"petroleo_gas_e_biocombustiveis/petroleo_gas_e_biocombustiveis/VBBR3\",\"consumo_ciclico/comercio/VIIA3\",\"comunicacoes/telecomunicacoes/VIVT3\",\"bens_industriais/maquinas_e_equipamentos/WEGE3\",\"consumo_ciclico/diversos/YDUQ3\",\"OTHERS/OTHERS\",\"consumo_nao_ciclico/agropecuaria\",\"utilidade_publica/agua_e_saneamento\",\"consumo_nao_ciclico/alimentos_processados\",\"consumo_nao_ciclico/bebidas\",\"consumo_ciclico/comercio\",\"consumo_nao_ciclico/comercio_e_distribuicao\",\"saude/comercio_e_distribuicao\",\"tecnologia_da_informacao/computadores_e_equipamentos\",\"consumo_ciclico/construcao_civil\",\"consumo_ciclico/diversos\",\"utilidade_publica/energia_eletrica\",\"financeiro/exploracao_de_imoveis\",\"financeiro/intermediarios_financeiros\",\"materiais_basicos/madeira_e_papel\",\"bens_industriais/maquinas_e_equipamentos\",\"bens_industriais/material_de_transporte\",\"materiais_basicos/mineracao\",\"petroleo_gas_e_biocombustiveis/petroleo_gas_e_biocombustiveis\",\"financeiro/previdencia_e_seguros\",\"consumo_nao_ciclico/produtos_de_uso_pessoal_e_de_limpeza\",\"tecnologia_da_informacao/programas_e_servicos\",\"materiais_basicos/quimicos\",\"financeiro/servicos_financeiros_diversos\",\"saude/servicos_medico__hospitalares_analises_e_diagnosticos\",\"materiais_basicos/siderurgia_e_metalurgia\",\"consumo_ciclico/tecidos_vestuario_e_calcados\",\"comunicacoes/telecomunicacoes\",\"bens_industriais/transporte\",\"consumo_ciclico/viagens_e_lazer\",\"OTHERS\",\"bens_industriais\",\"comunicacoes\",\"consumo_ciclico\",\"consumo_nao_ciclico\",\"financeiro\",\"materiais_basicos\",\"petroleo_gas_e_biocombustiveis\",\"saude\",\"tecnologia_da_informacao\",\"utilidade_publica\"],\"labels\":[\"ABEV3\",\"ALPA4\",\"AMER3\",\"ASAI3\",\"AZUL4\",\"B3SA3\",\"BBAS3\",\"BBDC3\",\"BBDC4\",\"BBSE3\",\"BEEF3\",\"BPAC11\",\"BPAN4\",\"BRAP4\",\"BRFS3\",\"BRKM5\",\"BRML3\",\"CASH3\",\"CCRO3\",\"CIEL3\",\"CMIG4\",\"CMIN3\",\"COGN3\",\"CPFE3\",\"CPLE6\",\"CRFB3\",\"CSAN3\",\"CSNA3\",\"CVCB3\",\"CYRE3\",\"DXCO3\",\"ECOR3\",\"EGIE3\",\"ELET3\",\"ELET6\",\"EMBR3\",\"ENBR3\",\"ENEV3\",\"ENGI11\",\"EQTL3\",\"EZTC3\",\"FLRY3\",\"GGBR4\",\"GOAU4\",\"GOLL4\",\"HAPV3\",\"HYPE3\",\"IGTI11\",\"IRBR3\",\"ITSA4\",\"ITUB4\",\"JBSS3\",\"JHSF3\",\"KLBN11\",\"LREN3\",\"LWSA3\",\"MGLU3\",\"MRFG3\",\"MRVE3\",\"MULT3\",\"NTCO3\",\"PCAR3\",\"PETR3\",\"PETR4\",\"PETZ3\",\"POSI3\",\"PRIO3\",\"QUAL3\",\"RADL3\",\"RAIL3\",\"RDOR3\",\"RENT3\",\"RRRP3\",\"SANB11\",\"SBSP3\",\"SLCE3\",\"SOMA3\",\"SULA11\",\"SUZB3\",\"TAEE11\",\"TIMS3\",\"TOTS3\",\"UGPA3\",\"USIM5\",\"VALE3\",\"VBBR3\",\"VIIA3\",\"VIVT3\",\"WEGE3\",\"YDUQ3\",\"OTHERS\",\"agropecuaria\",\"agua_e_saneamento\",\"alimentos_processados\",\"bebidas\",\"comercio\",\"comercio_e_distribuicao\",\"comercio_e_distribuicao\",\"computadores_e_equipamentos\",\"construcao_civil\",\"diversos\",\"energia_eletrica\",\"exploracao_de_imoveis\",\"intermediarios_financeiros\",\"madeira_e_papel\",\"maquinas_e_equipamentos\",\"material_de_transporte\",\"mineracao\",\"petroleo_gas_e_biocombustiveis\",\"previdencia_e_seguros\",\"produtos_de_uso_pessoal_e_de_limpeza\",\"programas_e_servicos\",\"quimicos\",\"servicos_financeiros_diversos\",\"servicos_medico__hospitalares_analises_e_diagnosticos\",\"siderurgia_e_metalurgia\",\"tecidos_vestuario_e_calcados\",\"telecomunicacoes\",\"transporte\",\"viagens_e_lazer\",\"OTHERS\",\"bens_industriais\",\"comunicacoes\",\"consumo_ciclico\",\"consumo_nao_ciclico\",\"financeiro\",\"materiais_basicos\",\"petroleo_gas_e_biocombustiveis\",\"saude\",\"tecnologia_da_informacao\",\"utilidade_publica\"],\"name\":\"\",\"parents\":[\"consumo_nao_ciclico/bebidas\",\"consumo_ciclico/tecidos_vestuario_e_calcados\",\"OTHERS/OTHERS\",\"OTHERS/OTHERS\",\"bens_industriais/transporte\",\"financeiro/servicos_financeiros_diversos\",\"financeiro/intermediarios_financeiros\",\"financeiro/intermediarios_financeiros\",\"financeiro/intermediarios_financeiros\",\"financeiro/previdencia_e_seguros\",\"consumo_nao_ciclico/alimentos_processados\",\"OTHERS/OTHERS\",\"financeiro/intermediarios_financeiros\",\"materiais_basicos/mineracao\",\"consumo_nao_ciclico/alimentos_processados\",\"materiais_basicos/quimicos\",\"financeiro/exploracao_de_imoveis\",\"tecnologia_da_informacao/programas_e_servicos\",\"bens_industriais/transporte\",\"financeiro/servicos_financeiros_diversos\",\"utilidade_publica/energia_eletrica\",\"OTHERS/OTHERS\",\"consumo_ciclico/diversos\",\"utilidade_publica/energia_eletrica\",\"utilidade_publica/energia_eletrica\",\"consumo_nao_ciclico/comercio_e_distribuicao\",\"petroleo_gas_e_biocombustiveis/petroleo_gas_e_biocombustiveis\",\"OTHERS/OTHERS\",\"consumo_ciclico/viagens_e_lazer\",\"consumo_ciclico/construcao_civil\",\"OTHERS/OTHERS\",\"bens_industriais/transporte\",\"utilidade_publica/energia_eletrica\",\"utilidade_publica/energia_eletrica\",\"utilidade_publica/energia_eletrica\",\"bens_industriais/material_de_transporte\",\"utilidade_publica/energia_eletrica\",\"utilidade_publica/energia_eletrica\",\"utilidade_publica/energia_eletrica\",\"utilidade_publica/energia_eletrica\",\"consumo_ciclico/construcao_civil\",\"saude/servicos_medico__hospitalares_analises_e_diagnosticos\",\"materiais_basicos/siderurgia_e_metalurgia\",\"materiais_basicos/siderurgia_e_metalurgia\",\"bens_industriais/transporte\",\"saude/servicos_medico__hospitalares_analises_e_diagnosticos\",\"saude/comercio_e_distribuicao\",\"financeiro/exploracao_de_imoveis\",\"financeiro/previdencia_e_seguros\",\"financeiro/intermediarios_financeiros\",\"financeiro/intermediarios_financeiros\",\"consumo_nao_ciclico/alimentos_processados\",\"consumo_ciclico/construcao_civil\",\"materiais_basicos/madeira_e_papel\",\"consumo_ciclico/comercio\",\"tecnologia_da_informacao/programas_e_servicos\",\"consumo_ciclico/comercio\",\"consumo_nao_ciclico/alimentos_processados\",\"consumo_ciclico/construcao_civil\",\"financeiro/exploracao_de_imoveis\",\"consumo_nao_ciclico/produtos_de_uso_pessoal_e_de_limpeza\",\"consumo_nao_ciclico/comercio_e_distribuicao\",\"petroleo_gas_e_biocombustiveis/petroleo_gas_e_biocombustiveis\",\"petroleo_gas_e_biocombustiveis/petroleo_gas_e_biocombustiveis\",\"consumo_ciclico/comercio\",\"tecnologia_da_informacao/computadores_e_equipamentos\",\"petroleo_gas_e_biocombustiveis/petroleo_gas_e_biocombustiveis\",\"saude/servicos_medico__hospitalares_analises_e_diagnosticos\",\"saude/comercio_e_distribuicao\",\"bens_industriais/transporte\",\"saude/servicos_medico__hospitalares_analises_e_diagnosticos\",\"consumo_ciclico/diversos\",\"petroleo_gas_e_biocombustiveis/petroleo_gas_e_biocombustiveis\",\"financeiro/intermediarios_financeiros\",\"utilidade_publica/agua_e_saneamento\",\"consumo_nao_ciclico/agropecuaria\",\"consumo_ciclico/comercio\",\"financeiro/previdencia_e_seguros\",\"materiais_basicos/madeira_e_papel\",\"utilidade_publica/energia_eletrica\",\"comunicacoes/telecomunicacoes\",\"tecnologia_da_informacao/programas_e_servicos\",\"petroleo_gas_e_biocombustiveis/petroleo_gas_e_biocombustiveis\",\"materiais_basicos/siderurgia_e_metalurgia\",\"materiais_basicos/mineracao\",\"petroleo_gas_e_biocombustiveis/petroleo_gas_e_biocombustiveis\",\"consumo_ciclico/comercio\",\"comunicacoes/telecomunicacoes\",\"bens_industriais/maquinas_e_equipamentos\",\"consumo_ciclico/diversos\",\"OTHERS\",\"consumo_nao_ciclico\",\"utilidade_publica\",\"consumo_nao_ciclico\",\"consumo_nao_ciclico\",\"consumo_ciclico\",\"consumo_nao_ciclico\",\"saude\",\"tecnologia_da_informacao\",\"consumo_ciclico\",\"consumo_ciclico\",\"utilidade_publica\",\"financeiro\",\"financeiro\",\"materiais_basicos\",\"bens_industriais\",\"bens_industriais\",\"materiais_basicos\",\"petroleo_gas_e_biocombustiveis\",\"financeiro\",\"consumo_nao_ciclico\",\"tecnologia_da_informacao\",\"materiais_basicos\",\"financeiro\",\"saude\",\"materiais_basicos\",\"consumo_ciclico\",\"comunicacoes\",\"bens_industriais\",\"consumo_ciclico\",\"\",\"\",\"\",\"\",\"\",\"\",\"\",\"\",\"\",\"\",\"\"],\"values\":[3.238,0.193,0.427,0.68,0.234,3.612,2.769,1.172,4.814,0.965,0.163,1.654,0.123,0.281,0.901,0.476,0.357,0.034,0.767,0.287,0.863,0.212,0.235,0.309,0.547,0.413,1.2,0.492,0.095,0.208,0.161,0.107,0.534,2.306,0.592,0.508,0.257,1.188,0.548,1.367,0.094,0.243,1.358,0.362,0.087,1.488,0.86,0.19,0.149,2.16,6.15,1.923,0.095,0.782,1.334,0.188,0.465,0.219,0.163,0.346,0.66,0.133,5.241,8.264,0.185,0.032,1.015,0.157,1.17,1.091,1.344,2.291,0.336,0.534,0.782,0.207,0.282,0.365,1.737,0.46,0.509,0.766,0.743,0.229,12.874,1.024,0.23,0.936,2.222,0.236,3.626,0.207,0.782,3.206,3.238,2.496,0.546,2.03,0.032,0.56,2.7619999999999996,8.971,0.893,17.722,2.519,2.222,0.508,13.155000000000001,17.823,1.479,0.66,0.988,0.476,3.899,3.232,1.949,0.193,1.445,2.286,0.095,3.626,5.016,1.445,6.106,7.857,23.993000000000002,18.099,17.823,5.262,1.02,9.753],\"type\":\"treemap\",\"textfont\":{\"color\":\"white\",\"size\":14}}],                        {\"template\":{\"data\":{\"bar\":[{\"error_x\":{\"color\":\"#2a3f5f\"},\"error_y\":{\"color\":\"#2a3f5f\"},\"marker\":{\"line\":{\"color\":\"#E5ECF6\",\"width\":0.5},\"pattern\":{\"fillmode\":\"overlay\",\"size\":10,\"solidity\":0.2}},\"type\":\"bar\"}],\"barpolar\":[{\"marker\":{\"line\":{\"color\":\"#E5ECF6\",\"width\":0.5},\"pattern\":{\"fillmode\":\"overlay\",\"size\":10,\"solidity\":0.2}},\"type\":\"barpolar\"}],\"carpet\":[{\"aaxis\":{\"endlinecolor\":\"#2a3f5f\",\"gridcolor\":\"white\",\"linecolor\":\"white\",\"minorgridcolor\":\"white\",\"startlinecolor\":\"#2a3f5f\"},\"baxis\":{\"endlinecolor\":\"#2a3f5f\",\"gridcolor\":\"white\",\"linecolor\":\"white\",\"minorgridcolor\":\"white\",\"startlinecolor\":\"#2a3f5f\"},\"type\":\"carpet\"}],\"choropleth\":[{\"colorbar\":{\"outlinewidth\":0,\"ticks\":\"\"},\"type\":\"choropleth\"}],\"contour\":[{\"colorbar\":{\"outlinewidth\":0,\"ticks\":\"\"},\"colorscale\":[[0.0,\"#0d0887\"],[0.1111111111111111,\"#46039f\"],[0.2222222222222222,\"#7201a8\"],[0.3333333333333333,\"#9c179e\"],[0.4444444444444444,\"#bd3786\"],[0.5555555555555556,\"#d8576b\"],[0.6666666666666666,\"#ed7953\"],[0.7777777777777778,\"#fb9f3a\"],[0.8888888888888888,\"#fdca26\"],[1.0,\"#f0f921\"]],\"type\":\"contour\"}],\"contourcarpet\":[{\"colorbar\":{\"outlinewidth\":0,\"ticks\":\"\"},\"type\":\"contourcarpet\"}],\"heatmap\":[{\"colorbar\":{\"outlinewidth\":0,\"ticks\":\"\"},\"colorscale\":[[0.0,\"#0d0887\"],[0.1111111111111111,\"#46039f\"],[0.2222222222222222,\"#7201a8\"],[0.3333333333333333,\"#9c179e\"],[0.4444444444444444,\"#bd3786\"],[0.5555555555555556,\"#d8576b\"],[0.6666666666666666,\"#ed7953\"],[0.7777777777777778,\"#fb9f3a\"],[0.8888888888888888,\"#fdca26\"],[1.0,\"#f0f921\"]],\"type\":\"heatmap\"}],\"heatmapgl\":[{\"colorbar\":{\"outlinewidth\":0,\"ticks\":\"\"},\"colorscale\":[[0.0,\"#0d0887\"],[0.1111111111111111,\"#46039f\"],[0.2222222222222222,\"#7201a8\"],[0.3333333333333333,\"#9c179e\"],[0.4444444444444444,\"#bd3786\"],[0.5555555555555556,\"#d8576b\"],[0.6666666666666666,\"#ed7953\"],[0.7777777777777778,\"#fb9f3a\"],[0.8888888888888888,\"#fdca26\"],[1.0,\"#f0f921\"]],\"type\":\"heatmapgl\"}],\"histogram\":[{\"marker\":{\"pattern\":{\"fillmode\":\"overlay\",\"size\":10,\"solidity\":0.2}},\"type\":\"histogram\"}],\"histogram2d\":[{\"colorbar\":{\"outlinewidth\":0,\"ticks\":\"\"},\"colorscale\":[[0.0,\"#0d0887\"],[0.1111111111111111,\"#46039f\"],[0.2222222222222222,\"#7201a8\"],[0.3333333333333333,\"#9c179e\"],[0.4444444444444444,\"#bd3786\"],[0.5555555555555556,\"#d8576b\"],[0.6666666666666666,\"#ed7953\"],[0.7777777777777778,\"#fb9f3a\"],[0.8888888888888888,\"#fdca26\"],[1.0,\"#f0f921\"]],\"type\":\"histogram2d\"}],\"histogram2dcontour\":[{\"colorbar\":{\"outlinewidth\":0,\"ticks\":\"\"},\"colorscale\":[[0.0,\"#0d0887\"],[0.1111111111111111,\"#46039f\"],[0.2222222222222222,\"#7201a8\"],[0.3333333333333333,\"#9c179e\"],[0.4444444444444444,\"#bd3786\"],[0.5555555555555556,\"#d8576b\"],[0.6666666666666666,\"#ed7953\"],[0.7777777777777778,\"#fb9f3a\"],[0.8888888888888888,\"#fdca26\"],[1.0,\"#f0f921\"]],\"type\":\"histogram2dcontour\"}],\"mesh3d\":[{\"colorbar\":{\"outlinewidth\":0,\"ticks\":\"\"},\"type\":\"mesh3d\"}],\"parcoords\":[{\"line\":{\"colorbar\":{\"outlinewidth\":0,\"ticks\":\"\"}},\"type\":\"parcoords\"}],\"pie\":[{\"automargin\":true,\"type\":\"pie\"}],\"scatter\":[{\"marker\":{\"colorbar\":{\"outlinewidth\":0,\"ticks\":\"\"}},\"type\":\"scatter\"}],\"scatter3d\":[{\"line\":{\"colorbar\":{\"outlinewidth\":0,\"ticks\":\"\"}},\"marker\":{\"colorbar\":{\"outlinewidth\":0,\"ticks\":\"\"}},\"type\":\"scatter3d\"}],\"scattercarpet\":[{\"marker\":{\"colorbar\":{\"outlinewidth\":0,\"ticks\":\"\"}},\"type\":\"scattercarpet\"}],\"scattergeo\":[{\"marker\":{\"colorbar\":{\"outlinewidth\":0,\"ticks\":\"\"}},\"type\":\"scattergeo\"}],\"scattergl\":[{\"marker\":{\"colorbar\":{\"outlinewidth\":0,\"ticks\":\"\"}},\"type\":\"scattergl\"}],\"scattermapbox\":[{\"marker\":{\"colorbar\":{\"outlinewidth\":0,\"ticks\":\"\"}},\"type\":\"scattermapbox\"}],\"scatterpolar\":[{\"marker\":{\"colorbar\":{\"outlinewidth\":0,\"ticks\":\"\"}},\"type\":\"scatterpolar\"}],\"scatterpolargl\":[{\"marker\":{\"colorbar\":{\"outlinewidth\":0,\"ticks\":\"\"}},\"type\":\"scatterpolargl\"}],\"scatterternary\":[{\"marker\":{\"colorbar\":{\"outlinewidth\":0,\"ticks\":\"\"}},\"type\":\"scatterternary\"}],\"surface\":[{\"colorbar\":{\"outlinewidth\":0,\"ticks\":\"\"},\"colorscale\":[[0.0,\"#0d0887\"],[0.1111111111111111,\"#46039f\"],[0.2222222222222222,\"#7201a8\"],[0.3333333333333333,\"#9c179e\"],[0.4444444444444444,\"#bd3786\"],[0.5555555555555556,\"#d8576b\"],[0.6666666666666666,\"#ed7953\"],[0.7777777777777778,\"#fb9f3a\"],[0.8888888888888888,\"#fdca26\"],[1.0,\"#f0f921\"]],\"type\":\"surface\"}],\"table\":[{\"cells\":{\"fill\":{\"color\":\"#EBF0F8\"},\"line\":{\"color\":\"white\"}},\"header\":{\"fill\":{\"color\":\"#C8D4E3\"},\"line\":{\"color\":\"white\"}},\"type\":\"table\"}]},\"layout\":{\"annotationdefaults\":{\"arrowcolor\":\"#2a3f5f\",\"arrowhead\":0,\"arrowwidth\":1},\"autotypenumbers\":\"strict\",\"coloraxis\":{\"colorbar\":{\"outlinewidth\":0,\"ticks\":\"\"}},\"colorscale\":{\"diverging\":[[0,\"#8e0152\"],[0.1,\"#c51b7d\"],[0.2,\"#de77ae\"],[0.3,\"#f1b6da\"],[0.4,\"#fde0ef\"],[0.5,\"#f7f7f7\"],[0.6,\"#e6f5d0\"],[0.7,\"#b8e186\"],[0.8,\"#7fbc41\"],[0.9,\"#4d9221\"],[1,\"#276419\"]],\"sequential\":[[0.0,\"#0d0887\"],[0.1111111111111111,\"#46039f\"],[0.2222222222222222,\"#7201a8\"],[0.3333333333333333,\"#9c179e\"],[0.4444444444444444,\"#bd3786\"],[0.5555555555555556,\"#d8576b\"],[0.6666666666666666,\"#ed7953\"],[0.7777777777777778,\"#fb9f3a\"],[0.8888888888888888,\"#fdca26\"],[1.0,\"#f0f921\"]],\"sequentialminus\":[[0.0,\"#0d0887\"],[0.1111111111111111,\"#46039f\"],[0.2222222222222222,\"#7201a8\"],[0.3333333333333333,\"#9c179e\"],[0.4444444444444444,\"#bd3786\"],[0.5555555555555556,\"#d8576b\"],[0.6666666666666666,\"#ed7953\"],[0.7777777777777778,\"#fb9f3a\"],[0.8888888888888888,\"#fdca26\"],[1.0,\"#f0f921\"]]},\"colorway\":[\"#636efa\",\"#EF553B\",\"#00cc96\",\"#ab63fa\",\"#FFA15A\",\"#19d3f3\",\"#FF6692\",\"#B6E880\",\"#FF97FF\",\"#FECB52\"],\"font\":{\"color\":\"#2a3f5f\"},\"geo\":{\"bgcolor\":\"white\",\"lakecolor\":\"white\",\"landcolor\":\"#E5ECF6\",\"showlakes\":true,\"showland\":true,\"subunitcolor\":\"white\"},\"hoverlabel\":{\"align\":\"left\"},\"hovermode\":\"closest\",\"mapbox\":{\"style\":\"light\"},\"paper_bgcolor\":\"white\",\"plot_bgcolor\":\"#E5ECF6\",\"polar\":{\"angularaxis\":{\"gridcolor\":\"white\",\"linecolor\":\"white\",\"ticks\":\"\"},\"bgcolor\":\"#E5ECF6\",\"radialaxis\":{\"gridcolor\":\"white\",\"linecolor\":\"white\",\"ticks\":\"\"}},\"scene\":{\"xaxis\":{\"backgroundcolor\":\"#E5ECF6\",\"gridcolor\":\"white\",\"gridwidth\":2,\"linecolor\":\"white\",\"showbackground\":true,\"ticks\":\"\",\"zerolinecolor\":\"white\"},\"yaxis\":{\"backgroundcolor\":\"#E5ECF6\",\"gridcolor\":\"white\",\"gridwidth\":2,\"linecolor\":\"white\",\"showbackground\":true,\"ticks\":\"\",\"zerolinecolor\":\"white\"},\"zaxis\":{\"backgroundcolor\":\"#E5ECF6\",\"gridcolor\":\"white\",\"gridwidth\":2,\"linecolor\":\"white\",\"showbackground\":true,\"ticks\":\"\",\"zerolinecolor\":\"white\"}},\"shapedefaults\":{\"line\":{\"color\":\"#2a3f5f\"}},\"ternary\":{\"aaxis\":{\"gridcolor\":\"white\",\"linecolor\":\"white\",\"ticks\":\"\"},\"baxis\":{\"gridcolor\":\"white\",\"linecolor\":\"white\",\"ticks\":\"\"},\"bgcolor\":\"#E5ECF6\",\"caxis\":{\"gridcolor\":\"white\",\"linecolor\":\"white\",\"ticks\":\"\"}},\"title\":{\"x\":0.05},\"xaxis\":{\"automargin\":true,\"gridcolor\":\"white\",\"linecolor\":\"white\",\"ticks\":\"\",\"title\":{\"standoff\":15},\"zerolinecolor\":\"white\",\"zerolinewidth\":2},\"yaxis\":{\"automargin\":true,\"gridcolor\":\"white\",\"linecolor\":\"white\",\"ticks\":\"\",\"title\":{\"standoff\":15},\"zerolinecolor\":\"white\",\"zerolinewidth\":2}}},\"legend\":{\"tracegroupgap\":0},\"margin\":{\"t\":60},\"height\":800},                        {\"responsive\": true}                    ).then(function(){\n",
       "                            \n",
       "var gd = document.getElementById('eb0551ff-1cca-415f-85a4-3c274271440d');\n",
       "var x = new MutationObserver(function (mutations, observer) {{\n",
       "        var display = window.getComputedStyle(gd).display;\n",
       "        if (!display || display === 'none') {{\n",
       "            console.log([gd, 'removed!']);\n",
       "            Plotly.purge(gd);\n",
       "            observer.disconnect();\n",
       "        }}\n",
       "}});\n",
       "\n",
       "// Listen for the removal of the full notebook cells\n",
       "var notebookContainer = gd.closest('#notebook-container');\n",
       "if (notebookContainer) {{\n",
       "    x.observe(notebookContainer, {childList: true});\n",
       "}}\n",
       "\n",
       "// Listen for the clearing of the current output cell\n",
       "var outputEl = gd.closest('.output');\n",
       "if (outputEl) {{\n",
       "    x.observe(outputEl, {childList: true});\n",
       "}}\n",
       "\n",
       "                        })                };                });            </script>        </div>"
      ]
     },
     "metadata": {},
     "output_type": "display_data"
    }
   ],
   "source": [
    "fig = px.treemap(df, path=['setor', 'sub_setor', 'ATIVO'], values='PORC_PART', height=HEIGHT_NUMBER)\n",
    "\n",
    "fig.update_traces(textfont_color='white',\n",
    "                  textfont_size=14,\n",
    "                  hovertemplate='<b>%{label}:</b> %{value:.2f}%')\n",
    "fig.show()"
   ]
  },
  {
   "cell_type": "markdown",
   "id": "ca5205fe",
   "metadata": {},
   "source": [
    "## Obtendo o valor dos dividendos da carteira teórica"
   ]
  },
  {
   "cell_type": "code",
   "execution_count": 12,
   "id": "586d0f8a",
   "metadata": {},
   "outputs": [
    {
     "data": {
      "text/plain": [
       "2     ABEV3\n",
       "1     ALPA4\n",
       "3     AMER3\n",
       "4     ASAI3\n",
       "5     AZUL4\n",
       "      ...  \n",
       "87    VBBR3\n",
       "86    VIIA3\n",
       "80    VIVT3\n",
       "88    WEGE3\n",
       "89    YDUQ3\n",
       "Name: ATIVO, Length: 90, dtype: object"
      ]
     },
     "execution_count": 12,
     "metadata": {},
     "output_type": "execute_result"
    }
   ],
   "source": [
    "#verificando os ativos por ordem alfabética\n",
    "df.ATIVO.sort_values()"
   ]
  },
  {
   "cell_type": "markdown",
   "id": "04c4f598",
   "metadata": {},
   "source": [
    "#### Tratando arquivos com \".SA\" para padronizar os tickers para obter dados do yahoo finance."
   ]
  },
  {
   "cell_type": "code",
   "execution_count": 13,
   "id": "d2df2e90",
   "metadata": {},
   "outputs": [
    {
     "data": {
      "text/plain": [
       "['RRRP3.SA', 'ALPA4.SA', 'ABEV3.SA', 'AMER3.SA', 'ASAI3.SA']"
      ]
     },
     "execution_count": 13,
     "metadata": {},
     "output_type": "execute_result"
    }
   ],
   "source": [
    "tickers_yf = [x + '.SA' for x in df.ATIVO]\n",
    "#verificando os 5 primeiros ativos\n",
    "tickers_yf[0:5]"
   ]
  },
  {
   "cell_type": "code",
   "execution_count": 14,
   "id": "0195acb7",
   "metadata": {},
   "outputs": [
    {
     "data": {
      "text/plain": [
       "'2022-08-11'"
      ]
     },
     "execution_count": 14,
     "metadata": {},
     "output_type": "execute_result"
    }
   ],
   "source": [
    "#obtendo a data atual\n",
    "data_atual = datetime.today()\n",
    "data_atual = data_atual.strftime('%Y-%m-%d')\n",
    "data_atual"
   ]
  },
  {
   "cell_type": "code",
   "execution_count": 16,
   "id": "dbf88ea9",
   "metadata": {},
   "outputs": [
    {
     "name": "stderr",
     "output_type": "stream",
     "text": [
      "D:\\anaconda3\\lib\\site-packages\\dateparser\\date_parser.py:35: PytzUsageWarning:\n",
      "\n",
      "The localize method is no longer necessary, as this time zone supports the fold attribute (PEP 495). For more details on migrating to a PEP 495-compliant implementation, see https://pytz-deprecation-shim.readthedocs.io/en/latest/migration.html\n",
      "\n",
      "D:\\anaconda3\\lib\\site-packages\\dateparser\\date_parser.py:35: PytzUsageWarning:\n",
      "\n",
      "The localize method is no longer necessary, as this time zone supports the fold attribute (PEP 495). For more details on migrating to a PEP 495-compliant implementation, see https://pytz-deprecation-shim.readthedocs.io/en/latest/migration.html\n",
      "\n",
      "D:\\anaconda3\\lib\\site-packages\\dateparser\\date_parser.py:35: PytzUsageWarning:\n",
      "\n",
      "The localize method is no longer necessary, as this time zone supports the fold attribute (PEP 495). For more details on migrating to a PEP 495-compliant implementation, see https://pytz-deprecation-shim.readthedocs.io/en/latest/migration.html\n",
      "\n",
      "D:\\anaconda3\\lib\\site-packages\\dateparser\\date_parser.py:35: PytzUsageWarning:\n",
      "\n",
      "The localize method is no longer necessary, as this time zone supports the fold attribute (PEP 495). For more details on migrating to a PEP 495-compliant implementation, see https://pytz-deprecation-shim.readthedocs.io/en/latest/migration.html\n",
      "\n",
      "D:\\anaconda3\\lib\\site-packages\\dateparser\\date_parser.py:35: PytzUsageWarning:\n",
      "\n",
      "The localize method is no longer necessary, as this time zone supports the fold attribute (PEP 495). For more details on migrating to a PEP 495-compliant implementation, see https://pytz-deprecation-shim.readthedocs.io/en/latest/migration.html\n",
      "\n",
      "D:\\anaconda3\\lib\\site-packages\\dateparser\\date_parser.py:35: PytzUsageWarning:\n",
      "\n",
      "The localize method is no longer necessary, as this time zone supports the fold attribute (PEP 495). For more details on migrating to a PEP 495-compliant implementation, see https://pytz-deprecation-shim.readthedocs.io/en/latest/migration.html\n",
      "\n",
      "D:\\anaconda3\\lib\\site-packages\\dateparser\\date_parser.py:35: PytzUsageWarning:\n",
      "\n",
      "The localize method is no longer necessary, as this time zone supports the fold attribute (PEP 495). For more details on migrating to a PEP 495-compliant implementation, see https://pytz-deprecation-shim.readthedocs.io/en/latest/migration.html\n",
      "\n",
      "D:\\anaconda3\\lib\\site-packages\\dateparser\\date_parser.py:35: PytzUsageWarning:\n",
      "\n",
      "The localize method is no longer necessary, as this time zone supports the fold attribute (PEP 495). For more details on migrating to a PEP 495-compliant implementation, see https://pytz-deprecation-shim.readthedocs.io/en/latest/migration.html\n",
      "\n",
      "D:\\anaconda3\\lib\\site-packages\\dateparser\\date_parser.py:35: PytzUsageWarning:\n",
      "\n",
      "The localize method is no longer necessary, as this time zone supports the fold attribute (PEP 495). For more details on migrating to a PEP 495-compliant implementation, see https://pytz-deprecation-shim.readthedocs.io/en/latest/migration.html\n",
      "\n",
      "D:\\anaconda3\\lib\\site-packages\\dateparser\\date_parser.py:35: PytzUsageWarning:\n",
      "\n",
      "The localize method is no longer necessary, as this time zone supports the fold attribute (PEP 495). For more details on migrating to a PEP 495-compliant implementation, see https://pytz-deprecation-shim.readthedocs.io/en/latest/migration.html\n",
      "\n",
      "D:\\anaconda3\\lib\\site-packages\\dateparser\\date_parser.py:35: PytzUsageWarning:\n",
      "\n",
      "The localize method is no longer necessary, as this time zone supports the fold attribute (PEP 495). For more details on migrating to a PEP 495-compliant implementation, see https://pytz-deprecation-shim.readthedocs.io/en/latest/migration.html\n",
      "\n",
      "D:\\anaconda3\\lib\\site-packages\\dateparser\\date_parser.py:35: PytzUsageWarning:\n",
      "\n",
      "The localize method is no longer necessary, as this time zone supports the fold attribute (PEP 495). For more details on migrating to a PEP 495-compliant implementation, see https://pytz-deprecation-shim.readthedocs.io/en/latest/migration.html\n",
      "\n",
      "D:\\anaconda3\\lib\\site-packages\\dateparser\\date_parser.py:35: PytzUsageWarning:\n",
      "\n",
      "The localize method is no longer necessary, as this time zone supports the fold attribute (PEP 495). For more details on migrating to a PEP 495-compliant implementation, see https://pytz-deprecation-shim.readthedocs.io/en/latest/migration.html\n",
      "\n",
      "D:\\anaconda3\\lib\\site-packages\\dateparser\\date_parser.py:35: PytzUsageWarning:\n",
      "\n",
      "The localize method is no longer necessary, as this time zone supports the fold attribute (PEP 495). For more details on migrating to a PEP 495-compliant implementation, see https://pytz-deprecation-shim.readthedocs.io/en/latest/migration.html\n",
      "\n",
      "D:\\anaconda3\\lib\\site-packages\\dateparser\\date_parser.py:35: PytzUsageWarning:\n",
      "\n",
      "The localize method is no longer necessary, as this time zone supports the fold attribute (PEP 495). For more details on migrating to a PEP 495-compliant implementation, see https://pytz-deprecation-shim.readthedocs.io/en/latest/migration.html\n",
      "\n",
      "D:\\anaconda3\\lib\\site-packages\\dateparser\\date_parser.py:35: PytzUsageWarning:\n",
      "\n",
      "The localize method is no longer necessary, as this time zone supports the fold attribute (PEP 495). For more details on migrating to a PEP 495-compliant implementation, see https://pytz-deprecation-shim.readthedocs.io/en/latest/migration.html\n",
      "\n",
      "D:\\anaconda3\\lib\\site-packages\\dateparser\\date_parser.py:35: PytzUsageWarning:\n",
      "\n",
      "The localize method is no longer necessary, as this time zone supports the fold attribute (PEP 495). For more details on migrating to a PEP 495-compliant implementation, see https://pytz-deprecation-shim.readthedocs.io/en/latest/migration.html\n",
      "\n",
      "D:\\anaconda3\\lib\\site-packages\\dateparser\\date_parser.py:35: PytzUsageWarning:\n",
      "\n",
      "The localize method is no longer necessary, as this time zone supports the fold attribute (PEP 495). For more details on migrating to a PEP 495-compliant implementation, see https://pytz-deprecation-shim.readthedocs.io/en/latest/migration.html\n",
      "\n",
      "D:\\anaconda3\\lib\\site-packages\\dateparser\\date_parser.py:35: PytzUsageWarning:\n",
      "\n",
      "The localize method is no longer necessary, as this time zone supports the fold attribute (PEP 495). For more details on migrating to a PEP 495-compliant implementation, see https://pytz-deprecation-shim.readthedocs.io/en/latest/migration.html\n",
      "\n",
      "D:\\anaconda3\\lib\\site-packages\\dateparser\\date_parser.py:35: PytzUsageWarning:\n",
      "\n",
      "The localize method is no longer necessary, as this time zone supports the fold attribute (PEP 495). For more details on migrating to a PEP 495-compliant implementation, see https://pytz-deprecation-shim.readthedocs.io/en/latest/migration.html\n",
      "\n",
      "D:\\anaconda3\\lib\\site-packages\\dateparser\\date_parser.py:35: PytzUsageWarning:\n",
      "\n",
      "The localize method is no longer necessary, as this time zone supports the fold attribute (PEP 495). For more details on migrating to a PEP 495-compliant implementation, see https://pytz-deprecation-shim.readthedocs.io/en/latest/migration.html\n",
      "\n",
      "D:\\anaconda3\\lib\\site-packages\\dateparser\\date_parser.py:35: PytzUsageWarning:\n",
      "\n",
      "The localize method is no longer necessary, as this time zone supports the fold attribute (PEP 495). For more details on migrating to a PEP 495-compliant implementation, see https://pytz-deprecation-shim.readthedocs.io/en/latest/migration.html\n",
      "\n",
      "D:\\anaconda3\\lib\\site-packages\\dateparser\\date_parser.py:35: PytzUsageWarning:\n",
      "\n",
      "The localize method is no longer necessary, as this time zone supports the fold attribute (PEP 495). For more details on migrating to a PEP 495-compliant implementation, see https://pytz-deprecation-shim.readthedocs.io/en/latest/migration.html\n",
      "\n",
      "D:\\anaconda3\\lib\\site-packages\\dateparser\\date_parser.py:35: PytzUsageWarning:\n",
      "\n",
      "The localize method is no longer necessary, as this time zone supports the fold attribute (PEP 495). For more details on migrating to a PEP 495-compliant implementation, see https://pytz-deprecation-shim.readthedocs.io/en/latest/migration.html\n",
      "\n",
      "D:\\anaconda3\\lib\\site-packages\\dateparser\\date_parser.py:35: PytzUsageWarning:\n",
      "\n",
      "The localize method is no longer necessary, as this time zone supports the fold attribute (PEP 495). For more details on migrating to a PEP 495-compliant implementation, see https://pytz-deprecation-shim.readthedocs.io/en/latest/migration.html\n",
      "\n",
      "D:\\anaconda3\\lib\\site-packages\\dateparser\\date_parser.py:35: PytzUsageWarning:\n",
      "\n",
      "The localize method is no longer necessary, as this time zone supports the fold attribute (PEP 495). For more details on migrating to a PEP 495-compliant implementation, see https://pytz-deprecation-shim.readthedocs.io/en/latest/migration.html\n",
      "\n"
     ]
    },
    {
     "name": "stderr",
     "output_type": "stream",
     "text": [
      "D:\\anaconda3\\lib\\site-packages\\dateparser\\date_parser.py:35: PytzUsageWarning:\n",
      "\n",
      "The localize method is no longer necessary, as this time zone supports the fold attribute (PEP 495). For more details on migrating to a PEP 495-compliant implementation, see https://pytz-deprecation-shim.readthedocs.io/en/latest/migration.html\n",
      "\n",
      "D:\\anaconda3\\lib\\site-packages\\dateparser\\date_parser.py:35: PytzUsageWarning:\n",
      "\n",
      "The localize method is no longer necessary, as this time zone supports the fold attribute (PEP 495). For more details on migrating to a PEP 495-compliant implementation, see https://pytz-deprecation-shim.readthedocs.io/en/latest/migration.html\n",
      "\n",
      "D:\\anaconda3\\lib\\site-packages\\dateparser\\date_parser.py:35: PytzUsageWarning:\n",
      "\n",
      "The localize method is no longer necessary, as this time zone supports the fold attribute (PEP 495). For more details on migrating to a PEP 495-compliant implementation, see https://pytz-deprecation-shim.readthedocs.io/en/latest/migration.html\n",
      "\n",
      "D:\\anaconda3\\lib\\site-packages\\dateparser\\date_parser.py:35: PytzUsageWarning:\n",
      "\n",
      "The localize method is no longer necessary, as this time zone supports the fold attribute (PEP 495). For more details on migrating to a PEP 495-compliant implementation, see https://pytz-deprecation-shim.readthedocs.io/en/latest/migration.html\n",
      "\n",
      "D:\\anaconda3\\lib\\site-packages\\dateparser\\date_parser.py:35: PytzUsageWarning:\n",
      "\n",
      "The localize method is no longer necessary, as this time zone supports the fold attribute (PEP 495). For more details on migrating to a PEP 495-compliant implementation, see https://pytz-deprecation-shim.readthedocs.io/en/latest/migration.html\n",
      "\n",
      "D:\\anaconda3\\lib\\site-packages\\dateparser\\date_parser.py:35: PytzUsageWarning:\n",
      "\n",
      "The localize method is no longer necessary, as this time zone supports the fold attribute (PEP 495). For more details on migrating to a PEP 495-compliant implementation, see https://pytz-deprecation-shim.readthedocs.io/en/latest/migration.html\n",
      "\n",
      "D:\\anaconda3\\lib\\site-packages\\dateparser\\date_parser.py:35: PytzUsageWarning:\n",
      "\n",
      "The localize method is no longer necessary, as this time zone supports the fold attribute (PEP 495). For more details on migrating to a PEP 495-compliant implementation, see https://pytz-deprecation-shim.readthedocs.io/en/latest/migration.html\n",
      "\n",
      "D:\\anaconda3\\lib\\site-packages\\dateparser\\date_parser.py:35: PytzUsageWarning:\n",
      "\n",
      "The localize method is no longer necessary, as this time zone supports the fold attribute (PEP 495). For more details on migrating to a PEP 495-compliant implementation, see https://pytz-deprecation-shim.readthedocs.io/en/latest/migration.html\n",
      "\n",
      "D:\\anaconda3\\lib\\site-packages\\dateparser\\date_parser.py:35: PytzUsageWarning:\n",
      "\n",
      "The localize method is no longer necessary, as this time zone supports the fold attribute (PEP 495). For more details on migrating to a PEP 495-compliant implementation, see https://pytz-deprecation-shim.readthedocs.io/en/latest/migration.html\n",
      "\n",
      "D:\\anaconda3\\lib\\site-packages\\dateparser\\date_parser.py:35: PytzUsageWarning:\n",
      "\n",
      "The localize method is no longer necessary, as this time zone supports the fold attribute (PEP 495). For more details on migrating to a PEP 495-compliant implementation, see https://pytz-deprecation-shim.readthedocs.io/en/latest/migration.html\n",
      "\n",
      "D:\\anaconda3\\lib\\site-packages\\dateparser\\date_parser.py:35: PytzUsageWarning:\n",
      "\n",
      "The localize method is no longer necessary, as this time zone supports the fold attribute (PEP 495). For more details on migrating to a PEP 495-compliant implementation, see https://pytz-deprecation-shim.readthedocs.io/en/latest/migration.html\n",
      "\n",
      "D:\\anaconda3\\lib\\site-packages\\dateparser\\date_parser.py:35: PytzUsageWarning:\n",
      "\n",
      "The localize method is no longer necessary, as this time zone supports the fold attribute (PEP 495). For more details on migrating to a PEP 495-compliant implementation, see https://pytz-deprecation-shim.readthedocs.io/en/latest/migration.html\n",
      "\n",
      "D:\\anaconda3\\lib\\site-packages\\dateparser\\date_parser.py:35: PytzUsageWarning:\n",
      "\n",
      "The localize method is no longer necessary, as this time zone supports the fold attribute (PEP 495). For more details on migrating to a PEP 495-compliant implementation, see https://pytz-deprecation-shim.readthedocs.io/en/latest/migration.html\n",
      "\n",
      "D:\\anaconda3\\lib\\site-packages\\dateparser\\date_parser.py:35: PytzUsageWarning:\n",
      "\n",
      "The localize method is no longer necessary, as this time zone supports the fold attribute (PEP 495). For more details on migrating to a PEP 495-compliant implementation, see https://pytz-deprecation-shim.readthedocs.io/en/latest/migration.html\n",
      "\n",
      "D:\\anaconda3\\lib\\site-packages\\dateparser\\date_parser.py:35: PytzUsageWarning:\n",
      "\n",
      "The localize method is no longer necessary, as this time zone supports the fold attribute (PEP 495). For more details on migrating to a PEP 495-compliant implementation, see https://pytz-deprecation-shim.readthedocs.io/en/latest/migration.html\n",
      "\n",
      "D:\\anaconda3\\lib\\site-packages\\dateparser\\date_parser.py:35: PytzUsageWarning:\n",
      "\n",
      "The localize method is no longer necessary, as this time zone supports the fold attribute (PEP 495). For more details on migrating to a PEP 495-compliant implementation, see https://pytz-deprecation-shim.readthedocs.io/en/latest/migration.html\n",
      "\n",
      "D:\\anaconda3\\lib\\site-packages\\dateparser\\date_parser.py:35: PytzUsageWarning:\n",
      "\n",
      "The localize method is no longer necessary, as this time zone supports the fold attribute (PEP 495). For more details on migrating to a PEP 495-compliant implementation, see https://pytz-deprecation-shim.readthedocs.io/en/latest/migration.html\n",
      "\n",
      "D:\\anaconda3\\lib\\site-packages\\dateparser\\date_parser.py:35: PytzUsageWarning:\n",
      "\n",
      "The localize method is no longer necessary, as this time zone supports the fold attribute (PEP 495). For more details on migrating to a PEP 495-compliant implementation, see https://pytz-deprecation-shim.readthedocs.io/en/latest/migration.html\n",
      "\n",
      "D:\\anaconda3\\lib\\site-packages\\dateparser\\date_parser.py:35: PytzUsageWarning:\n",
      "\n",
      "The localize method is no longer necessary, as this time zone supports the fold attribute (PEP 495). For more details on migrating to a PEP 495-compliant implementation, see https://pytz-deprecation-shim.readthedocs.io/en/latest/migration.html\n",
      "\n",
      "D:\\anaconda3\\lib\\site-packages\\dateparser\\date_parser.py:35: PytzUsageWarning:\n",
      "\n",
      "The localize method is no longer necessary, as this time zone supports the fold attribute (PEP 495). For more details on migrating to a PEP 495-compliant implementation, see https://pytz-deprecation-shim.readthedocs.io/en/latest/migration.html\n",
      "\n",
      "D:\\anaconda3\\lib\\site-packages\\dateparser\\date_parser.py:35: PytzUsageWarning:\n",
      "\n",
      "The localize method is no longer necessary, as this time zone supports the fold attribute (PEP 495). For more details on migrating to a PEP 495-compliant implementation, see https://pytz-deprecation-shim.readthedocs.io/en/latest/migration.html\n",
      "\n",
      "D:\\anaconda3\\lib\\site-packages\\dateparser\\date_parser.py:35: PytzUsageWarning:\n",
      "\n",
      "The localize method is no longer necessary, as this time zone supports the fold attribute (PEP 495). For more details on migrating to a PEP 495-compliant implementation, see https://pytz-deprecation-shim.readthedocs.io/en/latest/migration.html\n",
      "\n",
      "D:\\anaconda3\\lib\\site-packages\\dateparser\\date_parser.py:35: PytzUsageWarning:\n",
      "\n",
      "The localize method is no longer necessary, as this time zone supports the fold attribute (PEP 495). For more details on migrating to a PEP 495-compliant implementation, see https://pytz-deprecation-shim.readthedocs.io/en/latest/migration.html\n",
      "\n",
      "D:\\anaconda3\\lib\\site-packages\\dateparser\\date_parser.py:35: PytzUsageWarning:\n",
      "\n",
      "The localize method is no longer necessary, as this time zone supports the fold attribute (PEP 495). For more details on migrating to a PEP 495-compliant implementation, see https://pytz-deprecation-shim.readthedocs.io/en/latest/migration.html\n",
      "\n",
      "D:\\anaconda3\\lib\\site-packages\\dateparser\\date_parser.py:35: PytzUsageWarning:\n",
      "\n",
      "The localize method is no longer necessary, as this time zone supports the fold attribute (PEP 495). For more details on migrating to a PEP 495-compliant implementation, see https://pytz-deprecation-shim.readthedocs.io/en/latest/migration.html\n",
      "\n",
      "D:\\anaconda3\\lib\\site-packages\\dateparser\\date_parser.py:35: PytzUsageWarning:\n",
      "\n",
      "The localize method is no longer necessary, as this time zone supports the fold attribute (PEP 495). For more details on migrating to a PEP 495-compliant implementation, see https://pytz-deprecation-shim.readthedocs.io/en/latest/migration.html\n",
      "\n"
     ]
    },
    {
     "name": "stderr",
     "output_type": "stream",
     "text": [
      "D:\\anaconda3\\lib\\site-packages\\dateparser\\date_parser.py:35: PytzUsageWarning:\n",
      "\n",
      "The localize method is no longer necessary, as this time zone supports the fold attribute (PEP 495). For more details on migrating to a PEP 495-compliant implementation, see https://pytz-deprecation-shim.readthedocs.io/en/latest/migration.html\n",
      "\n",
      "D:\\anaconda3\\lib\\site-packages\\dateparser\\date_parser.py:35: PytzUsageWarning:\n",
      "\n",
      "The localize method is no longer necessary, as this time zone supports the fold attribute (PEP 495). For more details on migrating to a PEP 495-compliant implementation, see https://pytz-deprecation-shim.readthedocs.io/en/latest/migration.html\n",
      "\n",
      "D:\\anaconda3\\lib\\site-packages\\dateparser\\date_parser.py:35: PytzUsageWarning:\n",
      "\n",
      "The localize method is no longer necessary, as this time zone supports the fold attribute (PEP 495). For more details on migrating to a PEP 495-compliant implementation, see https://pytz-deprecation-shim.readthedocs.io/en/latest/migration.html\n",
      "\n",
      "D:\\anaconda3\\lib\\site-packages\\dateparser\\date_parser.py:35: PytzUsageWarning:\n",
      "\n",
      "The localize method is no longer necessary, as this time zone supports the fold attribute (PEP 495). For more details on migrating to a PEP 495-compliant implementation, see https://pytz-deprecation-shim.readthedocs.io/en/latest/migration.html\n",
      "\n",
      "D:\\anaconda3\\lib\\site-packages\\dateparser\\date_parser.py:35: PytzUsageWarning:\n",
      "\n",
      "The localize method is no longer necessary, as this time zone supports the fold attribute (PEP 495). For more details on migrating to a PEP 495-compliant implementation, see https://pytz-deprecation-shim.readthedocs.io/en/latest/migration.html\n",
      "\n",
      "D:\\anaconda3\\lib\\site-packages\\dateparser\\date_parser.py:35: PytzUsageWarning:\n",
      "\n",
      "The localize method is no longer necessary, as this time zone supports the fold attribute (PEP 495). For more details on migrating to a PEP 495-compliant implementation, see https://pytz-deprecation-shim.readthedocs.io/en/latest/migration.html\n",
      "\n",
      "D:\\anaconda3\\lib\\site-packages\\dateparser\\date_parser.py:35: PytzUsageWarning:\n",
      "\n",
      "The localize method is no longer necessary, as this time zone supports the fold attribute (PEP 495). For more details on migrating to a PEP 495-compliant implementation, see https://pytz-deprecation-shim.readthedocs.io/en/latest/migration.html\n",
      "\n",
      "D:\\anaconda3\\lib\\site-packages\\dateparser\\date_parser.py:35: PytzUsageWarning:\n",
      "\n",
      "The localize method is no longer necessary, as this time zone supports the fold attribute (PEP 495). For more details on migrating to a PEP 495-compliant implementation, see https://pytz-deprecation-shim.readthedocs.io/en/latest/migration.html\n",
      "\n",
      "D:\\anaconda3\\lib\\site-packages\\dateparser\\date_parser.py:35: PytzUsageWarning:\n",
      "\n",
      "The localize method is no longer necessary, as this time zone supports the fold attribute (PEP 495). For more details on migrating to a PEP 495-compliant implementation, see https://pytz-deprecation-shim.readthedocs.io/en/latest/migration.html\n",
      "\n",
      "D:\\anaconda3\\lib\\site-packages\\dateparser\\date_parser.py:35: PytzUsageWarning:\n",
      "\n",
      "The localize method is no longer necessary, as this time zone supports the fold attribute (PEP 495). For more details on migrating to a PEP 495-compliant implementation, see https://pytz-deprecation-shim.readthedocs.io/en/latest/migration.html\n",
      "\n",
      "D:\\anaconda3\\lib\\site-packages\\dateparser\\date_parser.py:35: PytzUsageWarning:\n",
      "\n",
      "The localize method is no longer necessary, as this time zone supports the fold attribute (PEP 495). For more details on migrating to a PEP 495-compliant implementation, see https://pytz-deprecation-shim.readthedocs.io/en/latest/migration.html\n",
      "\n",
      "D:\\anaconda3\\lib\\site-packages\\dateparser\\date_parser.py:35: PytzUsageWarning:\n",
      "\n",
      "The localize method is no longer necessary, as this time zone supports the fold attribute (PEP 495). For more details on migrating to a PEP 495-compliant implementation, see https://pytz-deprecation-shim.readthedocs.io/en/latest/migration.html\n",
      "\n",
      "D:\\anaconda3\\lib\\site-packages\\dateparser\\date_parser.py:35: PytzUsageWarning:\n",
      "\n",
      "The localize method is no longer necessary, as this time zone supports the fold attribute (PEP 495). For more details on migrating to a PEP 495-compliant implementation, see https://pytz-deprecation-shim.readthedocs.io/en/latest/migration.html\n",
      "\n",
      "D:\\anaconda3\\lib\\site-packages\\dateparser\\date_parser.py:35: PytzUsageWarning:\n",
      "\n",
      "The localize method is no longer necessary, as this time zone supports the fold attribute (PEP 495). For more details on migrating to a PEP 495-compliant implementation, see https://pytz-deprecation-shim.readthedocs.io/en/latest/migration.html\n",
      "\n",
      "D:\\anaconda3\\lib\\site-packages\\dateparser\\date_parser.py:35: PytzUsageWarning:\n",
      "\n",
      "The localize method is no longer necessary, as this time zone supports the fold attribute (PEP 495). For more details on migrating to a PEP 495-compliant implementation, see https://pytz-deprecation-shim.readthedocs.io/en/latest/migration.html\n",
      "\n",
      "D:\\anaconda3\\lib\\site-packages\\dateparser\\date_parser.py:35: PytzUsageWarning:\n",
      "\n",
      "The localize method is no longer necessary, as this time zone supports the fold attribute (PEP 495). For more details on migrating to a PEP 495-compliant implementation, see https://pytz-deprecation-shim.readthedocs.io/en/latest/migration.html\n",
      "\n",
      "D:\\anaconda3\\lib\\site-packages\\dateparser\\date_parser.py:35: PytzUsageWarning:\n",
      "\n",
      "The localize method is no longer necessary, as this time zone supports the fold attribute (PEP 495). For more details on migrating to a PEP 495-compliant implementation, see https://pytz-deprecation-shim.readthedocs.io/en/latest/migration.html\n",
      "\n",
      "D:\\anaconda3\\lib\\site-packages\\dateparser\\date_parser.py:35: PytzUsageWarning:\n",
      "\n",
      "The localize method is no longer necessary, as this time zone supports the fold attribute (PEP 495). For more details on migrating to a PEP 495-compliant implementation, see https://pytz-deprecation-shim.readthedocs.io/en/latest/migration.html\n",
      "\n",
      "D:\\anaconda3\\lib\\site-packages\\dateparser\\date_parser.py:35: PytzUsageWarning:\n",
      "\n",
      "The localize method is no longer necessary, as this time zone supports the fold attribute (PEP 495). For more details on migrating to a PEP 495-compliant implementation, see https://pytz-deprecation-shim.readthedocs.io/en/latest/migration.html\n",
      "\n",
      "D:\\anaconda3\\lib\\site-packages\\dateparser\\date_parser.py:35: PytzUsageWarning:\n",
      "\n",
      "The localize method is no longer necessary, as this time zone supports the fold attribute (PEP 495). For more details on migrating to a PEP 495-compliant implementation, see https://pytz-deprecation-shim.readthedocs.io/en/latest/migration.html\n",
      "\n",
      "D:\\anaconda3\\lib\\site-packages\\dateparser\\date_parser.py:35: PytzUsageWarning:\n",
      "\n",
      "The localize method is no longer necessary, as this time zone supports the fold attribute (PEP 495). For more details on migrating to a PEP 495-compliant implementation, see https://pytz-deprecation-shim.readthedocs.io/en/latest/migration.html\n",
      "\n",
      "D:\\anaconda3\\lib\\site-packages\\dateparser\\date_parser.py:35: PytzUsageWarning:\n",
      "\n",
      "The localize method is no longer necessary, as this time zone supports the fold attribute (PEP 495). For more details on migrating to a PEP 495-compliant implementation, see https://pytz-deprecation-shim.readthedocs.io/en/latest/migration.html\n",
      "\n",
      "D:\\anaconda3\\lib\\site-packages\\dateparser\\date_parser.py:35: PytzUsageWarning:\n",
      "\n",
      "The localize method is no longer necessary, as this time zone supports the fold attribute (PEP 495). For more details on migrating to a PEP 495-compliant implementation, see https://pytz-deprecation-shim.readthedocs.io/en/latest/migration.html\n",
      "\n",
      "D:\\anaconda3\\lib\\site-packages\\dateparser\\date_parser.py:35: PytzUsageWarning:\n",
      "\n",
      "The localize method is no longer necessary, as this time zone supports the fold attribute (PEP 495). For more details on migrating to a PEP 495-compliant implementation, see https://pytz-deprecation-shim.readthedocs.io/en/latest/migration.html\n",
      "\n",
      "D:\\anaconda3\\lib\\site-packages\\dateparser\\date_parser.py:35: PytzUsageWarning:\n",
      "\n",
      "The localize method is no longer necessary, as this time zone supports the fold attribute (PEP 495). For more details on migrating to a PEP 495-compliant implementation, see https://pytz-deprecation-shim.readthedocs.io/en/latest/migration.html\n",
      "\n",
      "D:\\anaconda3\\lib\\site-packages\\dateparser\\date_parser.py:35: PytzUsageWarning:\n",
      "\n",
      "The localize method is no longer necessary, as this time zone supports the fold attribute (PEP 495). For more details on migrating to a PEP 495-compliant implementation, see https://pytz-deprecation-shim.readthedocs.io/en/latest/migration.html\n",
      "\n"
     ]
    },
    {
     "name": "stderr",
     "output_type": "stream",
     "text": [
      "D:\\anaconda3\\lib\\site-packages\\dateparser\\date_parser.py:35: PytzUsageWarning:\n",
      "\n",
      "The localize method is no longer necessary, as this time zone supports the fold attribute (PEP 495). For more details on migrating to a PEP 495-compliant implementation, see https://pytz-deprecation-shim.readthedocs.io/en/latest/migration.html\n",
      "\n",
      "D:\\anaconda3\\lib\\site-packages\\dateparser\\date_parser.py:35: PytzUsageWarning:\n",
      "\n",
      "The localize method is no longer necessary, as this time zone supports the fold attribute (PEP 495). For more details on migrating to a PEP 495-compliant implementation, see https://pytz-deprecation-shim.readthedocs.io/en/latest/migration.html\n",
      "\n",
      "D:\\anaconda3\\lib\\site-packages\\dateparser\\date_parser.py:35: PytzUsageWarning:\n",
      "\n",
      "The localize method is no longer necessary, as this time zone supports the fold attribute (PEP 495). For more details on migrating to a PEP 495-compliant implementation, see https://pytz-deprecation-shim.readthedocs.io/en/latest/migration.html\n",
      "\n",
      "D:\\anaconda3\\lib\\site-packages\\dateparser\\date_parser.py:35: PytzUsageWarning:\n",
      "\n",
      "The localize method is no longer necessary, as this time zone supports the fold attribute (PEP 495). For more details on migrating to a PEP 495-compliant implementation, see https://pytz-deprecation-shim.readthedocs.io/en/latest/migration.html\n",
      "\n",
      "D:\\anaconda3\\lib\\site-packages\\dateparser\\date_parser.py:35: PytzUsageWarning:\n",
      "\n",
      "The localize method is no longer necessary, as this time zone supports the fold attribute (PEP 495). For more details on migrating to a PEP 495-compliant implementation, see https://pytz-deprecation-shim.readthedocs.io/en/latest/migration.html\n",
      "\n",
      "D:\\anaconda3\\lib\\site-packages\\dateparser\\date_parser.py:35: PytzUsageWarning:\n",
      "\n",
      "The localize method is no longer necessary, as this time zone supports the fold attribute (PEP 495). For more details on migrating to a PEP 495-compliant implementation, see https://pytz-deprecation-shim.readthedocs.io/en/latest/migration.html\n",
      "\n",
      "D:\\anaconda3\\lib\\site-packages\\dateparser\\date_parser.py:35: PytzUsageWarning:\n",
      "\n",
      "The localize method is no longer necessary, as this time zone supports the fold attribute (PEP 495). For more details on migrating to a PEP 495-compliant implementation, see https://pytz-deprecation-shim.readthedocs.io/en/latest/migration.html\n",
      "\n",
      "D:\\anaconda3\\lib\\site-packages\\dateparser\\date_parser.py:35: PytzUsageWarning:\n",
      "\n",
      "The localize method is no longer necessary, as this time zone supports the fold attribute (PEP 495). For more details on migrating to a PEP 495-compliant implementation, see https://pytz-deprecation-shim.readthedocs.io/en/latest/migration.html\n",
      "\n",
      "D:\\anaconda3\\lib\\site-packages\\dateparser\\date_parser.py:35: PytzUsageWarning:\n",
      "\n",
      "The localize method is no longer necessary, as this time zone supports the fold attribute (PEP 495). For more details on migrating to a PEP 495-compliant implementation, see https://pytz-deprecation-shim.readthedocs.io/en/latest/migration.html\n",
      "\n",
      "D:\\anaconda3\\lib\\site-packages\\dateparser\\date_parser.py:35: PytzUsageWarning:\n",
      "\n",
      "The localize method is no longer necessary, as this time zone supports the fold attribute (PEP 495). For more details on migrating to a PEP 495-compliant implementation, see https://pytz-deprecation-shim.readthedocs.io/en/latest/migration.html\n",
      "\n",
      "D:\\anaconda3\\lib\\site-packages\\dateparser\\date_parser.py:35: PytzUsageWarning:\n",
      "\n",
      "The localize method is no longer necessary, as this time zone supports the fold attribute (PEP 495). For more details on migrating to a PEP 495-compliant implementation, see https://pytz-deprecation-shim.readthedocs.io/en/latest/migration.html\n",
      "\n",
      "D:\\anaconda3\\lib\\site-packages\\dateparser\\date_parser.py:35: PytzUsageWarning:\n",
      "\n",
      "The localize method is no longer necessary, as this time zone supports the fold attribute (PEP 495). For more details on migrating to a PEP 495-compliant implementation, see https://pytz-deprecation-shim.readthedocs.io/en/latest/migration.html\n",
      "\n",
      "D:\\anaconda3\\lib\\site-packages\\vectorbt\\data\\base.py:527: UserWarning:\n",
      "\n",
      "Symbols have mismatching index. Setting missing data points to NaN.\n",
      "\n"
     ]
    }
   ],
   "source": [
    "#obtendo os dividendos dos ativos através do vectorbt\n",
    "tickers_dividends = vbt.YFData.download(tickers_yf, start='2000-01-01', end=data_atual).get('Dividends')"
   ]
  },
  {
   "cell_type": "code",
   "execution_count": 17,
   "id": "38f346b1",
   "metadata": {},
   "outputs": [
    {
     "data": {
      "text/html": [
       "<div>\n",
       "<style scoped>\n",
       "    .dataframe tbody tr th:only-of-type {\n",
       "        vertical-align: middle;\n",
       "    }\n",
       "\n",
       "    .dataframe tbody tr th {\n",
       "        vertical-align: top;\n",
       "    }\n",
       "\n",
       "    .dataframe thead th {\n",
       "        text-align: right;\n",
       "    }\n",
       "</style>\n",
       "<table border=\"1\" class=\"dataframe\">\n",
       "  <thead>\n",
       "    <tr style=\"text-align: right;\">\n",
       "      <th>symbol</th>\n",
       "      <th>RRRP3.SA</th>\n",
       "      <th>ALPA4.SA</th>\n",
       "      <th>ABEV3.SA</th>\n",
       "      <th>AMER3.SA</th>\n",
       "      <th>ASAI3.SA</th>\n",
       "      <th>AZUL4.SA</th>\n",
       "      <th>B3SA3.SA</th>\n",
       "      <th>BPAN4.SA</th>\n",
       "      <th>BBSE3.SA</th>\n",
       "      <th>BRML3.SA</th>\n",
       "      <th>...</th>\n",
       "      <th>VIVT3.SA</th>\n",
       "      <th>TIMS3.SA</th>\n",
       "      <th>TOTS3.SA</th>\n",
       "      <th>UGPA3.SA</th>\n",
       "      <th>USIM5.SA</th>\n",
       "      <th>VALE3.SA</th>\n",
       "      <th>VIIA3.SA</th>\n",
       "      <th>VBBR3.SA</th>\n",
       "      <th>WEGE3.SA</th>\n",
       "      <th>YDUQ3.SA</th>\n",
       "    </tr>\n",
       "    <tr>\n",
       "      <th>Date</th>\n",
       "      <th></th>\n",
       "      <th></th>\n",
       "      <th></th>\n",
       "      <th></th>\n",
       "      <th></th>\n",
       "      <th></th>\n",
       "      <th></th>\n",
       "      <th></th>\n",
       "      <th></th>\n",
       "      <th></th>\n",
       "      <th></th>\n",
       "      <th></th>\n",
       "      <th></th>\n",
       "      <th></th>\n",
       "      <th></th>\n",
       "      <th></th>\n",
       "      <th></th>\n",
       "      <th></th>\n",
       "      <th></th>\n",
       "      <th></th>\n",
       "      <th></th>\n",
       "    </tr>\n",
       "  </thead>\n",
       "  <tbody>\n",
       "    <tr>\n",
       "      <th>2000-01-03 00:00:00+00:00</th>\n",
       "      <td>NaN</td>\n",
       "      <td>NaN</td>\n",
       "      <td>NaN</td>\n",
       "      <td>NaN</td>\n",
       "      <td>NaN</td>\n",
       "      <td>NaN</td>\n",
       "      <td>NaN</td>\n",
       "      <td>NaN</td>\n",
       "      <td>NaN</td>\n",
       "      <td>NaN</td>\n",
       "      <td>...</td>\n",
       "      <td>0.0</td>\n",
       "      <td>NaN</td>\n",
       "      <td>NaN</td>\n",
       "      <td>NaN</td>\n",
       "      <td>0.0</td>\n",
       "      <td>0.0</td>\n",
       "      <td>0.0</td>\n",
       "      <td>NaN</td>\n",
       "      <td>0.0</td>\n",
       "      <td>NaN</td>\n",
       "    </tr>\n",
       "    <tr>\n",
       "      <th>2000-01-04 00:00:00+00:00</th>\n",
       "      <td>NaN</td>\n",
       "      <td>NaN</td>\n",
       "      <td>NaN</td>\n",
       "      <td>NaN</td>\n",
       "      <td>NaN</td>\n",
       "      <td>NaN</td>\n",
       "      <td>NaN</td>\n",
       "      <td>NaN</td>\n",
       "      <td>NaN</td>\n",
       "      <td>NaN</td>\n",
       "      <td>...</td>\n",
       "      <td>0.0</td>\n",
       "      <td>NaN</td>\n",
       "      <td>NaN</td>\n",
       "      <td>NaN</td>\n",
       "      <td>0.0</td>\n",
       "      <td>0.0</td>\n",
       "      <td>0.0</td>\n",
       "      <td>NaN</td>\n",
       "      <td>0.0</td>\n",
       "      <td>NaN</td>\n",
       "    </tr>\n",
       "    <tr>\n",
       "      <th>2000-01-05 00:00:00+00:00</th>\n",
       "      <td>NaN</td>\n",
       "      <td>NaN</td>\n",
       "      <td>0.0</td>\n",
       "      <td>NaN</td>\n",
       "      <td>NaN</td>\n",
       "      <td>NaN</td>\n",
       "      <td>NaN</td>\n",
       "      <td>NaN</td>\n",
       "      <td>NaN</td>\n",
       "      <td>NaN</td>\n",
       "      <td>...</td>\n",
       "      <td>0.0</td>\n",
       "      <td>NaN</td>\n",
       "      <td>NaN</td>\n",
       "      <td>NaN</td>\n",
       "      <td>0.0</td>\n",
       "      <td>0.0</td>\n",
       "      <td>0.0</td>\n",
       "      <td>NaN</td>\n",
       "      <td>0.0</td>\n",
       "      <td>NaN</td>\n",
       "    </tr>\n",
       "    <tr>\n",
       "      <th>2000-01-06 00:00:00+00:00</th>\n",
       "      <td>NaN</td>\n",
       "      <td>NaN</td>\n",
       "      <td>0.0</td>\n",
       "      <td>NaN</td>\n",
       "      <td>NaN</td>\n",
       "      <td>NaN</td>\n",
       "      <td>NaN</td>\n",
       "      <td>NaN</td>\n",
       "      <td>NaN</td>\n",
       "      <td>NaN</td>\n",
       "      <td>...</td>\n",
       "      <td>0.0</td>\n",
       "      <td>NaN</td>\n",
       "      <td>NaN</td>\n",
       "      <td>NaN</td>\n",
       "      <td>0.0</td>\n",
       "      <td>0.0</td>\n",
       "      <td>0.0</td>\n",
       "      <td>NaN</td>\n",
       "      <td>0.0</td>\n",
       "      <td>NaN</td>\n",
       "    </tr>\n",
       "    <tr>\n",
       "      <th>2000-01-07 00:00:00+00:00</th>\n",
       "      <td>NaN</td>\n",
       "      <td>NaN</td>\n",
       "      <td>0.0</td>\n",
       "      <td>NaN</td>\n",
       "      <td>NaN</td>\n",
       "      <td>NaN</td>\n",
       "      <td>NaN</td>\n",
       "      <td>NaN</td>\n",
       "      <td>NaN</td>\n",
       "      <td>NaN</td>\n",
       "      <td>...</td>\n",
       "      <td>0.0</td>\n",
       "      <td>NaN</td>\n",
       "      <td>NaN</td>\n",
       "      <td>NaN</td>\n",
       "      <td>0.0</td>\n",
       "      <td>0.0</td>\n",
       "      <td>0.0</td>\n",
       "      <td>NaN</td>\n",
       "      <td>0.0</td>\n",
       "      <td>NaN</td>\n",
       "    </tr>\n",
       "    <tr>\n",
       "      <th>...</th>\n",
       "      <td>...</td>\n",
       "      <td>...</td>\n",
       "      <td>...</td>\n",
       "      <td>...</td>\n",
       "      <td>...</td>\n",
       "      <td>...</td>\n",
       "      <td>...</td>\n",
       "      <td>...</td>\n",
       "      <td>...</td>\n",
       "      <td>...</td>\n",
       "      <td>...</td>\n",
       "      <td>...</td>\n",
       "      <td>...</td>\n",
       "      <td>...</td>\n",
       "      <td>...</td>\n",
       "      <td>...</td>\n",
       "      <td>...</td>\n",
       "      <td>...</td>\n",
       "      <td>...</td>\n",
       "      <td>...</td>\n",
       "      <td>...</td>\n",
       "    </tr>\n",
       "    <tr>\n",
       "      <th>2022-08-05 00:00:00+00:00</th>\n",
       "      <td>0.0</td>\n",
       "      <td>0.0</td>\n",
       "      <td>0.0</td>\n",
       "      <td>0.0</td>\n",
       "      <td>0.0</td>\n",
       "      <td>0.0</td>\n",
       "      <td>0.0</td>\n",
       "      <td>0.0</td>\n",
       "      <td>0.0</td>\n",
       "      <td>0.0</td>\n",
       "      <td>...</td>\n",
       "      <td>0.0</td>\n",
       "      <td>0.0</td>\n",
       "      <td>0.1</td>\n",
       "      <td>0.0</td>\n",
       "      <td>0.0</td>\n",
       "      <td>0.0</td>\n",
       "      <td>0.0</td>\n",
       "      <td>0.0</td>\n",
       "      <td>0.0</td>\n",
       "      <td>0.0</td>\n",
       "    </tr>\n",
       "    <tr>\n",
       "      <th>2022-08-08 00:00:00+00:00</th>\n",
       "      <td>0.0</td>\n",
       "      <td>0.0</td>\n",
       "      <td>0.0</td>\n",
       "      <td>0.0</td>\n",
       "      <td>0.0</td>\n",
       "      <td>0.0</td>\n",
       "      <td>0.0</td>\n",
       "      <td>0.0</td>\n",
       "      <td>0.0</td>\n",
       "      <td>0.0</td>\n",
       "      <td>...</td>\n",
       "      <td>0.0</td>\n",
       "      <td>0.0</td>\n",
       "      <td>0.0</td>\n",
       "      <td>0.0</td>\n",
       "      <td>0.0</td>\n",
       "      <td>0.0</td>\n",
       "      <td>0.0</td>\n",
       "      <td>0.0</td>\n",
       "      <td>0.0</td>\n",
       "      <td>0.0</td>\n",
       "    </tr>\n",
       "    <tr>\n",
       "      <th>2022-08-09 00:00:00+00:00</th>\n",
       "      <td>0.0</td>\n",
       "      <td>0.0</td>\n",
       "      <td>0.0</td>\n",
       "      <td>0.0</td>\n",
       "      <td>0.0</td>\n",
       "      <td>0.0</td>\n",
       "      <td>0.0</td>\n",
       "      <td>0.0</td>\n",
       "      <td>0.0</td>\n",
       "      <td>0.0</td>\n",
       "      <td>...</td>\n",
       "      <td>0.0</td>\n",
       "      <td>0.0</td>\n",
       "      <td>0.0</td>\n",
       "      <td>0.0</td>\n",
       "      <td>0.0</td>\n",
       "      <td>0.0</td>\n",
       "      <td>0.0</td>\n",
       "      <td>0.0</td>\n",
       "      <td>0.0</td>\n",
       "      <td>0.0</td>\n",
       "    </tr>\n",
       "    <tr>\n",
       "      <th>2022-08-10 00:00:00+00:00</th>\n",
       "      <td>0.0</td>\n",
       "      <td>0.0</td>\n",
       "      <td>0.0</td>\n",
       "      <td>0.0</td>\n",
       "      <td>0.0</td>\n",
       "      <td>0.0</td>\n",
       "      <td>0.0</td>\n",
       "      <td>0.0</td>\n",
       "      <td>0.0</td>\n",
       "      <td>0.0</td>\n",
       "      <td>...</td>\n",
       "      <td>0.0</td>\n",
       "      <td>0.0</td>\n",
       "      <td>0.0</td>\n",
       "      <td>0.0</td>\n",
       "      <td>0.0</td>\n",
       "      <td>0.0</td>\n",
       "      <td>0.0</td>\n",
       "      <td>0.0</td>\n",
       "      <td>0.0</td>\n",
       "      <td>0.0</td>\n",
       "    </tr>\n",
       "    <tr>\n",
       "      <th>2022-08-11 00:00:00+00:00</th>\n",
       "      <td>NaN</td>\n",
       "      <td>NaN</td>\n",
       "      <td>NaN</td>\n",
       "      <td>NaN</td>\n",
       "      <td>NaN</td>\n",
       "      <td>NaN</td>\n",
       "      <td>NaN</td>\n",
       "      <td>NaN</td>\n",
       "      <td>NaN</td>\n",
       "      <td>NaN</td>\n",
       "      <td>...</td>\n",
       "      <td>NaN</td>\n",
       "      <td>NaN</td>\n",
       "      <td>NaN</td>\n",
       "      <td>NaN</td>\n",
       "      <td>NaN</td>\n",
       "      <td>NaN</td>\n",
       "      <td>NaN</td>\n",
       "      <td>NaN</td>\n",
       "      <td>NaN</td>\n",
       "      <td>NaN</td>\n",
       "    </tr>\n",
       "  </tbody>\n",
       "</table>\n",
       "<p>5685 rows × 90 columns</p>\n",
       "</div>"
      ],
      "text/plain": [
       "symbol                     RRRP3.SA  ALPA4.SA  ABEV3.SA  AMER3.SA  ASAI3.SA  \\\n",
       "Date                                                                          \n",
       "2000-01-03 00:00:00+00:00       NaN       NaN       NaN       NaN       NaN   \n",
       "2000-01-04 00:00:00+00:00       NaN       NaN       NaN       NaN       NaN   \n",
       "2000-01-05 00:00:00+00:00       NaN       NaN       0.0       NaN       NaN   \n",
       "2000-01-06 00:00:00+00:00       NaN       NaN       0.0       NaN       NaN   \n",
       "2000-01-07 00:00:00+00:00       NaN       NaN       0.0       NaN       NaN   \n",
       "...                             ...       ...       ...       ...       ...   \n",
       "2022-08-05 00:00:00+00:00       0.0       0.0       0.0       0.0       0.0   \n",
       "2022-08-08 00:00:00+00:00       0.0       0.0       0.0       0.0       0.0   \n",
       "2022-08-09 00:00:00+00:00       0.0       0.0       0.0       0.0       0.0   \n",
       "2022-08-10 00:00:00+00:00       0.0       0.0       0.0       0.0       0.0   \n",
       "2022-08-11 00:00:00+00:00       NaN       NaN       NaN       NaN       NaN   \n",
       "\n",
       "symbol                     AZUL4.SA  B3SA3.SA  BPAN4.SA  BBSE3.SA  BRML3.SA  \\\n",
       "Date                                                                          \n",
       "2000-01-03 00:00:00+00:00       NaN       NaN       NaN       NaN       NaN   \n",
       "2000-01-04 00:00:00+00:00       NaN       NaN       NaN       NaN       NaN   \n",
       "2000-01-05 00:00:00+00:00       NaN       NaN       NaN       NaN       NaN   \n",
       "2000-01-06 00:00:00+00:00       NaN       NaN       NaN       NaN       NaN   \n",
       "2000-01-07 00:00:00+00:00       NaN       NaN       NaN       NaN       NaN   \n",
       "...                             ...       ...       ...       ...       ...   \n",
       "2022-08-05 00:00:00+00:00       0.0       0.0       0.0       0.0       0.0   \n",
       "2022-08-08 00:00:00+00:00       0.0       0.0       0.0       0.0       0.0   \n",
       "2022-08-09 00:00:00+00:00       0.0       0.0       0.0       0.0       0.0   \n",
       "2022-08-10 00:00:00+00:00       0.0       0.0       0.0       0.0       0.0   \n",
       "2022-08-11 00:00:00+00:00       NaN       NaN       NaN       NaN       NaN   \n",
       "\n",
       "symbol                     ...  VIVT3.SA  TIMS3.SA  TOTS3.SA  UGPA3.SA  \\\n",
       "Date                       ...                                           \n",
       "2000-01-03 00:00:00+00:00  ...       0.0       NaN       NaN       NaN   \n",
       "2000-01-04 00:00:00+00:00  ...       0.0       NaN       NaN       NaN   \n",
       "2000-01-05 00:00:00+00:00  ...       0.0       NaN       NaN       NaN   \n",
       "2000-01-06 00:00:00+00:00  ...       0.0       NaN       NaN       NaN   \n",
       "2000-01-07 00:00:00+00:00  ...       0.0       NaN       NaN       NaN   \n",
       "...                        ...       ...       ...       ...       ...   \n",
       "2022-08-05 00:00:00+00:00  ...       0.0       0.0       0.1       0.0   \n",
       "2022-08-08 00:00:00+00:00  ...       0.0       0.0       0.0       0.0   \n",
       "2022-08-09 00:00:00+00:00  ...       0.0       0.0       0.0       0.0   \n",
       "2022-08-10 00:00:00+00:00  ...       0.0       0.0       0.0       0.0   \n",
       "2022-08-11 00:00:00+00:00  ...       NaN       NaN       NaN       NaN   \n",
       "\n",
       "symbol                     USIM5.SA  VALE3.SA  VIIA3.SA  VBBR3.SA  WEGE3.SA  \\\n",
       "Date                                                                          \n",
       "2000-01-03 00:00:00+00:00       0.0       0.0       0.0       NaN       0.0   \n",
       "2000-01-04 00:00:00+00:00       0.0       0.0       0.0       NaN       0.0   \n",
       "2000-01-05 00:00:00+00:00       0.0       0.0       0.0       NaN       0.0   \n",
       "2000-01-06 00:00:00+00:00       0.0       0.0       0.0       NaN       0.0   \n",
       "2000-01-07 00:00:00+00:00       0.0       0.0       0.0       NaN       0.0   \n",
       "...                             ...       ...       ...       ...       ...   \n",
       "2022-08-05 00:00:00+00:00       0.0       0.0       0.0       0.0       0.0   \n",
       "2022-08-08 00:00:00+00:00       0.0       0.0       0.0       0.0       0.0   \n",
       "2022-08-09 00:00:00+00:00       0.0       0.0       0.0       0.0       0.0   \n",
       "2022-08-10 00:00:00+00:00       0.0       0.0       0.0       0.0       0.0   \n",
       "2022-08-11 00:00:00+00:00       NaN       NaN       NaN       NaN       NaN   \n",
       "\n",
       "symbol                     YDUQ3.SA  \n",
       "Date                                 \n",
       "2000-01-03 00:00:00+00:00       NaN  \n",
       "2000-01-04 00:00:00+00:00       NaN  \n",
       "2000-01-05 00:00:00+00:00       NaN  \n",
       "2000-01-06 00:00:00+00:00       NaN  \n",
       "2000-01-07 00:00:00+00:00       NaN  \n",
       "...                             ...  \n",
       "2022-08-05 00:00:00+00:00       0.0  \n",
       "2022-08-08 00:00:00+00:00       0.0  \n",
       "2022-08-09 00:00:00+00:00       0.0  \n",
       "2022-08-10 00:00:00+00:00       0.0  \n",
       "2022-08-11 00:00:00+00:00       NaN  \n",
       "\n",
       "[5685 rows x 90 columns]"
      ]
     },
     "execution_count": 17,
     "metadata": {},
     "output_type": "execute_result"
    }
   ],
   "source": [
    "#verificando df\n",
    "tickers_dividends"
   ]
  },
  {
   "cell_type": "code",
   "execution_count": 18,
   "id": "31589426",
   "metadata": {},
   "outputs": [
    {
     "data": {
      "text/html": [
       "<div>\n",
       "<style scoped>\n",
       "    .dataframe tbody tr th:only-of-type {\n",
       "        vertical-align: middle;\n",
       "    }\n",
       "\n",
       "    .dataframe tbody tr th {\n",
       "        vertical-align: top;\n",
       "    }\n",
       "\n",
       "    .dataframe thead th {\n",
       "        text-align: right;\n",
       "    }\n",
       "</style>\n",
       "<table border=\"1\" class=\"dataframe\">\n",
       "  <thead>\n",
       "    <tr style=\"text-align: right;\">\n",
       "      <th>symbol</th>\n",
       "      <th>RRRP3.SA</th>\n",
       "      <th>ALPA4.SA</th>\n",
       "      <th>ABEV3.SA</th>\n",
       "      <th>AMER3.SA</th>\n",
       "      <th>ASAI3.SA</th>\n",
       "      <th>AZUL4.SA</th>\n",
       "      <th>B3SA3.SA</th>\n",
       "      <th>BPAN4.SA</th>\n",
       "      <th>BBSE3.SA</th>\n",
       "      <th>BRML3.SA</th>\n",
       "      <th>...</th>\n",
       "      <th>VIVT3.SA</th>\n",
       "      <th>TIMS3.SA</th>\n",
       "      <th>TOTS3.SA</th>\n",
       "      <th>UGPA3.SA</th>\n",
       "      <th>USIM5.SA</th>\n",
       "      <th>VALE3.SA</th>\n",
       "      <th>VIIA3.SA</th>\n",
       "      <th>VBBR3.SA</th>\n",
       "      <th>WEGE3.SA</th>\n",
       "      <th>YDUQ3.SA</th>\n",
       "    </tr>\n",
       "    <tr>\n",
       "      <th>Date</th>\n",
       "      <th></th>\n",
       "      <th></th>\n",
       "      <th></th>\n",
       "      <th></th>\n",
       "      <th></th>\n",
       "      <th></th>\n",
       "      <th></th>\n",
       "      <th></th>\n",
       "      <th></th>\n",
       "      <th></th>\n",
       "      <th></th>\n",
       "      <th></th>\n",
       "      <th></th>\n",
       "      <th></th>\n",
       "      <th></th>\n",
       "      <th></th>\n",
       "      <th></th>\n",
       "      <th></th>\n",
       "      <th></th>\n",
       "      <th></th>\n",
       "      <th></th>\n",
       "    </tr>\n",
       "  </thead>\n",
       "  <tbody>\n",
       "    <tr>\n",
       "      <th>2022-08-05 00:00:00+00:00</th>\n",
       "      <td>0.0</td>\n",
       "      <td>0.0</td>\n",
       "      <td>0.0</td>\n",
       "      <td>0.0</td>\n",
       "      <td>0.0</td>\n",
       "      <td>0.0</td>\n",
       "      <td>0.0</td>\n",
       "      <td>0.0</td>\n",
       "      <td>0.0</td>\n",
       "      <td>0.0</td>\n",
       "      <td>...</td>\n",
       "      <td>0.0</td>\n",
       "      <td>0.0</td>\n",
       "      <td>0.1</td>\n",
       "      <td>0.0</td>\n",
       "      <td>0.0</td>\n",
       "      <td>0.0</td>\n",
       "      <td>0.0</td>\n",
       "      <td>0.0</td>\n",
       "      <td>0.0</td>\n",
       "      <td>0.0</td>\n",
       "    </tr>\n",
       "    <tr>\n",
       "      <th>2022-08-08 00:00:00+00:00</th>\n",
       "      <td>0.0</td>\n",
       "      <td>0.0</td>\n",
       "      <td>0.0</td>\n",
       "      <td>0.0</td>\n",
       "      <td>0.0</td>\n",
       "      <td>0.0</td>\n",
       "      <td>0.0</td>\n",
       "      <td>0.0</td>\n",
       "      <td>0.0</td>\n",
       "      <td>0.0</td>\n",
       "      <td>...</td>\n",
       "      <td>0.0</td>\n",
       "      <td>0.0</td>\n",
       "      <td>0.0</td>\n",
       "      <td>0.0</td>\n",
       "      <td>0.0</td>\n",
       "      <td>0.0</td>\n",
       "      <td>0.0</td>\n",
       "      <td>0.0</td>\n",
       "      <td>0.0</td>\n",
       "      <td>0.0</td>\n",
       "    </tr>\n",
       "    <tr>\n",
       "      <th>2022-08-09 00:00:00+00:00</th>\n",
       "      <td>0.0</td>\n",
       "      <td>0.0</td>\n",
       "      <td>0.0</td>\n",
       "      <td>0.0</td>\n",
       "      <td>0.0</td>\n",
       "      <td>0.0</td>\n",
       "      <td>0.0</td>\n",
       "      <td>0.0</td>\n",
       "      <td>0.0</td>\n",
       "      <td>0.0</td>\n",
       "      <td>...</td>\n",
       "      <td>0.0</td>\n",
       "      <td>0.0</td>\n",
       "      <td>0.0</td>\n",
       "      <td>0.0</td>\n",
       "      <td>0.0</td>\n",
       "      <td>0.0</td>\n",
       "      <td>0.0</td>\n",
       "      <td>0.0</td>\n",
       "      <td>0.0</td>\n",
       "      <td>0.0</td>\n",
       "    </tr>\n",
       "    <tr>\n",
       "      <th>2022-08-10 00:00:00+00:00</th>\n",
       "      <td>0.0</td>\n",
       "      <td>0.0</td>\n",
       "      <td>0.0</td>\n",
       "      <td>0.0</td>\n",
       "      <td>0.0</td>\n",
       "      <td>0.0</td>\n",
       "      <td>0.0</td>\n",
       "      <td>0.0</td>\n",
       "      <td>0.0</td>\n",
       "      <td>0.0</td>\n",
       "      <td>...</td>\n",
       "      <td>0.0</td>\n",
       "      <td>0.0</td>\n",
       "      <td>0.0</td>\n",
       "      <td>0.0</td>\n",
       "      <td>0.0</td>\n",
       "      <td>0.0</td>\n",
       "      <td>0.0</td>\n",
       "      <td>0.0</td>\n",
       "      <td>0.0</td>\n",
       "      <td>0.0</td>\n",
       "    </tr>\n",
       "    <tr>\n",
       "      <th>2022-08-11 00:00:00+00:00</th>\n",
       "      <td>NaN</td>\n",
       "      <td>NaN</td>\n",
       "      <td>NaN</td>\n",
       "      <td>NaN</td>\n",
       "      <td>NaN</td>\n",
       "      <td>NaN</td>\n",
       "      <td>NaN</td>\n",
       "      <td>NaN</td>\n",
       "      <td>NaN</td>\n",
       "      <td>NaN</td>\n",
       "      <td>...</td>\n",
       "      <td>NaN</td>\n",
       "      <td>NaN</td>\n",
       "      <td>NaN</td>\n",
       "      <td>NaN</td>\n",
       "      <td>NaN</td>\n",
       "      <td>NaN</td>\n",
       "      <td>NaN</td>\n",
       "      <td>NaN</td>\n",
       "      <td>NaN</td>\n",
       "      <td>NaN</td>\n",
       "    </tr>\n",
       "  </tbody>\n",
       "</table>\n",
       "<p>5 rows × 90 columns</p>\n",
       "</div>"
      ],
      "text/plain": [
       "symbol                     RRRP3.SA  ALPA4.SA  ABEV3.SA  AMER3.SA  ASAI3.SA  \\\n",
       "Date                                                                          \n",
       "2022-08-05 00:00:00+00:00       0.0       0.0       0.0       0.0       0.0   \n",
       "2022-08-08 00:00:00+00:00       0.0       0.0       0.0       0.0       0.0   \n",
       "2022-08-09 00:00:00+00:00       0.0       0.0       0.0       0.0       0.0   \n",
       "2022-08-10 00:00:00+00:00       0.0       0.0       0.0       0.0       0.0   \n",
       "2022-08-11 00:00:00+00:00       NaN       NaN       NaN       NaN       NaN   \n",
       "\n",
       "symbol                     AZUL4.SA  B3SA3.SA  BPAN4.SA  BBSE3.SA  BRML3.SA  \\\n",
       "Date                                                                          \n",
       "2022-08-05 00:00:00+00:00       0.0       0.0       0.0       0.0       0.0   \n",
       "2022-08-08 00:00:00+00:00       0.0       0.0       0.0       0.0       0.0   \n",
       "2022-08-09 00:00:00+00:00       0.0       0.0       0.0       0.0       0.0   \n",
       "2022-08-10 00:00:00+00:00       0.0       0.0       0.0       0.0       0.0   \n",
       "2022-08-11 00:00:00+00:00       NaN       NaN       NaN       NaN       NaN   \n",
       "\n",
       "symbol                     ...  VIVT3.SA  TIMS3.SA  TOTS3.SA  UGPA3.SA  \\\n",
       "Date                       ...                                           \n",
       "2022-08-05 00:00:00+00:00  ...       0.0       0.0       0.1       0.0   \n",
       "2022-08-08 00:00:00+00:00  ...       0.0       0.0       0.0       0.0   \n",
       "2022-08-09 00:00:00+00:00  ...       0.0       0.0       0.0       0.0   \n",
       "2022-08-10 00:00:00+00:00  ...       0.0       0.0       0.0       0.0   \n",
       "2022-08-11 00:00:00+00:00  ...       NaN       NaN       NaN       NaN   \n",
       "\n",
       "symbol                     USIM5.SA  VALE3.SA  VIIA3.SA  VBBR3.SA  WEGE3.SA  \\\n",
       "Date                                                                          \n",
       "2022-08-05 00:00:00+00:00       0.0       0.0       0.0       0.0       0.0   \n",
       "2022-08-08 00:00:00+00:00       0.0       0.0       0.0       0.0       0.0   \n",
       "2022-08-09 00:00:00+00:00       0.0       0.0       0.0       0.0       0.0   \n",
       "2022-08-10 00:00:00+00:00       0.0       0.0       0.0       0.0       0.0   \n",
       "2022-08-11 00:00:00+00:00       NaN       NaN       NaN       NaN       NaN   \n",
       "\n",
       "symbol                     YDUQ3.SA  \n",
       "Date                                 \n",
       "2022-08-05 00:00:00+00:00       0.0  \n",
       "2022-08-08 00:00:00+00:00       0.0  \n",
       "2022-08-09 00:00:00+00:00       0.0  \n",
       "2022-08-10 00:00:00+00:00       0.0  \n",
       "2022-08-11 00:00:00+00:00       NaN  \n",
       "\n",
       "[5 rows x 90 columns]"
      ]
     },
     "execution_count": 18,
     "metadata": {},
     "output_type": "execute_result"
    }
   ],
   "source": [
    "#verificando as últimas linhas do df\n",
    "tickers_dividends.tail()"
   ]
  },
  {
   "cell_type": "code",
   "execution_count": 19,
   "id": "403ffab3",
   "metadata": {},
   "outputs": [
    {
     "data": {
      "text/plain": [
       "symbol\n",
       "CPLE6.SA     168.065481\n",
       "VIVT3.SA      46.244442\n",
       "VALE3.SA      36.743227\n",
       "TAEE11.SA     28.535704\n",
       "BRKM5.SA      25.701218\n",
       "                ...    \n",
       "RAIL3.SA       0.019307\n",
       "CASH3.SA       0.006177\n",
       "PRIO3.SA       0.000000\n",
       "AZUL4.SA       0.000000\n",
       "RRRP3.SA       0.000000\n",
       "Length: 90, dtype: float64"
      ]
     },
     "execution_count": 19,
     "metadata": {},
     "output_type": "execute_result"
    }
   ],
   "source": [
    "#verificando o total de dividendos pagos no periodo por ordem decrescente\n",
    "total_dividends = tickers_dividends.sum()\n",
    "total_dividends.sort_values(ascending=False)"
   ]
  },
  {
   "cell_type": "code",
   "execution_count": 20,
   "id": "203d62f3",
   "metadata": {},
   "outputs": [
    {
     "data": {
      "text/html": [
       "<div>\n",
       "<style scoped>\n",
       "    .dataframe tbody tr th:only-of-type {\n",
       "        vertical-align: middle;\n",
       "    }\n",
       "\n",
       "    .dataframe tbody tr th {\n",
       "        vertical-align: top;\n",
       "    }\n",
       "\n",
       "    .dataframe thead th {\n",
       "        text-align: right;\n",
       "    }\n",
       "</style>\n",
       "<table border=\"1\" class=\"dataframe\">\n",
       "  <thead>\n",
       "    <tr style=\"text-align: right;\">\n",
       "      <th>symbol</th>\n",
       "      <th>RRRP3.SA</th>\n",
       "      <th>ALPA4.SA</th>\n",
       "      <th>ABEV3.SA</th>\n",
       "      <th>AMER3.SA</th>\n",
       "      <th>ASAI3.SA</th>\n",
       "      <th>AZUL4.SA</th>\n",
       "      <th>B3SA3.SA</th>\n",
       "      <th>BPAN4.SA</th>\n",
       "      <th>BBSE3.SA</th>\n",
       "      <th>BRML3.SA</th>\n",
       "      <th>...</th>\n",
       "      <th>TIMS3.SA</th>\n",
       "      <th>TOTS3.SA</th>\n",
       "      <th>UGPA3.SA</th>\n",
       "      <th>USIM5.SA</th>\n",
       "      <th>VALE3.SA</th>\n",
       "      <th>VIIA3.SA</th>\n",
       "      <th>VBBR3.SA</th>\n",
       "      <th>WEGE3.SA</th>\n",
       "      <th>YDUQ3.SA</th>\n",
       "      <th>year</th>\n",
       "    </tr>\n",
       "    <tr>\n",
       "      <th>Date</th>\n",
       "      <th></th>\n",
       "      <th></th>\n",
       "      <th></th>\n",
       "      <th></th>\n",
       "      <th></th>\n",
       "      <th></th>\n",
       "      <th></th>\n",
       "      <th></th>\n",
       "      <th></th>\n",
       "      <th></th>\n",
       "      <th></th>\n",
       "      <th></th>\n",
       "      <th></th>\n",
       "      <th></th>\n",
       "      <th></th>\n",
       "      <th></th>\n",
       "      <th></th>\n",
       "      <th></th>\n",
       "      <th></th>\n",
       "      <th></th>\n",
       "      <th></th>\n",
       "    </tr>\n",
       "  </thead>\n",
       "  <tbody>\n",
       "    <tr>\n",
       "      <th>2000-01-03 00:00:00+00:00</th>\n",
       "      <td>NaN</td>\n",
       "      <td>NaN</td>\n",
       "      <td>NaN</td>\n",
       "      <td>NaN</td>\n",
       "      <td>NaN</td>\n",
       "      <td>NaN</td>\n",
       "      <td>NaN</td>\n",
       "      <td>NaN</td>\n",
       "      <td>NaN</td>\n",
       "      <td>NaN</td>\n",
       "      <td>...</td>\n",
       "      <td>NaN</td>\n",
       "      <td>NaN</td>\n",
       "      <td>NaN</td>\n",
       "      <td>0.0</td>\n",
       "      <td>0.0</td>\n",
       "      <td>0.0</td>\n",
       "      <td>NaN</td>\n",
       "      <td>0.0</td>\n",
       "      <td>NaN</td>\n",
       "      <td>2000</td>\n",
       "    </tr>\n",
       "    <tr>\n",
       "      <th>2000-01-04 00:00:00+00:00</th>\n",
       "      <td>NaN</td>\n",
       "      <td>NaN</td>\n",
       "      <td>NaN</td>\n",
       "      <td>NaN</td>\n",
       "      <td>NaN</td>\n",
       "      <td>NaN</td>\n",
       "      <td>NaN</td>\n",
       "      <td>NaN</td>\n",
       "      <td>NaN</td>\n",
       "      <td>NaN</td>\n",
       "      <td>...</td>\n",
       "      <td>NaN</td>\n",
       "      <td>NaN</td>\n",
       "      <td>NaN</td>\n",
       "      <td>0.0</td>\n",
       "      <td>0.0</td>\n",
       "      <td>0.0</td>\n",
       "      <td>NaN</td>\n",
       "      <td>0.0</td>\n",
       "      <td>NaN</td>\n",
       "      <td>2000</td>\n",
       "    </tr>\n",
       "    <tr>\n",
       "      <th>2000-01-05 00:00:00+00:00</th>\n",
       "      <td>NaN</td>\n",
       "      <td>NaN</td>\n",
       "      <td>0.0</td>\n",
       "      <td>NaN</td>\n",
       "      <td>NaN</td>\n",
       "      <td>NaN</td>\n",
       "      <td>NaN</td>\n",
       "      <td>NaN</td>\n",
       "      <td>NaN</td>\n",
       "      <td>NaN</td>\n",
       "      <td>...</td>\n",
       "      <td>NaN</td>\n",
       "      <td>NaN</td>\n",
       "      <td>NaN</td>\n",
       "      <td>0.0</td>\n",
       "      <td>0.0</td>\n",
       "      <td>0.0</td>\n",
       "      <td>NaN</td>\n",
       "      <td>0.0</td>\n",
       "      <td>NaN</td>\n",
       "      <td>2000</td>\n",
       "    </tr>\n",
       "    <tr>\n",
       "      <th>2000-01-06 00:00:00+00:00</th>\n",
       "      <td>NaN</td>\n",
       "      <td>NaN</td>\n",
       "      <td>0.0</td>\n",
       "      <td>NaN</td>\n",
       "      <td>NaN</td>\n",
       "      <td>NaN</td>\n",
       "      <td>NaN</td>\n",
       "      <td>NaN</td>\n",
       "      <td>NaN</td>\n",
       "      <td>NaN</td>\n",
       "      <td>...</td>\n",
       "      <td>NaN</td>\n",
       "      <td>NaN</td>\n",
       "      <td>NaN</td>\n",
       "      <td>0.0</td>\n",
       "      <td>0.0</td>\n",
       "      <td>0.0</td>\n",
       "      <td>NaN</td>\n",
       "      <td>0.0</td>\n",
       "      <td>NaN</td>\n",
       "      <td>2000</td>\n",
       "    </tr>\n",
       "    <tr>\n",
       "      <th>2000-01-07 00:00:00+00:00</th>\n",
       "      <td>NaN</td>\n",
       "      <td>NaN</td>\n",
       "      <td>0.0</td>\n",
       "      <td>NaN</td>\n",
       "      <td>NaN</td>\n",
       "      <td>NaN</td>\n",
       "      <td>NaN</td>\n",
       "      <td>NaN</td>\n",
       "      <td>NaN</td>\n",
       "      <td>NaN</td>\n",
       "      <td>...</td>\n",
       "      <td>NaN</td>\n",
       "      <td>NaN</td>\n",
       "      <td>NaN</td>\n",
       "      <td>0.0</td>\n",
       "      <td>0.0</td>\n",
       "      <td>0.0</td>\n",
       "      <td>NaN</td>\n",
       "      <td>0.0</td>\n",
       "      <td>NaN</td>\n",
       "      <td>2000</td>\n",
       "    </tr>\n",
       "    <tr>\n",
       "      <th>...</th>\n",
       "      <td>...</td>\n",
       "      <td>...</td>\n",
       "      <td>...</td>\n",
       "      <td>...</td>\n",
       "      <td>...</td>\n",
       "      <td>...</td>\n",
       "      <td>...</td>\n",
       "      <td>...</td>\n",
       "      <td>...</td>\n",
       "      <td>...</td>\n",
       "      <td>...</td>\n",
       "      <td>...</td>\n",
       "      <td>...</td>\n",
       "      <td>...</td>\n",
       "      <td>...</td>\n",
       "      <td>...</td>\n",
       "      <td>...</td>\n",
       "      <td>...</td>\n",
       "      <td>...</td>\n",
       "      <td>...</td>\n",
       "      <td>...</td>\n",
       "    </tr>\n",
       "    <tr>\n",
       "      <th>2022-08-05 00:00:00+00:00</th>\n",
       "      <td>0.0</td>\n",
       "      <td>0.0</td>\n",
       "      <td>0.0</td>\n",
       "      <td>0.0</td>\n",
       "      <td>0.0</td>\n",
       "      <td>0.0</td>\n",
       "      <td>0.0</td>\n",
       "      <td>0.0</td>\n",
       "      <td>0.0</td>\n",
       "      <td>0.0</td>\n",
       "      <td>...</td>\n",
       "      <td>0.0</td>\n",
       "      <td>0.1</td>\n",
       "      <td>0.0</td>\n",
       "      <td>0.0</td>\n",
       "      <td>0.0</td>\n",
       "      <td>0.0</td>\n",
       "      <td>0.0</td>\n",
       "      <td>0.0</td>\n",
       "      <td>0.0</td>\n",
       "      <td>2022</td>\n",
       "    </tr>\n",
       "    <tr>\n",
       "      <th>2022-08-08 00:00:00+00:00</th>\n",
       "      <td>0.0</td>\n",
       "      <td>0.0</td>\n",
       "      <td>0.0</td>\n",
       "      <td>0.0</td>\n",
       "      <td>0.0</td>\n",
       "      <td>0.0</td>\n",
       "      <td>0.0</td>\n",
       "      <td>0.0</td>\n",
       "      <td>0.0</td>\n",
       "      <td>0.0</td>\n",
       "      <td>...</td>\n",
       "      <td>0.0</td>\n",
       "      <td>0.0</td>\n",
       "      <td>0.0</td>\n",
       "      <td>0.0</td>\n",
       "      <td>0.0</td>\n",
       "      <td>0.0</td>\n",
       "      <td>0.0</td>\n",
       "      <td>0.0</td>\n",
       "      <td>0.0</td>\n",
       "      <td>2022</td>\n",
       "    </tr>\n",
       "    <tr>\n",
       "      <th>2022-08-09 00:00:00+00:00</th>\n",
       "      <td>0.0</td>\n",
       "      <td>0.0</td>\n",
       "      <td>0.0</td>\n",
       "      <td>0.0</td>\n",
       "      <td>0.0</td>\n",
       "      <td>0.0</td>\n",
       "      <td>0.0</td>\n",
       "      <td>0.0</td>\n",
       "      <td>0.0</td>\n",
       "      <td>0.0</td>\n",
       "      <td>...</td>\n",
       "      <td>0.0</td>\n",
       "      <td>0.0</td>\n",
       "      <td>0.0</td>\n",
       "      <td>0.0</td>\n",
       "      <td>0.0</td>\n",
       "      <td>0.0</td>\n",
       "      <td>0.0</td>\n",
       "      <td>0.0</td>\n",
       "      <td>0.0</td>\n",
       "      <td>2022</td>\n",
       "    </tr>\n",
       "    <tr>\n",
       "      <th>2022-08-10 00:00:00+00:00</th>\n",
       "      <td>0.0</td>\n",
       "      <td>0.0</td>\n",
       "      <td>0.0</td>\n",
       "      <td>0.0</td>\n",
       "      <td>0.0</td>\n",
       "      <td>0.0</td>\n",
       "      <td>0.0</td>\n",
       "      <td>0.0</td>\n",
       "      <td>0.0</td>\n",
       "      <td>0.0</td>\n",
       "      <td>...</td>\n",
       "      <td>0.0</td>\n",
       "      <td>0.0</td>\n",
       "      <td>0.0</td>\n",
       "      <td>0.0</td>\n",
       "      <td>0.0</td>\n",
       "      <td>0.0</td>\n",
       "      <td>0.0</td>\n",
       "      <td>0.0</td>\n",
       "      <td>0.0</td>\n",
       "      <td>2022</td>\n",
       "    </tr>\n",
       "    <tr>\n",
       "      <th>2022-08-11 00:00:00+00:00</th>\n",
       "      <td>NaN</td>\n",
       "      <td>NaN</td>\n",
       "      <td>NaN</td>\n",
       "      <td>NaN</td>\n",
       "      <td>NaN</td>\n",
       "      <td>NaN</td>\n",
       "      <td>NaN</td>\n",
       "      <td>NaN</td>\n",
       "      <td>NaN</td>\n",
       "      <td>NaN</td>\n",
       "      <td>...</td>\n",
       "      <td>NaN</td>\n",
       "      <td>NaN</td>\n",
       "      <td>NaN</td>\n",
       "      <td>NaN</td>\n",
       "      <td>NaN</td>\n",
       "      <td>NaN</td>\n",
       "      <td>NaN</td>\n",
       "      <td>NaN</td>\n",
       "      <td>NaN</td>\n",
       "      <td>2022</td>\n",
       "    </tr>\n",
       "  </tbody>\n",
       "</table>\n",
       "<p>5685 rows × 91 columns</p>\n",
       "</div>"
      ],
      "text/plain": [
       "symbol                     RRRP3.SA  ALPA4.SA  ABEV3.SA  AMER3.SA  ASAI3.SA  \\\n",
       "Date                                                                          \n",
       "2000-01-03 00:00:00+00:00       NaN       NaN       NaN       NaN       NaN   \n",
       "2000-01-04 00:00:00+00:00       NaN       NaN       NaN       NaN       NaN   \n",
       "2000-01-05 00:00:00+00:00       NaN       NaN       0.0       NaN       NaN   \n",
       "2000-01-06 00:00:00+00:00       NaN       NaN       0.0       NaN       NaN   \n",
       "2000-01-07 00:00:00+00:00       NaN       NaN       0.0       NaN       NaN   \n",
       "...                             ...       ...       ...       ...       ...   \n",
       "2022-08-05 00:00:00+00:00       0.0       0.0       0.0       0.0       0.0   \n",
       "2022-08-08 00:00:00+00:00       0.0       0.0       0.0       0.0       0.0   \n",
       "2022-08-09 00:00:00+00:00       0.0       0.0       0.0       0.0       0.0   \n",
       "2022-08-10 00:00:00+00:00       0.0       0.0       0.0       0.0       0.0   \n",
       "2022-08-11 00:00:00+00:00       NaN       NaN       NaN       NaN       NaN   \n",
       "\n",
       "symbol                     AZUL4.SA  B3SA3.SA  BPAN4.SA  BBSE3.SA  BRML3.SA  \\\n",
       "Date                                                                          \n",
       "2000-01-03 00:00:00+00:00       NaN       NaN       NaN       NaN       NaN   \n",
       "2000-01-04 00:00:00+00:00       NaN       NaN       NaN       NaN       NaN   \n",
       "2000-01-05 00:00:00+00:00       NaN       NaN       NaN       NaN       NaN   \n",
       "2000-01-06 00:00:00+00:00       NaN       NaN       NaN       NaN       NaN   \n",
       "2000-01-07 00:00:00+00:00       NaN       NaN       NaN       NaN       NaN   \n",
       "...                             ...       ...       ...       ...       ...   \n",
       "2022-08-05 00:00:00+00:00       0.0       0.0       0.0       0.0       0.0   \n",
       "2022-08-08 00:00:00+00:00       0.0       0.0       0.0       0.0       0.0   \n",
       "2022-08-09 00:00:00+00:00       0.0       0.0       0.0       0.0       0.0   \n",
       "2022-08-10 00:00:00+00:00       0.0       0.0       0.0       0.0       0.0   \n",
       "2022-08-11 00:00:00+00:00       NaN       NaN       NaN       NaN       NaN   \n",
       "\n",
       "symbol                     ...  TIMS3.SA  TOTS3.SA  UGPA3.SA  USIM5.SA  \\\n",
       "Date                       ...                                           \n",
       "2000-01-03 00:00:00+00:00  ...       NaN       NaN       NaN       0.0   \n",
       "2000-01-04 00:00:00+00:00  ...       NaN       NaN       NaN       0.0   \n",
       "2000-01-05 00:00:00+00:00  ...       NaN       NaN       NaN       0.0   \n",
       "2000-01-06 00:00:00+00:00  ...       NaN       NaN       NaN       0.0   \n",
       "2000-01-07 00:00:00+00:00  ...       NaN       NaN       NaN       0.0   \n",
       "...                        ...       ...       ...       ...       ...   \n",
       "2022-08-05 00:00:00+00:00  ...       0.0       0.1       0.0       0.0   \n",
       "2022-08-08 00:00:00+00:00  ...       0.0       0.0       0.0       0.0   \n",
       "2022-08-09 00:00:00+00:00  ...       0.0       0.0       0.0       0.0   \n",
       "2022-08-10 00:00:00+00:00  ...       0.0       0.0       0.0       0.0   \n",
       "2022-08-11 00:00:00+00:00  ...       NaN       NaN       NaN       NaN   \n",
       "\n",
       "symbol                     VALE3.SA  VIIA3.SA  VBBR3.SA  WEGE3.SA  YDUQ3.SA  \\\n",
       "Date                                                                          \n",
       "2000-01-03 00:00:00+00:00       0.0       0.0       NaN       0.0       NaN   \n",
       "2000-01-04 00:00:00+00:00       0.0       0.0       NaN       0.0       NaN   \n",
       "2000-01-05 00:00:00+00:00       0.0       0.0       NaN       0.0       NaN   \n",
       "2000-01-06 00:00:00+00:00       0.0       0.0       NaN       0.0       NaN   \n",
       "2000-01-07 00:00:00+00:00       0.0       0.0       NaN       0.0       NaN   \n",
       "...                             ...       ...       ...       ...       ...   \n",
       "2022-08-05 00:00:00+00:00       0.0       0.0       0.0       0.0       0.0   \n",
       "2022-08-08 00:00:00+00:00       0.0       0.0       0.0       0.0       0.0   \n",
       "2022-08-09 00:00:00+00:00       0.0       0.0       0.0       0.0       0.0   \n",
       "2022-08-10 00:00:00+00:00       0.0       0.0       0.0       0.0       0.0   \n",
       "2022-08-11 00:00:00+00:00       NaN       NaN       NaN       NaN       NaN   \n",
       "\n",
       "symbol                     year  \n",
       "Date                             \n",
       "2000-01-03 00:00:00+00:00  2000  \n",
       "2000-01-04 00:00:00+00:00  2000  \n",
       "2000-01-05 00:00:00+00:00  2000  \n",
       "2000-01-06 00:00:00+00:00  2000  \n",
       "2000-01-07 00:00:00+00:00  2000  \n",
       "...                         ...  \n",
       "2022-08-05 00:00:00+00:00  2022  \n",
       "2022-08-08 00:00:00+00:00  2022  \n",
       "2022-08-09 00:00:00+00:00  2022  \n",
       "2022-08-10 00:00:00+00:00  2022  \n",
       "2022-08-11 00:00:00+00:00  2022  \n",
       "\n",
       "[5685 rows x 91 columns]"
      ]
     },
     "execution_count": 20,
     "metadata": {},
     "output_type": "execute_result"
    }
   ],
   "source": [
    "#inserindo a coluna ano no df\n",
    "tickers_dividends['year'] = tickers_dividends.index.strftime('%Y')\n",
    "tickers_dividends"
   ]
  },
  {
   "cell_type": "code",
   "execution_count": 21,
   "id": "36cbd599",
   "metadata": {},
   "outputs": [
    {
     "data": {
      "text/html": [
       "<div>\n",
       "<style scoped>\n",
       "    .dataframe tbody tr th:only-of-type {\n",
       "        vertical-align: middle;\n",
       "    }\n",
       "\n",
       "    .dataframe tbody tr th {\n",
       "        vertical-align: top;\n",
       "    }\n",
       "\n",
       "    .dataframe thead th {\n",
       "        text-align: right;\n",
       "    }\n",
       "</style>\n",
       "<table border=\"1\" class=\"dataframe\">\n",
       "  <thead>\n",
       "    <tr style=\"text-align: right;\">\n",
       "      <th>symbol</th>\n",
       "      <th>ABEV3.SA</th>\n",
       "      <th>ALPA4.SA</th>\n",
       "      <th>AMER3.SA</th>\n",
       "      <th>ASAI3.SA</th>\n",
       "      <th>AZUL4.SA</th>\n",
       "    </tr>\n",
       "    <tr>\n",
       "      <th>year</th>\n",
       "      <th></th>\n",
       "      <th></th>\n",
       "      <th></th>\n",
       "      <th></th>\n",
       "      <th></th>\n",
       "    </tr>\n",
       "  </thead>\n",
       "  <tbody>\n",
       "    <tr>\n",
       "      <th>2000</th>\n",
       "      <td>0.000000</td>\n",
       "      <td>0.000000</td>\n",
       "      <td>0.000000</td>\n",
       "      <td>0.000000</td>\n",
       "      <td>0.0</td>\n",
       "    </tr>\n",
       "    <tr>\n",
       "      <th>2001</th>\n",
       "      <td>0.000000</td>\n",
       "      <td>0.000000</td>\n",
       "      <td>0.000000</td>\n",
       "      <td>0.000000</td>\n",
       "      <td>0.0</td>\n",
       "    </tr>\n",
       "    <tr>\n",
       "      <th>2002</th>\n",
       "      <td>0.000000</td>\n",
       "      <td>0.000000</td>\n",
       "      <td>0.000000</td>\n",
       "      <td>0.000000</td>\n",
       "      <td>0.0</td>\n",
       "    </tr>\n",
       "    <tr>\n",
       "      <th>2003</th>\n",
       "      <td>0.000000</td>\n",
       "      <td>0.000000</td>\n",
       "      <td>0.000000</td>\n",
       "      <td>0.000000</td>\n",
       "      <td>0.0</td>\n",
       "    </tr>\n",
       "    <tr>\n",
       "      <th>2004</th>\n",
       "      <td>0.000000</td>\n",
       "      <td>0.000000</td>\n",
       "      <td>0.000000</td>\n",
       "      <td>0.000000</td>\n",
       "      <td>0.0</td>\n",
       "    </tr>\n",
       "    <tr>\n",
       "      <th>2005</th>\n",
       "      <td>0.000000</td>\n",
       "      <td>0.000000</td>\n",
       "      <td>0.000000</td>\n",
       "      <td>0.000000</td>\n",
       "      <td>0.0</td>\n",
       "    </tr>\n",
       "    <tr>\n",
       "      <th>2006</th>\n",
       "      <td>0.000000</td>\n",
       "      <td>0.000000</td>\n",
       "      <td>0.122644</td>\n",
       "      <td>0.000000</td>\n",
       "      <td>0.0</td>\n",
       "    </tr>\n",
       "    <tr>\n",
       "      <th>2007</th>\n",
       "      <td>0.016302</td>\n",
       "      <td>0.000000</td>\n",
       "      <td>0.000000</td>\n",
       "      <td>0.000000</td>\n",
       "      <td>0.0</td>\n",
       "    </tr>\n",
       "    <tr>\n",
       "      <th>2008</th>\n",
       "      <td>0.097491</td>\n",
       "      <td>0.000000</td>\n",
       "      <td>0.115909</td>\n",
       "      <td>0.000000</td>\n",
       "      <td>0.0</td>\n",
       "    </tr>\n",
       "    <tr>\n",
       "      <th>2009</th>\n",
       "      <td>0.163877</td>\n",
       "      <td>0.009009</td>\n",
       "      <td>0.143059</td>\n",
       "      <td>0.000000</td>\n",
       "      <td>0.0</td>\n",
       "    </tr>\n",
       "    <tr>\n",
       "      <th>2010</th>\n",
       "      <td>0.117310</td>\n",
       "      <td>0.061423</td>\n",
       "      <td>0.089821</td>\n",
       "      <td>0.000000</td>\n",
       "      <td>0.0</td>\n",
       "    </tr>\n",
       "    <tr>\n",
       "      <th>2011</th>\n",
       "      <td>0.217601</td>\n",
       "      <td>0.476419</td>\n",
       "      <td>0.049681</td>\n",
       "      <td>0.000000</td>\n",
       "      <td>0.0</td>\n",
       "    </tr>\n",
       "    <tr>\n",
       "      <th>2012</th>\n",
       "      <td>0.476664</td>\n",
       "      <td>0.153830</td>\n",
       "      <td>0.000000</td>\n",
       "      <td>0.000000</td>\n",
       "      <td>0.0</td>\n",
       "    </tr>\n",
       "    <tr>\n",
       "      <th>2013</th>\n",
       "      <td>0.257176</td>\n",
       "      <td>0.154010</td>\n",
       "      <td>0.000000</td>\n",
       "      <td>0.000000</td>\n",
       "      <td>0.0</td>\n",
       "    </tr>\n",
       "    <tr>\n",
       "      <th>2014</th>\n",
       "      <td>0.593980</td>\n",
       "      <td>0.152876</td>\n",
       "      <td>0.000000</td>\n",
       "      <td>0.000000</td>\n",
       "      <td>0.0</td>\n",
       "    </tr>\n",
       "    <tr>\n",
       "      <th>2015</th>\n",
       "      <td>1.580000</td>\n",
       "      <td>0.730639</td>\n",
       "      <td>0.000000</td>\n",
       "      <td>0.000000</td>\n",
       "      <td>0.0</td>\n",
       "    </tr>\n",
       "    <tr>\n",
       "      <th>2016</th>\n",
       "      <td>0.640000</td>\n",
       "      <td>0.240310</td>\n",
       "      <td>0.000000</td>\n",
       "      <td>0.000000</td>\n",
       "      <td>0.0</td>\n",
       "    </tr>\n",
       "    <tr>\n",
       "      <th>2017</th>\n",
       "      <td>0.540000</td>\n",
       "      <td>0.272388</td>\n",
       "      <td>0.000000</td>\n",
       "      <td>0.000000</td>\n",
       "      <td>0.0</td>\n",
       "    </tr>\n",
       "    <tr>\n",
       "      <th>2018</th>\n",
       "      <td>0.550000</td>\n",
       "      <td>0.377027</td>\n",
       "      <td>0.000000</td>\n",
       "      <td>0.000000</td>\n",
       "      <td>0.0</td>\n",
       "    </tr>\n",
       "    <tr>\n",
       "      <th>2019</th>\n",
       "      <td>0.490600</td>\n",
       "      <td>0.000000</td>\n",
       "      <td>0.000000</td>\n",
       "      <td>0.000000</td>\n",
       "      <td>0.0</td>\n",
       "    </tr>\n",
       "    <tr>\n",
       "      <th>2020</th>\n",
       "      <td>0.413700</td>\n",
       "      <td>0.055166</td>\n",
       "      <td>0.000000</td>\n",
       "      <td>0.000000</td>\n",
       "      <td>0.0</td>\n",
       "    </tr>\n",
       "    <tr>\n",
       "      <th>2021</th>\n",
       "      <td>0.680300</td>\n",
       "      <td>0.271712</td>\n",
       "      <td>0.000000</td>\n",
       "      <td>0.110341</td>\n",
       "      <td>0.0</td>\n",
       "    </tr>\n",
       "    <tr>\n",
       "      <th>2022</th>\n",
       "      <td>0.000000</td>\n",
       "      <td>0.163027</td>\n",
       "      <td>0.620963</td>\n",
       "      <td>0.125038</td>\n",
       "      <td>0.0</td>\n",
       "    </tr>\n",
       "  </tbody>\n",
       "</table>\n",
       "</div>"
      ],
      "text/plain": [
       "symbol  ABEV3.SA  ALPA4.SA  AMER3.SA  ASAI3.SA  AZUL4.SA\n",
       "year                                                    \n",
       "2000    0.000000  0.000000  0.000000  0.000000       0.0\n",
       "2001    0.000000  0.000000  0.000000  0.000000       0.0\n",
       "2002    0.000000  0.000000  0.000000  0.000000       0.0\n",
       "2003    0.000000  0.000000  0.000000  0.000000       0.0\n",
       "2004    0.000000  0.000000  0.000000  0.000000       0.0\n",
       "2005    0.000000  0.000000  0.000000  0.000000       0.0\n",
       "2006    0.000000  0.000000  0.122644  0.000000       0.0\n",
       "2007    0.016302  0.000000  0.000000  0.000000       0.0\n",
       "2008    0.097491  0.000000  0.115909  0.000000       0.0\n",
       "2009    0.163877  0.009009  0.143059  0.000000       0.0\n",
       "2010    0.117310  0.061423  0.089821  0.000000       0.0\n",
       "2011    0.217601  0.476419  0.049681  0.000000       0.0\n",
       "2012    0.476664  0.153830  0.000000  0.000000       0.0\n",
       "2013    0.257176  0.154010  0.000000  0.000000       0.0\n",
       "2014    0.593980  0.152876  0.000000  0.000000       0.0\n",
       "2015    1.580000  0.730639  0.000000  0.000000       0.0\n",
       "2016    0.640000  0.240310  0.000000  0.000000       0.0\n",
       "2017    0.540000  0.272388  0.000000  0.000000       0.0\n",
       "2018    0.550000  0.377027  0.000000  0.000000       0.0\n",
       "2019    0.490600  0.000000  0.000000  0.000000       0.0\n",
       "2020    0.413700  0.055166  0.000000  0.000000       0.0\n",
       "2021    0.680300  0.271712  0.000000  0.110341       0.0\n",
       "2022    0.000000  0.163027  0.620963  0.125038       0.0"
      ]
     },
     "execution_count": 21,
     "metadata": {},
     "output_type": "execute_result"
    }
   ],
   "source": [
    "#criando um pivot table por ano e soma dos dividendos\n",
    "df_pivot_dividends = pd.pivot_table(tickers_dividends, values=tickers_dividends, index=['year'], columns=[], aggfunc='sum')\n",
    "df_pivot_dividends.iloc[:, 0:5]"
   ]
  },
  {
   "cell_type": "markdown",
   "id": "2fea3950",
   "metadata": {},
   "source": [
    "## Plotando gráfico da soma dos dividendos dos 10 primeiros ativos por ano"
   ]
  },
  {
   "cell_type": "code",
   "execution_count": 22,
   "id": "b2bae0eb",
   "metadata": {},
   "outputs": [
    {
     "data": {
      "image/png": "[encoded data removed]",
      "text/plain": [
       "<Figure size 864x864 with 1 Axes>"
      ]
     },
     "metadata": {},
     "output_type": "display_data"
    }
   ],
   "source": [
    "NUMBER_BASE = 0\n",
    "\n",
    "#visualizando grafico\n",
    "plt.figure(figsize=(12,12))\n",
    "sns.set(font_scale=0.8)\n",
    "\n",
    "ax = sns.heatmap(df_pivot_dividends.iloc[:, 0:10], \n",
    "                 annot=True, \n",
    "                 fmt='.2', \n",
    "                 cmap='RdYlGn', \n",
    "                 vmin=NUMBER_BASE - 2, \n",
    "                 vmax=NUMBER_BASE + 2, \n",
    "                 center=NUMBER_BASE, \n",
    "                 cbar=False)\n",
    "\n",
    "ax.set_title(f'Soma dos Dividendos (por ano)', pad=15, fontdict={'fontsize':12, 'fontweight':600})\n",
    "ax.tick_params(axis = \"y\", labelright =True, labelrotation=.90, labelsize='large')\n",
    "ax.tick_params(axis = \"x\", labeltop=True, labelsize='large')"
   ]
  },
  {
   "cell_type": "code",
   "execution_count": null,
   "id": "4d50c777",
   "metadata": {},
   "outputs": [],
   "source": []
  }
 ],
 "metadata": {
  "kernelspec": {
   "display_name": "Python 3 (ipykernel)",
   "language": "python",
   "name": "python3"
  },
  "language_info": {
   "codemirror_mode": {
    "name": "ipython",
    "version": 3
   },
   "file_extension": ".py",
   "mimetype": "text/x-python",
   "name": "python",
   "nbconvert_exporter": "python",
   "pygments_lexer": "ipython3",
   "version": "3.9.12"
  }
 },
 "nbformat": 4,
 "nbformat_minor": 5
}
